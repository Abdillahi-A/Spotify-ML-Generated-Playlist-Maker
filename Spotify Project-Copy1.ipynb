{
 "cells": [
  {
   "cell_type": "markdown",
   "metadata": {},
   "source": [
    "# Part 1. Data exploration"
   ]
  },
  {
   "cell_type": "markdown",
   "metadata": {},
   "source": [
    "**In this part, we'll start by loading the data and performing some exploaratory data analysis in order to get a feel of the data and learn some insights into my music taste.** "
   ]
  },
  {
   "cell_type": "markdown",
   "metadata": {},
   "source": [
    "### Import Dependencies"
   ]
  },
  {
   "cell_type": "code",
   "execution_count": 1,
   "metadata": {},
   "outputs": [],
   "source": [
    "import pandas as pd\n",
    "import matplotlib.pyplot as plt\n",
    "import seaborn as sns\n",
    "plt.style.use('seaborn')\n",
    "pd.set_option('display.max_rows', 100)"
   ]
  },
  {
   "cell_type": "markdown",
   "metadata": {},
   "source": [
    "### Load Data\n",
    "**NB: Spotify limits the amount of rows/observations on each each file to 10,000. Thus we have 4 files we need to load.**"
   ]
  },
  {
   "cell_type": "code",
   "execution_count": 2,
   "metadata": {},
   "outputs": [],
   "source": [
    "df1 = pd.read_json('/Users/Abdillahi/Desktop/Uni/IM939-Data Science Across Disciplines- Principles, Practice and Critique /Assessment 2/MyData/StreamingHistory0.json')\n",
    "df2 = pd.read_json('/Users/Abdillahi/Desktop/Uni/IM939-Data Science Across Disciplines- Principles, Practice and Critique /Assessment 2/MyData/StreamingHistory1.json')\n",
    "df3 = pd.read_json('/Users/Abdillahi/Desktop/Uni/IM939-Data Science Across Disciplines- Principles, Practice and Critique /Assessment 2/MyData/StreamingHistory2.json')\n",
    "df4 = pd.read_json('/Users/Abdillahi/Desktop/Uni/IM939-Data Science Across Disciplines- Principles, Practice and Critique /Assessment 2/MyData/StreamingHistory3.json')"
   ]
  },
  {
   "cell_type": "markdown",
   "metadata": {},
   "source": [
    "### Combine the data \n",
    "\n",
    "**Lets concatenate each of our dataframes into one.**"
   ]
  },
  {
   "cell_type": "code",
   "execution_count": 3,
   "metadata": {},
   "outputs": [],
   "source": [
    "df = pd.concat([df1,df2,df3,df4],axis=0)"
   ]
  },
  {
   "cell_type": "code",
   "execution_count": 4,
   "metadata": {},
   "outputs": [
    {
     "data": {
      "text/html": [
       "<div>\n",
       "<style scoped>\n",
       "    .dataframe tbody tr th:only-of-type {\n",
       "        vertical-align: middle;\n",
       "    }\n",
       "\n",
       "    .dataframe tbody tr th {\n",
       "        vertical-align: top;\n",
       "    }\n",
       "\n",
       "    .dataframe thead th {\n",
       "        text-align: right;\n",
       "    }\n",
       "</style>\n",
       "<table border=\"1\" class=\"dataframe\">\n",
       "  <thead>\n",
       "    <tr style=\"text-align: right;\">\n",
       "      <th></th>\n",
       "      <th>artistName</th>\n",
       "      <th>endTime</th>\n",
       "      <th>msPlayed</th>\n",
       "      <th>trackName</th>\n",
       "    </tr>\n",
       "  </thead>\n",
       "  <tbody>\n",
       "    <tr>\n",
       "      <th>0</th>\n",
       "      <td>The Revivalists</td>\n",
       "      <td>2019-06-21 17:37</td>\n",
       "      <td>24008</td>\n",
       "      <td>Wish I Knew You</td>\n",
       "    </tr>\n",
       "    <tr>\n",
       "      <th>1</th>\n",
       "      <td>The Game</td>\n",
       "      <td>2019-06-30 23:54</td>\n",
       "      <td>277025</td>\n",
       "      <td>Dreams</td>\n",
       "    </tr>\n",
       "    <tr>\n",
       "      <th>2</th>\n",
       "      <td>The Game</td>\n",
       "      <td>2019-07-01 18:25</td>\n",
       "      <td>1173</td>\n",
       "      <td>Dreams</td>\n",
       "    </tr>\n",
       "    <tr>\n",
       "      <th>3</th>\n",
       "      <td>The Hundred In The Hands</td>\n",
       "      <td>2019-07-01 18:29</td>\n",
       "      <td>211586</td>\n",
       "      <td>Dressed In Dresden</td>\n",
       "    </tr>\n",
       "    <tr>\n",
       "      <th>4</th>\n",
       "      <td>Tennis</td>\n",
       "      <td>2019-07-01 18:30</td>\n",
       "      <td>1770</td>\n",
       "      <td>Marathon</td>\n",
       "    </tr>\n",
       "  </tbody>\n",
       "</table>\n",
       "</div>"
      ],
      "text/plain": [
       "                 artistName           endTime  msPlayed           trackName\n",
       "0           The Revivalists  2019-06-21 17:37     24008     Wish I Knew You\n",
       "1                  The Game  2019-06-30 23:54    277025              Dreams\n",
       "2                  The Game  2019-07-01 18:25      1173              Dreams\n",
       "3  The Hundred In The Hands  2019-07-01 18:29    211586  Dressed In Dresden\n",
       "4                    Tennis  2019-07-01 18:30      1770            Marathon"
      ]
     },
     "execution_count": 4,
     "metadata": {},
     "output_type": "execute_result"
    }
   ],
   "source": [
    "df.head()"
   ]
  },
  {
   "cell_type": "markdown",
   "metadata": {},
   "source": [
    "### Check no. of rows and columns"
   ]
  },
  {
   "cell_type": "code",
   "execution_count": 5,
   "metadata": {},
   "outputs": [
    {
     "data": {
      "text/plain": [
       "(37483, 4)"
      ]
     },
     "execution_count": 5,
     "metadata": {},
     "output_type": "execute_result"
    }
   ],
   "source": [
    "df.shape"
   ]
  },
  {
   "cell_type": "markdown",
   "metadata": {},
   "source": [
    "### Check for missing values"
   ]
  },
  {
   "cell_type": "code",
   "execution_count": 6,
   "metadata": {},
   "outputs": [
    {
     "data": {
      "text/plain": [
       "artistName    0\n",
       "endTime       0\n",
       "msPlayed      0\n",
       "trackName     0\n",
       "dtype: int64"
      ]
     },
     "execution_count": 6,
     "metadata": {},
     "output_type": "execute_result"
    }
   ],
   "source": [
    "df.isnull().sum() "
   ]
  },
  {
   "cell_type": "markdown",
   "metadata": {},
   "source": [
    "- **No missing values found within our data which is great**"
   ]
  },
  {
   "cell_type": "markdown",
   "metadata": {},
   "source": [
    "### Check data types of each column"
   ]
  },
  {
   "cell_type": "code",
   "execution_count": 7,
   "metadata": {
    "scrolled": false
   },
   "outputs": [
    {
     "name": "stdout",
     "output_type": "stream",
     "text": [
      "<class 'pandas.core.frame.DataFrame'>\n",
      "Int64Index: 37483 entries, 0 to 7482\n",
      "Data columns (total 4 columns):\n",
      "artistName    37483 non-null object\n",
      "endTime       37483 non-null object\n",
      "msPlayed      37483 non-null int64\n",
      "trackName     37483 non-null object\n",
      "dtypes: int64(1), object(3)\n",
      "memory usage: 1.4+ MB\n"
     ]
    }
   ],
   "source": [
    "df.info()"
   ]
  },
  {
   "cell_type": "markdown",
   "metadata": {},
   "source": [
    "- **Looks like endTime is not in datetime format when it should be. Lets convert it.**"
   ]
  },
  {
   "cell_type": "markdown",
   "metadata": {},
   "source": [
    "### Convert endTime columnt to datetime object"
   ]
  },
  {
   "cell_type": "code",
   "execution_count": 8,
   "metadata": {},
   "outputs": [],
   "source": [
    "df['endTime'] =  pd.to_datetime(df['endTime'])"
   ]
  },
  {
   "cell_type": "code",
   "execution_count": 9,
   "metadata": {
    "scrolled": false
   },
   "outputs": [
    {
     "name": "stdout",
     "output_type": "stream",
     "text": [
      "<class 'pandas.core.frame.DataFrame'>\n",
      "Int64Index: 37483 entries, 0 to 7482\n",
      "Data columns (total 4 columns):\n",
      "artistName    37483 non-null object\n",
      "endTime       37483 non-null datetime64[ns]\n",
      "msPlayed      37483 non-null int64\n",
      "trackName     37483 non-null object\n",
      "dtypes: datetime64[ns](1), int64(1), object(2)\n",
      "memory usage: 1.4+ MB\n"
     ]
    }
   ],
   "source": [
    "df.info()"
   ]
  },
  {
   "cell_type": "code",
   "execution_count": 10,
   "metadata": {},
   "outputs": [
    {
     "data": {
      "text/html": [
       "<div>\n",
       "<style scoped>\n",
       "    .dataframe tbody tr th:only-of-type {\n",
       "        vertical-align: middle;\n",
       "    }\n",
       "\n",
       "    .dataframe tbody tr th {\n",
       "        vertical-align: top;\n",
       "    }\n",
       "\n",
       "    .dataframe thead th {\n",
       "        text-align: right;\n",
       "    }\n",
       "</style>\n",
       "<table border=\"1\" class=\"dataframe\">\n",
       "  <thead>\n",
       "    <tr style=\"text-align: right;\">\n",
       "      <th></th>\n",
       "      <th>artistName</th>\n",
       "      <th>endTime</th>\n",
       "      <th>msPlayed</th>\n",
       "      <th>trackName</th>\n",
       "    </tr>\n",
       "  </thead>\n",
       "  <tbody>\n",
       "    <tr>\n",
       "      <th>0</th>\n",
       "      <td>The Revivalists</td>\n",
       "      <td>2019-06-21 17:37:00</td>\n",
       "      <td>24008</td>\n",
       "      <td>Wish I Knew You</td>\n",
       "    </tr>\n",
       "    <tr>\n",
       "      <th>1</th>\n",
       "      <td>The Game</td>\n",
       "      <td>2019-06-30 23:54:00</td>\n",
       "      <td>277025</td>\n",
       "      <td>Dreams</td>\n",
       "    </tr>\n",
       "    <tr>\n",
       "      <th>2</th>\n",
       "      <td>The Game</td>\n",
       "      <td>2019-07-01 18:25:00</td>\n",
       "      <td>1173</td>\n",
       "      <td>Dreams</td>\n",
       "    </tr>\n",
       "    <tr>\n",
       "      <th>3</th>\n",
       "      <td>The Hundred In The Hands</td>\n",
       "      <td>2019-07-01 18:29:00</td>\n",
       "      <td>211586</td>\n",
       "      <td>Dressed In Dresden</td>\n",
       "    </tr>\n",
       "    <tr>\n",
       "      <th>4</th>\n",
       "      <td>Tennis</td>\n",
       "      <td>2019-07-01 18:30:00</td>\n",
       "      <td>1770</td>\n",
       "      <td>Marathon</td>\n",
       "    </tr>\n",
       "  </tbody>\n",
       "</table>\n",
       "</div>"
      ],
      "text/plain": [
       "                 artistName             endTime  msPlayed           trackName\n",
       "0           The Revivalists 2019-06-21 17:37:00     24008     Wish I Knew You\n",
       "1                  The Game 2019-06-30 23:54:00    277025              Dreams\n",
       "2                  The Game 2019-07-01 18:25:00      1173              Dreams\n",
       "3  The Hundred In The Hands 2019-07-01 18:29:00    211586  Dressed In Dresden\n",
       "4                    Tennis 2019-07-01 18:30:00      1770            Marathon"
      ]
     },
     "execution_count": 10,
     "metadata": {},
     "output_type": "execute_result"
    }
   ],
   "source": [
    "df.head()"
   ]
  },
  {
   "cell_type": "markdown",
   "metadata": {},
   "source": [
    "- **A quick inspection of the first few rows shows that we have repeat data. Thus we can conclude that each track represents a single play and not unique plays.**"
   ]
  },
  {
   "cell_type": "markdown",
   "metadata": {},
   "source": [
    "### How many tracks have I streamed since 21st June 2019 ?"
   ]
  },
  {
   "cell_type": "code",
   "execution_count": 11,
   "metadata": {
    "scrolled": true
   },
   "outputs": [
    {
     "data": {
      "text/plain": [
       "37483"
      ]
     },
     "execution_count": 11,
     "metadata": {},
     "output_type": "execute_result"
    }
   ],
   "source": [
    "df.shape[0]"
   ]
  },
  {
   "cell_type": "markdown",
   "metadata": {},
   "source": [
    "- **Looks like I've streamed just under 40k tracks**"
   ]
  },
  {
   "cell_type": "markdown",
   "metadata": {},
   "source": [
    "### How many unique tracks have I streamed since 21st June 2019 ?"
   ]
  },
  {
   "cell_type": "code",
   "execution_count": 12,
   "metadata": {},
   "outputs": [],
   "source": [
    "# len(df['trackName'].unique())"
   ]
  },
  {
   "cell_type": "markdown",
   "metadata": {},
   "source": [
    "- **Initally I ran the code above, but realised that you can have songs with the same name. So this method wouldn't work**"
   ]
  },
  {
   "cell_type": "code",
   "execution_count": 13,
   "metadata": {},
   "outputs": [
    {
     "data": {
      "text/plain": [
       "8417"
      ]
     },
     "execution_count": 13,
     "metadata": {},
     "output_type": "execute_result"
    }
   ],
   "source": [
    "len(set(df['artistName'] + df['trackName'])) # a better way of getting unique tracks"
   ]
  },
  {
   "cell_type": "code",
   "execution_count": 14,
   "metadata": {},
   "outputs": [
    {
     "data": {
      "text/plain": [
       "(8417, 2)"
      ]
     },
     "execution_count": 14,
     "metadata": {},
     "output_type": "execute_result"
    }
   ],
   "source": [
    "df.groupby(['trackName','artistName']).count().shape # an alternative way of finding unique tracks"
   ]
  },
  {
   "cell_type": "markdown",
   "metadata": {},
   "source": [
    "- **Around 8500 unqiue tracks streamed**"
   ]
  },
  {
   "cell_type": "markdown",
   "metadata": {},
   "source": [
    "### Let's create a dataframe of just our unique tracks. I have a feeling we'll need this later."
   ]
  },
  {
   "cell_type": "code",
   "execution_count": 15,
   "metadata": {},
   "outputs": [],
   "source": [
    "df['artistPlusTrack'] = df['artistName'] + df['trackName']"
   ]
  },
  {
   "cell_type": "code",
   "execution_count": 16,
   "metadata": {},
   "outputs": [
    {
     "data": {
      "text/plain": [
       "(8417, 5)"
      ]
     },
     "execution_count": 16,
     "metadata": {},
     "output_type": "execute_result"
    }
   ],
   "source": [
    "uniqueTracksDf = df.drop_duplicates(subset=['artistPlusTrack'])\n",
    "uniqueTracksDf.shape"
   ]
  },
  {
   "cell_type": "markdown",
   "metadata": {},
   "source": [
    "### What 10 songs have I listened to the most ?"
   ]
  },
  {
   "cell_type": "code",
   "execution_count": 17,
   "metadata": {},
   "outputs": [
    {
     "data": {
      "text/html": [
       "<div>\n",
       "<style scoped>\n",
       "    .dataframe tbody tr th:only-of-type {\n",
       "        vertical-align: middle;\n",
       "    }\n",
       "\n",
       "    .dataframe tbody tr th {\n",
       "        vertical-align: top;\n",
       "    }\n",
       "\n",
       "    .dataframe thead th {\n",
       "        text-align: right;\n",
       "    }\n",
       "</style>\n",
       "<table border=\"1\" class=\"dataframe\">\n",
       "  <thead>\n",
       "    <tr style=\"text-align: right;\">\n",
       "      <th></th>\n",
       "      <th></th>\n",
       "      <th>msPlayed</th>\n",
       "    </tr>\n",
       "    <tr>\n",
       "      <th>trackName</th>\n",
       "      <th>artistName</th>\n",
       "      <th></th>\n",
       "    </tr>\n",
       "  </thead>\n",
       "  <tbody>\n",
       "    <tr>\n",
       "      <th>She / Swimming</th>\n",
       "      <th>Moon Ate the Dark</th>\n",
       "      <td>47333218</td>\n",
       "    </tr>\n",
       "    <tr>\n",
       "      <th>Carrage</th>\n",
       "      <th>Luke Abbott</th>\n",
       "      <td>38381304</td>\n",
       "    </tr>\n",
       "    <tr>\n",
       "      <th>Night Winds</th>\n",
       "      <th>Geographer</th>\n",
       "      <td>29533181</td>\n",
       "    </tr>\n",
       "    <tr>\n",
       "      <th>This Ain't a Love Song</th>\n",
       "      <th>Scouting For Girls</th>\n",
       "      <td>25320917</td>\n",
       "    </tr>\n",
       "    <tr>\n",
       "      <th>saman</th>\n",
       "      <th>Ólafur Arnalds</th>\n",
       "      <td>24686330</td>\n",
       "    </tr>\n",
       "    <tr>\n",
       "      <th>Paperplanes</th>\n",
       "      <th>DAO</th>\n",
       "      <td>24464181</td>\n",
       "    </tr>\n",
       "    <tr>\n",
       "      <th>MONOPOLY (with Victoria Monét)</th>\n",
       "      <th>Ariana Grande</th>\n",
       "      <td>23449896</td>\n",
       "    </tr>\n",
       "    <tr>\n",
       "      <th>Love is Wasted in the Dark</th>\n",
       "      <th>Geographer</th>\n",
       "      <td>21648664</td>\n",
       "    </tr>\n",
       "    <tr>\n",
       "      <th>In Step</th>\n",
       "      <th>Frankmusik</th>\n",
       "      <td>19361389</td>\n",
       "    </tr>\n",
       "    <tr>\n",
       "      <th>Swag Surfin'</th>\n",
       "      <th>F.L.Y. (Fast Life Yungstaz)</th>\n",
       "      <td>18126587</td>\n",
       "    </tr>\n",
       "  </tbody>\n",
       "</table>\n",
       "</div>"
      ],
      "text/plain": [
       "                                                            msPlayed\n",
       "trackName                      artistName                           \n",
       "She / Swimming                 Moon Ate the Dark            47333218\n",
       "Carrage                        Luke Abbott                  38381304\n",
       "Night Winds                    Geographer                   29533181\n",
       "This Ain't a Love Song         Scouting For Girls           25320917\n",
       "saman                          Ólafur Arnalds               24686330\n",
       "Paperplanes                    DAO                          24464181\n",
       "MONOPOLY (with Victoria Monét) Ariana Grande                23449896\n",
       "Love is Wasted in the Dark     Geographer                   21648664\n",
       "In Step                        Frankmusik                   19361389\n",
       "Swag Surfin'                   F.L.Y. (Fast Life Yungstaz)  18126587"
      ]
     },
     "execution_count": 17,
     "metadata": {},
     "output_type": "execute_result"
    }
   ],
   "source": [
    "top10 = df.groupby(['trackName','artistName']).sum().sort_values('msPlayed',ascending=False).head(10)\n",
    "top10"
   ]
  },
  {
   "cell_type": "markdown",
   "metadata": {},
   "source": [
    "### Let's visualise this"
   ]
  },
  {
   "cell_type": "code",
   "execution_count": 18,
   "metadata": {},
   "outputs": [
    {
     "data": {
      "text/plain": [
       "Text(0, 0.5, 'Milliseconds played *10^6')"
      ]
     },
     "execution_count": 18,
     "metadata": {},
     "output_type": "execute_result"
    },
    {
     "data": {
      "image/png": "[encoded data removed]",
      "text/plain": [
       "<Figure size 1296x432 with 1 Axes>"
      ]
     },
     "metadata": {
      "needs_background": "light"
     },
     "output_type": "display_data"
    }
   ],
   "source": [
    "top10.plot(y='msPlayed', kind='bar', figsize=(18,6))\n",
    "plt.xticks(rotation=45)\n",
    "plt.xlabel('Song and Artist')\n",
    "plt.ylabel('Milliseconds played *10^6')"
   ]
  },
  {
   "cell_type": "markdown",
   "metadata": {},
   "source": [
    "### Hmmm something's odd \n",
    "**I don't recognize one of the songs in my top 10, which is odd because it seems that i've listened to it for quite a significant amount of time... Let's investigate further**"
   ]
  },
  {
   "cell_type": "code",
   "execution_count": 19,
   "metadata": {
    "scrolled": false
   },
   "outputs": [
    {
     "data": {
      "text/html": [
       "<div>\n",
       "<style scoped>\n",
       "    .dataframe tbody tr th:only-of-type {\n",
       "        vertical-align: middle;\n",
       "    }\n",
       "\n",
       "    .dataframe tbody tr th {\n",
       "        vertical-align: top;\n",
       "    }\n",
       "\n",
       "    .dataframe thead th {\n",
       "        text-align: right;\n",
       "    }\n",
       "</style>\n",
       "<table border=\"1\" class=\"dataframe\">\n",
       "  <thead>\n",
       "    <tr style=\"text-align: right;\">\n",
       "      <th></th>\n",
       "      <th>artistName</th>\n",
       "      <th>endTime</th>\n",
       "      <th>msPlayed</th>\n",
       "      <th>trackName</th>\n",
       "      <th>artistPlusTrack</th>\n",
       "    </tr>\n",
       "  </thead>\n",
       "  <tbody>\n",
       "    <tr>\n",
       "      <th>5546</th>\n",
       "      <td>DAO</td>\n",
       "      <td>2020-02-06 02:46:00</td>\n",
       "      <td>136363</td>\n",
       "      <td>Paperplanes</td>\n",
       "      <td>DAOPaperplanes</td>\n",
       "    </tr>\n",
       "    <tr>\n",
       "      <th>5547</th>\n",
       "      <td>DAO</td>\n",
       "      <td>2020-02-06 02:48:00</td>\n",
       "      <td>136363</td>\n",
       "      <td>Paperplanes</td>\n",
       "      <td>DAOPaperplanes</td>\n",
       "    </tr>\n",
       "    <tr>\n",
       "      <th>5548</th>\n",
       "      <td>DAO</td>\n",
       "      <td>2020-02-06 02:50:00</td>\n",
       "      <td>136363</td>\n",
       "      <td>Paperplanes</td>\n",
       "      <td>DAOPaperplanes</td>\n",
       "    </tr>\n",
       "    <tr>\n",
       "      <th>5549</th>\n",
       "      <td>DAO</td>\n",
       "      <td>2020-02-06 02:52:00</td>\n",
       "      <td>136363</td>\n",
       "      <td>Paperplanes</td>\n",
       "      <td>DAOPaperplanes</td>\n",
       "    </tr>\n",
       "    <tr>\n",
       "      <th>5550</th>\n",
       "      <td>DAO</td>\n",
       "      <td>2020-02-06 02:55:00</td>\n",
       "      <td>136363</td>\n",
       "      <td>Paperplanes</td>\n",
       "      <td>DAOPaperplanes</td>\n",
       "    </tr>\n",
       "    <tr>\n",
       "      <th>5551</th>\n",
       "      <td>DAO</td>\n",
       "      <td>2020-02-06 02:57:00</td>\n",
       "      <td>136363</td>\n",
       "      <td>Paperplanes</td>\n",
       "      <td>DAOPaperplanes</td>\n",
       "    </tr>\n",
       "    <tr>\n",
       "      <th>5552</th>\n",
       "      <td>DAO</td>\n",
       "      <td>2020-02-06 03:00:00</td>\n",
       "      <td>136363</td>\n",
       "      <td>Paperplanes</td>\n",
       "      <td>DAOPaperplanes</td>\n",
       "    </tr>\n",
       "    <tr>\n",
       "      <th>5553</th>\n",
       "      <td>DAO</td>\n",
       "      <td>2020-02-06 03:03:00</td>\n",
       "      <td>147470</td>\n",
       "      <td>Paperplanes</td>\n",
       "      <td>DAOPaperplanes</td>\n",
       "    </tr>\n",
       "    <tr>\n",
       "      <th>5554</th>\n",
       "      <td>DAO</td>\n",
       "      <td>2020-02-06 03:06:00</td>\n",
       "      <td>177910</td>\n",
       "      <td>Paperplanes</td>\n",
       "      <td>DAOPaperplanes</td>\n",
       "    </tr>\n",
       "    <tr>\n",
       "      <th>5555</th>\n",
       "      <td>DAO</td>\n",
       "      <td>2020-02-06 03:09:00</td>\n",
       "      <td>221387</td>\n",
       "      <td>Paperplanes</td>\n",
       "      <td>DAOPaperplanes</td>\n",
       "    </tr>\n",
       "    <tr>\n",
       "      <th>5556</th>\n",
       "      <td>DAO</td>\n",
       "      <td>2020-02-06 03:12:00</td>\n",
       "      <td>136363</td>\n",
       "      <td>Paperplanes</td>\n",
       "      <td>DAOPaperplanes</td>\n",
       "    </tr>\n",
       "    <tr>\n",
       "      <th>5557</th>\n",
       "      <td>DAO</td>\n",
       "      <td>2020-02-06 03:14:00</td>\n",
       "      <td>136363</td>\n",
       "      <td>Paperplanes</td>\n",
       "      <td>DAOPaperplanes</td>\n",
       "    </tr>\n",
       "    <tr>\n",
       "      <th>5558</th>\n",
       "      <td>DAO</td>\n",
       "      <td>2020-02-06 03:16:00</td>\n",
       "      <td>136363</td>\n",
       "      <td>Paperplanes</td>\n",
       "      <td>DAOPaperplanes</td>\n",
       "    </tr>\n",
       "    <tr>\n",
       "      <th>5559</th>\n",
       "      <td>DAO</td>\n",
       "      <td>2020-02-06 03:19:00</td>\n",
       "      <td>136363</td>\n",
       "      <td>Paperplanes</td>\n",
       "      <td>DAOPaperplanes</td>\n",
       "    </tr>\n",
       "    <tr>\n",
       "      <th>5560</th>\n",
       "      <td>DAO</td>\n",
       "      <td>2020-02-06 03:21:00</td>\n",
       "      <td>136363</td>\n",
       "      <td>Paperplanes</td>\n",
       "      <td>DAOPaperplanes</td>\n",
       "    </tr>\n",
       "    <tr>\n",
       "      <th>5561</th>\n",
       "      <td>DAO</td>\n",
       "      <td>2020-02-06 03:23:00</td>\n",
       "      <td>136363</td>\n",
       "      <td>Paperplanes</td>\n",
       "      <td>DAOPaperplanes</td>\n",
       "    </tr>\n",
       "    <tr>\n",
       "      <th>5562</th>\n",
       "      <td>DAO</td>\n",
       "      <td>2020-02-06 03:26:00</td>\n",
       "      <td>136363</td>\n",
       "      <td>Paperplanes</td>\n",
       "      <td>DAOPaperplanes</td>\n",
       "    </tr>\n",
       "    <tr>\n",
       "      <th>5563</th>\n",
       "      <td>DAO</td>\n",
       "      <td>2020-02-06 03:28:00</td>\n",
       "      <td>136363</td>\n",
       "      <td>Paperplanes</td>\n",
       "      <td>DAOPaperplanes</td>\n",
       "    </tr>\n",
       "    <tr>\n",
       "      <th>5564</th>\n",
       "      <td>DAO</td>\n",
       "      <td>2020-02-06 03:30:00</td>\n",
       "      <td>136363</td>\n",
       "      <td>Paperplanes</td>\n",
       "      <td>DAOPaperplanes</td>\n",
       "    </tr>\n",
       "    <tr>\n",
       "      <th>5565</th>\n",
       "      <td>DAO</td>\n",
       "      <td>2020-02-06 03:32:00</td>\n",
       "      <td>136363</td>\n",
       "      <td>Paperplanes</td>\n",
       "      <td>DAOPaperplanes</td>\n",
       "    </tr>\n",
       "    <tr>\n",
       "      <th>5566</th>\n",
       "      <td>DAO</td>\n",
       "      <td>2020-02-06 03:35:00</td>\n",
       "      <td>136363</td>\n",
       "      <td>Paperplanes</td>\n",
       "      <td>DAOPaperplanes</td>\n",
       "    </tr>\n",
       "    <tr>\n",
       "      <th>5567</th>\n",
       "      <td>DAO</td>\n",
       "      <td>2020-02-06 03:37:00</td>\n",
       "      <td>136363</td>\n",
       "      <td>Paperplanes</td>\n",
       "      <td>DAOPaperplanes</td>\n",
       "    </tr>\n",
       "    <tr>\n",
       "      <th>5568</th>\n",
       "      <td>DAO</td>\n",
       "      <td>2020-02-06 03:39:00</td>\n",
       "      <td>136363</td>\n",
       "      <td>Paperplanes</td>\n",
       "      <td>DAOPaperplanes</td>\n",
       "    </tr>\n",
       "    <tr>\n",
       "      <th>5569</th>\n",
       "      <td>DAO</td>\n",
       "      <td>2020-02-06 03:42:00</td>\n",
       "      <td>136363</td>\n",
       "      <td>Paperplanes</td>\n",
       "      <td>DAOPaperplanes</td>\n",
       "    </tr>\n",
       "    <tr>\n",
       "      <th>5570</th>\n",
       "      <td>DAO</td>\n",
       "      <td>2020-02-06 03:44:00</td>\n",
       "      <td>136363</td>\n",
       "      <td>Paperplanes</td>\n",
       "      <td>DAOPaperplanes</td>\n",
       "    </tr>\n",
       "    <tr>\n",
       "      <th>5571</th>\n",
       "      <td>DAO</td>\n",
       "      <td>2020-02-06 03:46:00</td>\n",
       "      <td>136363</td>\n",
       "      <td>Paperplanes</td>\n",
       "      <td>DAOPaperplanes</td>\n",
       "    </tr>\n",
       "    <tr>\n",
       "      <th>5572</th>\n",
       "      <td>DAO</td>\n",
       "      <td>2020-02-06 03:48:00</td>\n",
       "      <td>136363</td>\n",
       "      <td>Paperplanes</td>\n",
       "      <td>DAOPaperplanes</td>\n",
       "    </tr>\n",
       "    <tr>\n",
       "      <th>5573</th>\n",
       "      <td>DAO</td>\n",
       "      <td>2020-02-06 03:51:00</td>\n",
       "      <td>136363</td>\n",
       "      <td>Paperplanes</td>\n",
       "      <td>DAOPaperplanes</td>\n",
       "    </tr>\n",
       "    <tr>\n",
       "      <th>5574</th>\n",
       "      <td>DAO</td>\n",
       "      <td>2020-02-06 03:53:00</td>\n",
       "      <td>136363</td>\n",
       "      <td>Paperplanes</td>\n",
       "      <td>DAOPaperplanes</td>\n",
       "    </tr>\n",
       "    <tr>\n",
       "      <th>5575</th>\n",
       "      <td>DAO</td>\n",
       "      <td>2020-02-06 03:55:00</td>\n",
       "      <td>136363</td>\n",
       "      <td>Paperplanes</td>\n",
       "      <td>DAOPaperplanes</td>\n",
       "    </tr>\n",
       "    <tr>\n",
       "      <th>5576</th>\n",
       "      <td>DAO</td>\n",
       "      <td>2020-02-06 03:57:00</td>\n",
       "      <td>136363</td>\n",
       "      <td>Paperplanes</td>\n",
       "      <td>DAOPaperplanes</td>\n",
       "    </tr>\n",
       "    <tr>\n",
       "      <th>5577</th>\n",
       "      <td>DAO</td>\n",
       "      <td>2020-02-06 04:00:00</td>\n",
       "      <td>136363</td>\n",
       "      <td>Paperplanes</td>\n",
       "      <td>DAOPaperplanes</td>\n",
       "    </tr>\n",
       "    <tr>\n",
       "      <th>5578</th>\n",
       "      <td>DAO</td>\n",
       "      <td>2020-02-06 04:02:00</td>\n",
       "      <td>136363</td>\n",
       "      <td>Paperplanes</td>\n",
       "      <td>DAOPaperplanes</td>\n",
       "    </tr>\n",
       "    <tr>\n",
       "      <th>5579</th>\n",
       "      <td>DAO</td>\n",
       "      <td>2020-02-06 04:04:00</td>\n",
       "      <td>136363</td>\n",
       "      <td>Paperplanes</td>\n",
       "      <td>DAOPaperplanes</td>\n",
       "    </tr>\n",
       "    <tr>\n",
       "      <th>5580</th>\n",
       "      <td>DAO</td>\n",
       "      <td>2020-02-06 04:07:00</td>\n",
       "      <td>136363</td>\n",
       "      <td>Paperplanes</td>\n",
       "      <td>DAOPaperplanes</td>\n",
       "    </tr>\n",
       "    <tr>\n",
       "      <th>5581</th>\n",
       "      <td>DAO</td>\n",
       "      <td>2020-02-06 04:09:00</td>\n",
       "      <td>136363</td>\n",
       "      <td>Paperplanes</td>\n",
       "      <td>DAOPaperplanes</td>\n",
       "    </tr>\n",
       "    <tr>\n",
       "      <th>5582</th>\n",
       "      <td>DAO</td>\n",
       "      <td>2020-02-06 04:11:00</td>\n",
       "      <td>136363</td>\n",
       "      <td>Paperplanes</td>\n",
       "      <td>DAOPaperplanes</td>\n",
       "    </tr>\n",
       "    <tr>\n",
       "      <th>5583</th>\n",
       "      <td>DAO</td>\n",
       "      <td>2020-02-06 04:13:00</td>\n",
       "      <td>136363</td>\n",
       "      <td>Paperplanes</td>\n",
       "      <td>DAOPaperplanes</td>\n",
       "    </tr>\n",
       "    <tr>\n",
       "      <th>5584</th>\n",
       "      <td>DAO</td>\n",
       "      <td>2020-02-06 04:16:00</td>\n",
       "      <td>136363</td>\n",
       "      <td>Paperplanes</td>\n",
       "      <td>DAOPaperplanes</td>\n",
       "    </tr>\n",
       "    <tr>\n",
       "      <th>5585</th>\n",
       "      <td>DAO</td>\n",
       "      <td>2020-02-06 04:18:00</td>\n",
       "      <td>136363</td>\n",
       "      <td>Paperplanes</td>\n",
       "      <td>DAOPaperplanes</td>\n",
       "    </tr>\n",
       "    <tr>\n",
       "      <th>5586</th>\n",
       "      <td>DAO</td>\n",
       "      <td>2020-02-06 04:20:00</td>\n",
       "      <td>136363</td>\n",
       "      <td>Paperplanes</td>\n",
       "      <td>DAOPaperplanes</td>\n",
       "    </tr>\n",
       "    <tr>\n",
       "      <th>5587</th>\n",
       "      <td>DAO</td>\n",
       "      <td>2020-02-06 04:23:00</td>\n",
       "      <td>136363</td>\n",
       "      <td>Paperplanes</td>\n",
       "      <td>DAOPaperplanes</td>\n",
       "    </tr>\n",
       "    <tr>\n",
       "      <th>5588</th>\n",
       "      <td>DAO</td>\n",
       "      <td>2020-02-06 04:25:00</td>\n",
       "      <td>136363</td>\n",
       "      <td>Paperplanes</td>\n",
       "      <td>DAOPaperplanes</td>\n",
       "    </tr>\n",
       "    <tr>\n",
       "      <th>5589</th>\n",
       "      <td>DAO</td>\n",
       "      <td>2020-02-06 04:27:00</td>\n",
       "      <td>136363</td>\n",
       "      <td>Paperplanes</td>\n",
       "      <td>DAOPaperplanes</td>\n",
       "    </tr>\n",
       "    <tr>\n",
       "      <th>5590</th>\n",
       "      <td>DAO</td>\n",
       "      <td>2020-02-06 04:29:00</td>\n",
       "      <td>136363</td>\n",
       "      <td>Paperplanes</td>\n",
       "      <td>DAOPaperplanes</td>\n",
       "    </tr>\n",
       "    <tr>\n",
       "      <th>5591</th>\n",
       "      <td>DAO</td>\n",
       "      <td>2020-02-06 04:32:00</td>\n",
       "      <td>136363</td>\n",
       "      <td>Paperplanes</td>\n",
       "      <td>DAOPaperplanes</td>\n",
       "    </tr>\n",
       "    <tr>\n",
       "      <th>5592</th>\n",
       "      <td>DAO</td>\n",
       "      <td>2020-02-06 04:34:00</td>\n",
       "      <td>136363</td>\n",
       "      <td>Paperplanes</td>\n",
       "      <td>DAOPaperplanes</td>\n",
       "    </tr>\n",
       "    <tr>\n",
       "      <th>5593</th>\n",
       "      <td>DAO</td>\n",
       "      <td>2020-02-06 04:36:00</td>\n",
       "      <td>136363</td>\n",
       "      <td>Paperplanes</td>\n",
       "      <td>DAOPaperplanes</td>\n",
       "    </tr>\n",
       "    <tr>\n",
       "      <th>5594</th>\n",
       "      <td>DAO</td>\n",
       "      <td>2020-02-06 04:39:00</td>\n",
       "      <td>136363</td>\n",
       "      <td>Paperplanes</td>\n",
       "      <td>DAOPaperplanes</td>\n",
       "    </tr>\n",
       "    <tr>\n",
       "      <th>5595</th>\n",
       "      <td>DAO</td>\n",
       "      <td>2020-02-06 04:41:00</td>\n",
       "      <td>136363</td>\n",
       "      <td>Paperplanes</td>\n",
       "      <td>DAOPaperplanes</td>\n",
       "    </tr>\n",
       "  </tbody>\n",
       "</table>\n",
       "</div>"
      ],
      "text/plain": [
       "     artistName             endTime  msPlayed    trackName artistPlusTrack\n",
       "5546        DAO 2020-02-06 02:46:00    136363  Paperplanes  DAOPaperplanes\n",
       "5547        DAO 2020-02-06 02:48:00    136363  Paperplanes  DAOPaperplanes\n",
       "5548        DAO 2020-02-06 02:50:00    136363  Paperplanes  DAOPaperplanes\n",
       "5549        DAO 2020-02-06 02:52:00    136363  Paperplanes  DAOPaperplanes\n",
       "5550        DAO 2020-02-06 02:55:00    136363  Paperplanes  DAOPaperplanes\n",
       "5551        DAO 2020-02-06 02:57:00    136363  Paperplanes  DAOPaperplanes\n",
       "5552        DAO 2020-02-06 03:00:00    136363  Paperplanes  DAOPaperplanes\n",
       "5553        DAO 2020-02-06 03:03:00    147470  Paperplanes  DAOPaperplanes\n",
       "5554        DAO 2020-02-06 03:06:00    177910  Paperplanes  DAOPaperplanes\n",
       "5555        DAO 2020-02-06 03:09:00    221387  Paperplanes  DAOPaperplanes\n",
       "5556        DAO 2020-02-06 03:12:00    136363  Paperplanes  DAOPaperplanes\n",
       "5557        DAO 2020-02-06 03:14:00    136363  Paperplanes  DAOPaperplanes\n",
       "5558        DAO 2020-02-06 03:16:00    136363  Paperplanes  DAOPaperplanes\n",
       "5559        DAO 2020-02-06 03:19:00    136363  Paperplanes  DAOPaperplanes\n",
       "5560        DAO 2020-02-06 03:21:00    136363  Paperplanes  DAOPaperplanes\n",
       "5561        DAO 2020-02-06 03:23:00    136363  Paperplanes  DAOPaperplanes\n",
       "5562        DAO 2020-02-06 03:26:00    136363  Paperplanes  DAOPaperplanes\n",
       "5563        DAO 2020-02-06 03:28:00    136363  Paperplanes  DAOPaperplanes\n",
       "5564        DAO 2020-02-06 03:30:00    136363  Paperplanes  DAOPaperplanes\n",
       "5565        DAO 2020-02-06 03:32:00    136363  Paperplanes  DAOPaperplanes\n",
       "5566        DAO 2020-02-06 03:35:00    136363  Paperplanes  DAOPaperplanes\n",
       "5567        DAO 2020-02-06 03:37:00    136363  Paperplanes  DAOPaperplanes\n",
       "5568        DAO 2020-02-06 03:39:00    136363  Paperplanes  DAOPaperplanes\n",
       "5569        DAO 2020-02-06 03:42:00    136363  Paperplanes  DAOPaperplanes\n",
       "5570        DAO 2020-02-06 03:44:00    136363  Paperplanes  DAOPaperplanes\n",
       "5571        DAO 2020-02-06 03:46:00    136363  Paperplanes  DAOPaperplanes\n",
       "5572        DAO 2020-02-06 03:48:00    136363  Paperplanes  DAOPaperplanes\n",
       "5573        DAO 2020-02-06 03:51:00    136363  Paperplanes  DAOPaperplanes\n",
       "5574        DAO 2020-02-06 03:53:00    136363  Paperplanes  DAOPaperplanes\n",
       "5575        DAO 2020-02-06 03:55:00    136363  Paperplanes  DAOPaperplanes\n",
       "5576        DAO 2020-02-06 03:57:00    136363  Paperplanes  DAOPaperplanes\n",
       "5577        DAO 2020-02-06 04:00:00    136363  Paperplanes  DAOPaperplanes\n",
       "5578        DAO 2020-02-06 04:02:00    136363  Paperplanes  DAOPaperplanes\n",
       "5579        DAO 2020-02-06 04:04:00    136363  Paperplanes  DAOPaperplanes\n",
       "5580        DAO 2020-02-06 04:07:00    136363  Paperplanes  DAOPaperplanes\n",
       "5581        DAO 2020-02-06 04:09:00    136363  Paperplanes  DAOPaperplanes\n",
       "5582        DAO 2020-02-06 04:11:00    136363  Paperplanes  DAOPaperplanes\n",
       "5583        DAO 2020-02-06 04:13:00    136363  Paperplanes  DAOPaperplanes\n",
       "5584        DAO 2020-02-06 04:16:00    136363  Paperplanes  DAOPaperplanes\n",
       "5585        DAO 2020-02-06 04:18:00    136363  Paperplanes  DAOPaperplanes\n",
       "5586        DAO 2020-02-06 04:20:00    136363  Paperplanes  DAOPaperplanes\n",
       "5587        DAO 2020-02-06 04:23:00    136363  Paperplanes  DAOPaperplanes\n",
       "5588        DAO 2020-02-06 04:25:00    136363  Paperplanes  DAOPaperplanes\n",
       "5589        DAO 2020-02-06 04:27:00    136363  Paperplanes  DAOPaperplanes\n",
       "5590        DAO 2020-02-06 04:29:00    136363  Paperplanes  DAOPaperplanes\n",
       "5591        DAO 2020-02-06 04:32:00    136363  Paperplanes  DAOPaperplanes\n",
       "5592        DAO 2020-02-06 04:34:00    136363  Paperplanes  DAOPaperplanes\n",
       "5593        DAO 2020-02-06 04:36:00    136363  Paperplanes  DAOPaperplanes\n",
       "5594        DAO 2020-02-06 04:39:00    136363  Paperplanes  DAOPaperplanes\n",
       "5595        DAO 2020-02-06 04:41:00    136363  Paperplanes  DAOPaperplanes"
      ]
     },
     "execution_count": 19,
     "metadata": {},
     "output_type": "execute_result"
    }
   ],
   "source": [
    "fishy = df[df['trackName'] == \"Paperplanes\"]\n",
    "fishy.head(50)"
   ]
  },
  {
   "cell_type": "markdown",
   "metadata": {},
   "source": [
    "- **Looking at the endTime column, it seems that the majortity of these plays occured back to back in one day. Let's investigate further**"
   ]
  },
  {
   "cell_type": "code",
   "execution_count": 20,
   "metadata": {
    "scrolled": false
   },
   "outputs": [
    {
     "name": "stderr",
     "output_type": "stream",
     "text": [
      "/usr/local/lib/python3.7/site-packages/ipykernel_launcher.py:1: SettingWithCopyWarning: \n",
      "A value is trying to be set on a copy of a slice from a DataFrame.\n",
      "Try using .loc[row_indexer,col_indexer] = value instead\n",
      "\n",
      "See the caveats in the documentation: http://pandas.pydata.org/pandas-docs/stable/indexing.html#indexing-view-versus-copy\n",
      "  \"\"\"Entry point for launching an IPython kernel.\n"
     ]
    },
    {
     "data": {
      "text/plain": [
       "date\n",
       "2020-02-06    169\n",
       "2020-02-07      1\n",
       "2020-02-09      2\n",
       "2020-02-11      1\n",
       "2020-02-22      1\n",
       "2020-02-23      2\n",
       "2020-02-24      3\n",
       "2020-02-25      2\n",
       "2020-04-09      2\n",
       "2020-04-10      1\n",
       "2020-04-20      1\n",
       "2020-04-28      1\n",
       "2020-04-29      1\n",
       "2020-06-01      1\n",
       "2020-06-14      1\n",
       "dtype: int64"
      ]
     },
     "execution_count": 20,
     "metadata": {},
     "output_type": "execute_result"
    }
   ],
   "source": [
    "fishy['date'] = fishy['endTime'].dt.date\n",
    "fishy.groupby('date').size()"
   ]
  },
  {
   "cell_type": "markdown",
   "metadata": {},
   "source": [
    "### Lets plot this out"
   ]
  },
  {
   "cell_type": "code",
   "execution_count": 21,
   "metadata": {},
   "outputs": [
    {
     "data": {
      "text/plain": [
       "Text(0.5, 1.0, 'Night I fell asleep listening to a song on loop')"
      ]
     },
     "execution_count": 21,
     "metadata": {},
     "output_type": "execute_result"
    },
    {
     "data": {
      "image/png": "[encoded data removed]",
      "text/plain": [
       "<Figure size 720x432 with 1 Axes>"
      ]
     },
     "metadata": {
      "needs_background": "light"
     },
     "output_type": "display_data"
    }
   ],
   "source": [
    "fishy.groupby('date').size().plot(figsize=(10,6))\n",
    "plt.xticks(rotation=45)\n",
    "plt.ylabel('Number of plays')\n",
    "plt.xlabel('Data')\n",
    "plt.title('Night I fell asleep listening to a song on loop')"
   ]
  },
  {
   "cell_type": "markdown",
   "metadata": {},
   "source": [
    "- **Interesting, we can see the majority of streams for this track happened on one day. Thinking back, I remember that I was very tired one night and in an attempt to set an alarm, I ended up playing this random song, but was too tired to turn it off so I slept through it**"
   ]
  },
  {
   "cell_type": "markdown",
   "metadata": {},
   "source": [
    "### Feature engineering"
   ]
  },
  {
   "cell_type": "markdown",
   "metadata": {},
   "source": [
    "**So far our dataframe measures lenght of time played in millisonds which is bit of a weird metric. Let's create features for seconds, minutes and hours played instead**"
   ]
  },
  {
   "cell_type": "code",
   "execution_count": 22,
   "metadata": {},
   "outputs": [],
   "source": [
    "df['secondsPlayed'] = df['msPlayed'].apply(lambda x: x/1000)\n",
    "df['minsPlayed'] = df['msPlayed'].apply(lambda x: x/60000)\n",
    "df['hoursPlayed'] = df['secondsPlayed'].apply(lambda x: x/3600)"
   ]
  },
  {
   "cell_type": "code",
   "execution_count": 23,
   "metadata": {
    "scrolled": false
   },
   "outputs": [
    {
     "data": {
      "text/html": [
       "<div>\n",
       "<style scoped>\n",
       "    .dataframe tbody tr th:only-of-type {\n",
       "        vertical-align: middle;\n",
       "    }\n",
       "\n",
       "    .dataframe tbody tr th {\n",
       "        vertical-align: top;\n",
       "    }\n",
       "\n",
       "    .dataframe thead th {\n",
       "        text-align: right;\n",
       "    }\n",
       "</style>\n",
       "<table border=\"1\" class=\"dataframe\">\n",
       "  <thead>\n",
       "    <tr style=\"text-align: right;\">\n",
       "      <th></th>\n",
       "      <th></th>\n",
       "      <th>msPlayed</th>\n",
       "      <th>secondsPlayed</th>\n",
       "      <th>minsPlayed</th>\n",
       "      <th>hoursPlayed</th>\n",
       "    </tr>\n",
       "    <tr>\n",
       "      <th>trackName</th>\n",
       "      <th>artistName</th>\n",
       "      <th></th>\n",
       "      <th></th>\n",
       "      <th></th>\n",
       "      <th></th>\n",
       "    </tr>\n",
       "  </thead>\n",
       "  <tbody>\n",
       "    <tr>\n",
       "      <th>She / Swimming</th>\n",
       "      <th>Moon Ate the Dark</th>\n",
       "      <td>47333218</td>\n",
       "      <td>47333.218</td>\n",
       "      <td>788.886967</td>\n",
       "      <td>13.148116</td>\n",
       "    </tr>\n",
       "    <tr>\n",
       "      <th>Carrage</th>\n",
       "      <th>Luke Abbott</th>\n",
       "      <td>38381304</td>\n",
       "      <td>38381.304</td>\n",
       "      <td>639.688400</td>\n",
       "      <td>10.661473</td>\n",
       "    </tr>\n",
       "    <tr>\n",
       "      <th>Night Winds</th>\n",
       "      <th>Geographer</th>\n",
       "      <td>29533181</td>\n",
       "      <td>29533.181</td>\n",
       "      <td>492.219683</td>\n",
       "      <td>8.203661</td>\n",
       "    </tr>\n",
       "    <tr>\n",
       "      <th>This Ain't a Love Song</th>\n",
       "      <th>Scouting For Girls</th>\n",
       "      <td>25320917</td>\n",
       "      <td>25320.917</td>\n",
       "      <td>422.015283</td>\n",
       "      <td>7.033588</td>\n",
       "    </tr>\n",
       "    <tr>\n",
       "      <th>saman</th>\n",
       "      <th>Ólafur Arnalds</th>\n",
       "      <td>24686330</td>\n",
       "      <td>24686.330</td>\n",
       "      <td>411.438833</td>\n",
       "      <td>6.857314</td>\n",
       "    </tr>\n",
       "    <tr>\n",
       "      <th>Paperplanes</th>\n",
       "      <th>DAO</th>\n",
       "      <td>24464181</td>\n",
       "      <td>24464.181</td>\n",
       "      <td>407.736350</td>\n",
       "      <td>6.795606</td>\n",
       "    </tr>\n",
       "    <tr>\n",
       "      <th>MONOPOLY (with Victoria Monét)</th>\n",
       "      <th>Ariana Grande</th>\n",
       "      <td>23449896</td>\n",
       "      <td>23449.896</td>\n",
       "      <td>390.831600</td>\n",
       "      <td>6.513860</td>\n",
       "    </tr>\n",
       "    <tr>\n",
       "      <th>Love is Wasted in the Dark</th>\n",
       "      <th>Geographer</th>\n",
       "      <td>21648664</td>\n",
       "      <td>21648.664</td>\n",
       "      <td>360.811067</td>\n",
       "      <td>6.013518</td>\n",
       "    </tr>\n",
       "    <tr>\n",
       "      <th>In Step</th>\n",
       "      <th>Frankmusik</th>\n",
       "      <td>19361389</td>\n",
       "      <td>19361.389</td>\n",
       "      <td>322.689817</td>\n",
       "      <td>5.378164</td>\n",
       "    </tr>\n",
       "    <tr>\n",
       "      <th>Swag Surfin'</th>\n",
       "      <th>F.L.Y. (Fast Life Yungstaz)</th>\n",
       "      <td>18126587</td>\n",
       "      <td>18126.587</td>\n",
       "      <td>302.109783</td>\n",
       "      <td>5.035163</td>\n",
       "    </tr>\n",
       "  </tbody>\n",
       "</table>\n",
       "</div>"
      ],
      "text/plain": [
       "                                                            msPlayed  \\\n",
       "trackName                      artistName                              \n",
       "She / Swimming                 Moon Ate the Dark            47333218   \n",
       "Carrage                        Luke Abbott                  38381304   \n",
       "Night Winds                    Geographer                   29533181   \n",
       "This Ain't a Love Song         Scouting For Girls           25320917   \n",
       "saman                          Ólafur Arnalds               24686330   \n",
       "Paperplanes                    DAO                          24464181   \n",
       "MONOPOLY (with Victoria Monét) Ariana Grande                23449896   \n",
       "Love is Wasted in the Dark     Geographer                   21648664   \n",
       "In Step                        Frankmusik                   19361389   \n",
       "Swag Surfin'                   F.L.Y. (Fast Life Yungstaz)  18126587   \n",
       "\n",
       "                                                            secondsPlayed  \\\n",
       "trackName                      artistName                                   \n",
       "She / Swimming                 Moon Ate the Dark                47333.218   \n",
       "Carrage                        Luke Abbott                      38381.304   \n",
       "Night Winds                    Geographer                       29533.181   \n",
       "This Ain't a Love Song         Scouting For Girls               25320.917   \n",
       "saman                          Ólafur Arnalds                   24686.330   \n",
       "Paperplanes                    DAO                              24464.181   \n",
       "MONOPOLY (with Victoria Monét) Ariana Grande                    23449.896   \n",
       "Love is Wasted in the Dark     Geographer                       21648.664   \n",
       "In Step                        Frankmusik                       19361.389   \n",
       "Swag Surfin'                   F.L.Y. (Fast Life Yungstaz)      18126.587   \n",
       "\n",
       "                                                            minsPlayed  \\\n",
       "trackName                      artistName                                \n",
       "She / Swimming                 Moon Ate the Dark            788.886967   \n",
       "Carrage                        Luke Abbott                  639.688400   \n",
       "Night Winds                    Geographer                   492.219683   \n",
       "This Ain't a Love Song         Scouting For Girls           422.015283   \n",
       "saman                          Ólafur Arnalds               411.438833   \n",
       "Paperplanes                    DAO                          407.736350   \n",
       "MONOPOLY (with Victoria Monét) Ariana Grande                390.831600   \n",
       "Love is Wasted in the Dark     Geographer                   360.811067   \n",
       "In Step                        Frankmusik                   322.689817   \n",
       "Swag Surfin'                   F.L.Y. (Fast Life Yungstaz)  302.109783   \n",
       "\n",
       "                                                            hoursPlayed  \n",
       "trackName                      artistName                                \n",
       "She / Swimming                 Moon Ate the Dark              13.148116  \n",
       "Carrage                        Luke Abbott                    10.661473  \n",
       "Night Winds                    Geographer                      8.203661  \n",
       "This Ain't a Love Song         Scouting For Girls              7.033588  \n",
       "saman                          Ólafur Arnalds                  6.857314  \n",
       "Paperplanes                    DAO                             6.795606  \n",
       "MONOPOLY (with Victoria Monét) Ariana Grande                   6.513860  \n",
       "Love is Wasted in the Dark     Geographer                      6.013518  \n",
       "In Step                        Frankmusik                      5.378164  \n",
       "Swag Surfin'                   F.L.Y. (Fast Life Yungstaz)     5.035163  "
      ]
     },
     "execution_count": 23,
     "metadata": {},
     "output_type": "execute_result"
    }
   ],
   "source": [
    "df.groupby(['trackName','artistName']).sum().sort_values('hoursPlayed',ascending=False).head(10)"
   ]
  },
  {
   "cell_type": "markdown",
   "metadata": {},
   "source": [
    "- **Nice! This looks a little more intuitive now**"
   ]
  },
  {
   "cell_type": "markdown",
   "metadata": {},
   "source": [
    "### Which artists do I stream the most ?"
   ]
  },
  {
   "cell_type": "code",
   "execution_count": 24,
   "metadata": {
    "scrolled": false
   },
   "outputs": [
    {
     "data": {
      "text/plain": [
       "artistName\n",
       "Drake                  722\n",
       "Chance the Rapper      663\n",
       "Kid Cudi               635\n",
       "Young Thug             574\n",
       "Kanye West             562\n",
       "Geographer             543\n",
       "Coldplay               410\n",
       "Burna Boy              382\n",
       "Lil Uzi Vert           362\n",
       "Skepta                 350\n",
       "Frank Ocean            340\n",
       "Travis Scott           338\n",
       "Kendrick Lamar         271\n",
       "Jai Paul               256\n",
       "Gunna                  249\n",
       "Playboi Carti          243\n",
       "Post Malone            227\n",
       "JAY-Z                  218\n",
       "Ólafur Arnalds         215\n",
       "Akira Kosemura         207\n",
       "Childish Gambino       203\n",
       "Lil Wayne              199\n",
       "The Weeknd             192\n",
       "Bon Iver               190\n",
       "K'NAAN                 190\n",
       "DAO                    189\n",
       "Moon Ate the Dark      189\n",
       "Kodak Black            181\n",
       "Pinegrove              179\n",
       "Natasha Bedingfield    175\n",
       "Luke Abbott            169\n",
       "Roy Woods              156\n",
       "Beirut                 139\n",
       "Ariana Grande          138\n",
       "Arctic Monkeys         138\n",
       "Arcade Fire            134\n",
       "SAINt JHN              132\n",
       "ScHoolboy Q            132\n",
       "Future                 131\n",
       "Aphex Twin             131\n",
       "Scouting For Girls     123\n",
       "Justin Timberlake      122\n",
       "Common                 122\n",
       "Shawn Mendes           119\n",
       "Mustard                118\n",
       "Leon Bridges           118\n",
       "Rihanna                116\n",
       "Shakka                 115\n",
       "Snow Patrol            114\n",
       "Austin Michael         114\n",
       "dtype: int64"
      ]
     },
     "execution_count": 24,
     "metadata": {},
     "output_type": "execute_result"
    }
   ],
   "source": [
    "top50artists = df.groupby('artistName').size().sort_values(ascending=False).head(50)\n",
    "top50artists"
   ]
  },
  {
   "cell_type": "markdown",
   "metadata": {},
   "source": [
    "### Let's visualize this"
   ]
  },
  {
   "cell_type": "code",
   "execution_count": 25,
   "metadata": {
    "scrolled": false
   },
   "outputs": [
    {
     "data": {
      "text/plain": [
       "Text(0, 0.5, 'Number of streams')"
      ]
     },
     "execution_count": 25,
     "metadata": {},
     "output_type": "execute_result"
    },
    {
     "data": {
      "image/png": "[encoded data removed]",
      "text/plain": [
       "<Figure size 1440x432 with 1 Axes>"
      ]
     },
     "metadata": {
      "needs_background": "light"
     },
     "output_type": "display_data"
    }
   ],
   "source": [
    "top50artists.plot(kind='bar',figsize=(20,6))\n",
    "plt.xticks(rotation=90)\n",
    "plt.xlabel('Artist')\n",
    "plt.ylabel('Number of streams')"
   ]
  },
  {
   "cell_type": "markdown",
   "metadata": {},
   "source": [
    "### What are the longest tracks I've listened too ?"
   ]
  },
  {
   "cell_type": "code",
   "execution_count": 26,
   "metadata": {
    "scrolled": false
   },
   "outputs": [
    {
     "data": {
      "text/html": [
       "<div>\n",
       "<style scoped>\n",
       "    .dataframe tbody tr th:only-of-type {\n",
       "        vertical-align: middle;\n",
       "    }\n",
       "\n",
       "    .dataframe tbody tr th {\n",
       "        vertical-align: top;\n",
       "    }\n",
       "\n",
       "    .dataframe thead th {\n",
       "        text-align: right;\n",
       "    }\n",
       "</style>\n",
       "<table border=\"1\" class=\"dataframe\">\n",
       "  <thead>\n",
       "    <tr style=\"text-align: right;\">\n",
       "      <th></th>\n",
       "      <th>artistName</th>\n",
       "      <th>endTime</th>\n",
       "      <th>msPlayed</th>\n",
       "      <th>artistPlusTrack</th>\n",
       "      <th>secondsPlayed</th>\n",
       "      <th>minsPlayed</th>\n",
       "      <th>hoursPlayed</th>\n",
       "    </tr>\n",
       "    <tr>\n",
       "      <th>trackName</th>\n",
       "      <th></th>\n",
       "      <th></th>\n",
       "      <th></th>\n",
       "      <th></th>\n",
       "      <th></th>\n",
       "      <th></th>\n",
       "      <th></th>\n",
       "    </tr>\n",
       "  </thead>\n",
       "  <tbody>\n",
       "    <tr>\n",
       "      <th>Adam Mosseri</th>\n",
       "      <td>Armchair Expert with Dax Shepard</td>\n",
       "      <td>2020-03-14 23:20:00</td>\n",
       "      <td>7333421</td>\n",
       "      <td>Armchair Expert with Dax ShepardAdam Mosseri</td>\n",
       "      <td>7333.421</td>\n",
       "      <td>122.223683</td>\n",
       "      <td>2.037061</td>\n",
       "    </tr>\n",
       "    <tr>\n",
       "      <th>#9 - WE WENT CAMPING</th>\n",
       "      <td>The Misfits Podcast</td>\n",
       "      <td>2019-09-28 13:52:00</td>\n",
       "      <td>6101546</td>\n",
       "      <td>The Misfits Podcast#9 - WE WENT CAMPING</td>\n",
       "      <td>6101.546</td>\n",
       "      <td>101.692433</td>\n",
       "      <td>1.694874</td>\n",
       "    </tr>\n",
       "    <tr>\n",
       "      <th>LIVE: Martina McBride</th>\n",
       "      <td>Armchair Expert with Dax Shepard</td>\n",
       "      <td>2020-03-17 16:17:00</td>\n",
       "      <td>5994019</td>\n",
       "      <td>Armchair Expert with Dax ShepardLIVE: Martina ...</td>\n",
       "      <td>5994.019</td>\n",
       "      <td>99.900317</td>\n",
       "      <td>1.665005</td>\n",
       "    </tr>\n",
       "    <tr>\n",
       "      <th>Rob Lowe</th>\n",
       "      <td>Armchair Expert with Dax Shepard</td>\n",
       "      <td>2020-04-29 07:41:00</td>\n",
       "      <td>5773354</td>\n",
       "      <td>Armchair Expert with Dax ShepardRob Lowe</td>\n",
       "      <td>5773.354</td>\n",
       "      <td>96.222567</td>\n",
       "      <td>1.603709</td>\n",
       "    </tr>\n",
       "    <tr>\n",
       "      <th>Emilia Clarke</th>\n",
       "      <td>Armchair Expert with Dax Shepard</td>\n",
       "      <td>2020-03-16 11:04:00</td>\n",
       "      <td>5070801</td>\n",
       "      <td>Armchair Expert with Dax ShepardEmilia Clarke</td>\n",
       "      <td>5070.801</td>\n",
       "      <td>84.513350</td>\n",
       "      <td>1.408556</td>\n",
       "    </tr>\n",
       "    <tr>\n",
       "      <th>104: My Old Lady with Sarah Chalke</th>\n",
       "      <td>Fake Doctors, Real Friends with Zach and Donald</td>\n",
       "      <td>2020-06-13 23:30:00</td>\n",
       "      <td>4926028</td>\n",
       "      <td>Fake Doctors, Real Friends with Zach and Donal...</td>\n",
       "      <td>4926.028</td>\n",
       "      <td>82.100467</td>\n",
       "      <td>1.368341</td>\n",
       "    </tr>\n",
       "    <tr>\n",
       "      <th>Episode 102: The Welcome Back Parade</th>\n",
       "      <td>Lets Be Honest Podcast</td>\n",
       "      <td>2019-10-14 17:32:00</td>\n",
       "      <td>4823759</td>\n",
       "      <td>Lets Be Honest PodcastEpisode 102: The Welcome...</td>\n",
       "      <td>4823.759</td>\n",
       "      <td>80.395983</td>\n",
       "      <td>1.339933</td>\n",
       "    </tr>\n",
       "    <tr>\n",
       "      <th>Kumail Nanjiani</th>\n",
       "      <td>Armchair Expert with Dax Shepard</td>\n",
       "      <td>2020-03-12 04:25:00</td>\n",
       "      <td>4731521</td>\n",
       "      <td>Armchair Expert with Dax ShepardKumail Nanjiani</td>\n",
       "      <td>4731.521</td>\n",
       "      <td>78.858683</td>\n",
       "      <td>1.314311</td>\n",
       "    </tr>\n",
       "    <tr>\n",
       "      <th>Julia Louis-Dreyfus</th>\n",
       "      <td>Conan O’Brien Needs A Friend</td>\n",
       "      <td>2020-03-12 05:43:00</td>\n",
       "      <td>4659266</td>\n",
       "      <td>Conan O’Brien Needs A FriendJulia Louis-Dreyfus</td>\n",
       "      <td>4659.266</td>\n",
       "      <td>77.654433</td>\n",
       "      <td>1.294241</td>\n",
       "    </tr>\n",
       "    <tr>\n",
       "      <th>#10 - WE TOOK LSD</th>\n",
       "      <td>The Misfits Podcast</td>\n",
       "      <td>2019-09-27 11:17:00</td>\n",
       "      <td>4274716</td>\n",
       "      <td>The Misfits Podcast#10 - WE TOOK LSD</td>\n",
       "      <td>4274.716</td>\n",
       "      <td>71.245267</td>\n",
       "      <td>1.187421</td>\n",
       "    </tr>\n",
       "    <tr>\n",
       "      <th>Malcolm Gladwell</th>\n",
       "      <td>Armchair Expert with Dax Shepard</td>\n",
       "      <td>2020-03-15 14:52:00</td>\n",
       "      <td>4158016</td>\n",
       "      <td>Armchair Expert with Dax ShepardMalcolm Gladwell</td>\n",
       "      <td>4158.016</td>\n",
       "      <td>69.300267</td>\n",
       "      <td>1.155004</td>\n",
       "    </tr>\n",
       "    <tr>\n",
       "      <th>Episode 110: Joshua Proved The Muslim God Is The True God</th>\n",
       "      <td>Lets Be Honest Podcast</td>\n",
       "      <td>2019-12-11 14:58:00</td>\n",
       "      <td>4095253</td>\n",
       "      <td>Lets Be Honest PodcastEpisode 110: Joshua Prov...</td>\n",
       "      <td>4095.253</td>\n",
       "      <td>68.254217</td>\n",
       "      <td>1.137570</td>\n",
       "    </tr>\n",
       "    <tr>\n",
       "      <th>\"Your Mums Old\" Ep2 featuring David Ajao - Secondary School</th>\n",
       "      <td>No Money Mo Problems</td>\n",
       "      <td>2019-10-19 04:57:00</td>\n",
       "      <td>3858380</td>\n",
       "      <td>No Money Mo Problems\"Your Mums Old\" Ep2 featur...</td>\n",
       "      <td>3858.380</td>\n",
       "      <td>64.306333</td>\n",
       "      <td>1.071772</td>\n",
       "    </tr>\n",
       "    <tr>\n",
       "      <th>The Pilot/My First Day</th>\n",
       "      <td>Fake Doctors, Real Friends with Zach and Donald</td>\n",
       "      <td>2020-06-06 05:30:00</td>\n",
       "      <td>3822468</td>\n",
       "      <td>Fake Doctors, Real Friends with Zach and Donal...</td>\n",
       "      <td>3822.468</td>\n",
       "      <td>63.707800</td>\n",
       "      <td>1.061797</td>\n",
       "    </tr>\n",
       "    <tr>\n",
       "      <th>#12 - SMii7Y DOESN'T do drugs!</th>\n",
       "      <td>The Misfits Podcast</td>\n",
       "      <td>2019-09-27 13:19:00</td>\n",
       "      <td>3759156</td>\n",
       "      <td>The Misfits Podcast#12 - SMii7Y DOESN'T do drugs!</td>\n",
       "      <td>3759.156</td>\n",
       "      <td>62.652600</td>\n",
       "      <td>1.044210</td>\n",
       "    </tr>\n",
       "    <tr>\n",
       "      <th>#11 - What do we look for in a woman?</th>\n",
       "      <td>The Misfits Podcast</td>\n",
       "      <td>2019-09-27 12:16:00</td>\n",
       "      <td>3545159</td>\n",
       "      <td>The Misfits Podcast#11 - What do we look for i...</td>\n",
       "      <td>3545.159</td>\n",
       "      <td>59.085983</td>\n",
       "      <td>0.984766</td>\n",
       "    </tr>\n",
       "    <tr>\n",
       "      <th>Episode 107: Imagine Thanos With Post - Nut Clarity</th>\n",
       "      <td>Lets Be Honest Podcast</td>\n",
       "      <td>2019-11-22 02:22:00</td>\n",
       "      <td>3510997</td>\n",
       "      <td>Lets Be Honest PodcastEpisode 107: Imagine Tha...</td>\n",
       "      <td>3510.997</td>\n",
       "      <td>58.516617</td>\n",
       "      <td>0.975277</td>\n",
       "    </tr>\n",
       "    <tr>\n",
       "      <th>Episode 99.75: We Are Clearly Not Ready For Episode 100!</th>\n",
       "      <td>Lets Be Honest Podcast</td>\n",
       "      <td>2019-09-16 10:52:00</td>\n",
       "      <td>3390336</td>\n",
       "      <td>Lets Be Honest PodcastEpisode 99.75: We Are Cl...</td>\n",
       "      <td>3390.336</td>\n",
       "      <td>56.505600</td>\n",
       "      <td>0.941760</td>\n",
       "    </tr>\n",
       "    <tr>\n",
       "      <th>#13 - His dad found out...</th>\n",
       "      <td>The Misfits Podcast</td>\n",
       "      <td>2019-09-27 18:15:00</td>\n",
       "      <td>3360618</td>\n",
       "      <td>The Misfits Podcast#13 - His dad found out...</td>\n",
       "      <td>3360.618</td>\n",
       "      <td>56.010300</td>\n",
       "      <td>0.933505</td>\n",
       "    </tr>\n",
       "    <tr>\n",
       "      <th>Sanjay Gupta on COVID-19</th>\n",
       "      <td>Armchair Expert with Dax Shepard</td>\n",
       "      <td>2020-03-25 02:47:00</td>\n",
       "      <td>3108526</td>\n",
       "      <td>Armchair Expert with Dax ShepardSanjay Gupta o...</td>\n",
       "      <td>3108.526</td>\n",
       "      <td>51.808767</td>\n",
       "      <td>0.863479</td>\n",
       "    </tr>\n",
       "  </tbody>\n",
       "</table>\n",
       "</div>"
      ],
      "text/plain": [
       "                                                                                         artistName  \\\n",
       "trackName                                                                                             \n",
       "Adam Mosseri                                                       Armchair Expert with Dax Shepard   \n",
       "#9 - WE WENT CAMPING                                                            The Misfits Podcast   \n",
       "LIVE: Martina McBride                                              Armchair Expert with Dax Shepard   \n",
       "Rob Lowe                                                           Armchair Expert with Dax Shepard   \n",
       "Emilia Clarke                                                      Armchair Expert with Dax Shepard   \n",
       "104: My Old Lady with Sarah Chalke                  Fake Doctors, Real Friends with Zach and Donald   \n",
       "Episode 102: The Welcome Back Parade                                         Lets Be Honest Podcast   \n",
       "Kumail Nanjiani                                                    Armchair Expert with Dax Shepard   \n",
       "Julia Louis-Dreyfus                                                    Conan O’Brien Needs A Friend   \n",
       "#10 - WE TOOK LSD                                                               The Misfits Podcast   \n",
       "Malcolm Gladwell                                                   Armchair Expert with Dax Shepard   \n",
       "Episode 110: Joshua Proved The Muslim God Is Th...                           Lets Be Honest Podcast   \n",
       "\"Your Mums Old\" Ep2 featuring David Ajao - Seco...                             No Money Mo Problems   \n",
       "The Pilot/My First Day                              Fake Doctors, Real Friends with Zach and Donald   \n",
       "#12 - SMii7Y DOESN'T do drugs!                                                  The Misfits Podcast   \n",
       "#11 - What do we look for in a woman?                                           The Misfits Podcast   \n",
       "Episode 107: Imagine Thanos With Post - Nut Cla...                           Lets Be Honest Podcast   \n",
       "Episode 99.75: We Are Clearly Not Ready For Epi...                           Lets Be Honest Podcast   \n",
       "#13 - His dad found out...                                                      The Misfits Podcast   \n",
       "Sanjay Gupta on COVID-19                                           Armchair Expert with Dax Shepard   \n",
       "\n",
       "                                                               endTime  \\\n",
       "trackName                                                                \n",
       "Adam Mosseri                                       2020-03-14 23:20:00   \n",
       "#9 - WE WENT CAMPING                               2019-09-28 13:52:00   \n",
       "LIVE: Martina McBride                              2020-03-17 16:17:00   \n",
       "Rob Lowe                                           2020-04-29 07:41:00   \n",
       "Emilia Clarke                                      2020-03-16 11:04:00   \n",
       "104: My Old Lady with Sarah Chalke                 2020-06-13 23:30:00   \n",
       "Episode 102: The Welcome Back Parade               2019-10-14 17:32:00   \n",
       "Kumail Nanjiani                                    2020-03-12 04:25:00   \n",
       "Julia Louis-Dreyfus                                2020-03-12 05:43:00   \n",
       "#10 - WE TOOK LSD                                  2019-09-27 11:17:00   \n",
       "Malcolm Gladwell                                   2020-03-15 14:52:00   \n",
       "Episode 110: Joshua Proved The Muslim God Is Th... 2019-12-11 14:58:00   \n",
       "\"Your Mums Old\" Ep2 featuring David Ajao - Seco... 2019-10-19 04:57:00   \n",
       "The Pilot/My First Day                             2020-06-06 05:30:00   \n",
       "#12 - SMii7Y DOESN'T do drugs!                     2019-09-27 13:19:00   \n",
       "#11 - What do we look for in a woman?              2019-09-27 12:16:00   \n",
       "Episode 107: Imagine Thanos With Post - Nut Cla... 2019-11-22 02:22:00   \n",
       "Episode 99.75: We Are Clearly Not Ready For Epi... 2019-09-16 10:52:00   \n",
       "#13 - His dad found out...                         2019-09-27 18:15:00   \n",
       "Sanjay Gupta on COVID-19                           2020-03-25 02:47:00   \n",
       "\n",
       "                                                    msPlayed  \\\n",
       "trackName                                                      \n",
       "Adam Mosseri                                         7333421   \n",
       "#9 - WE WENT CAMPING                                 6101546   \n",
       "LIVE: Martina McBride                                5994019   \n",
       "Rob Lowe                                             5773354   \n",
       "Emilia Clarke                                        5070801   \n",
       "104: My Old Lady with Sarah Chalke                   4926028   \n",
       "Episode 102: The Welcome Back Parade                 4823759   \n",
       "Kumail Nanjiani                                      4731521   \n",
       "Julia Louis-Dreyfus                                  4659266   \n",
       "#10 - WE TOOK LSD                                    4274716   \n",
       "Malcolm Gladwell                                     4158016   \n",
       "Episode 110: Joshua Proved The Muslim God Is Th...   4095253   \n",
       "\"Your Mums Old\" Ep2 featuring David Ajao - Seco...   3858380   \n",
       "The Pilot/My First Day                               3822468   \n",
       "#12 - SMii7Y DOESN'T do drugs!                       3759156   \n",
       "#11 - What do we look for in a woman?                3545159   \n",
       "Episode 107: Imagine Thanos With Post - Nut Cla...   3510997   \n",
       "Episode 99.75: We Are Clearly Not Ready For Epi...   3390336   \n",
       "#13 - His dad found out...                           3360618   \n",
       "Sanjay Gupta on COVID-19                             3108526   \n",
       "\n",
       "                                                                                      artistPlusTrack  \\\n",
       "trackName                                                                                               \n",
       "Adam Mosseri                                             Armchair Expert with Dax ShepardAdam Mosseri   \n",
       "#9 - WE WENT CAMPING                                          The Misfits Podcast#9 - WE WENT CAMPING   \n",
       "LIVE: Martina McBride                               Armchair Expert with Dax ShepardLIVE: Martina ...   \n",
       "Rob Lowe                                                     Armchair Expert with Dax ShepardRob Lowe   \n",
       "Emilia Clarke                                           Armchair Expert with Dax ShepardEmilia Clarke   \n",
       "104: My Old Lady with Sarah Chalke                  Fake Doctors, Real Friends with Zach and Donal...   \n",
       "Episode 102: The Welcome Back Parade                Lets Be Honest PodcastEpisode 102: The Welcome...   \n",
       "Kumail Nanjiani                                       Armchair Expert with Dax ShepardKumail Nanjiani   \n",
       "Julia Louis-Dreyfus                                   Conan O’Brien Needs A FriendJulia Louis-Dreyfus   \n",
       "#10 - WE TOOK LSD                                                The Misfits Podcast#10 - WE TOOK LSD   \n",
       "Malcolm Gladwell                                     Armchair Expert with Dax ShepardMalcolm Gladwell   \n",
       "Episode 110: Joshua Proved The Muslim God Is Th...  Lets Be Honest PodcastEpisode 110: Joshua Prov...   \n",
       "\"Your Mums Old\" Ep2 featuring David Ajao - Seco...  No Money Mo Problems\"Your Mums Old\" Ep2 featur...   \n",
       "The Pilot/My First Day                              Fake Doctors, Real Friends with Zach and Donal...   \n",
       "#12 - SMii7Y DOESN'T do drugs!                      The Misfits Podcast#12 - SMii7Y DOESN'T do drugs!   \n",
       "#11 - What do we look for in a woman?               The Misfits Podcast#11 - What do we look for i...   \n",
       "Episode 107: Imagine Thanos With Post - Nut Cla...  Lets Be Honest PodcastEpisode 107: Imagine Tha...   \n",
       "Episode 99.75: We Are Clearly Not Ready For Epi...  Lets Be Honest PodcastEpisode 99.75: We Are Cl...   \n",
       "#13 - His dad found out...                              The Misfits Podcast#13 - His dad found out...   \n",
       "Sanjay Gupta on COVID-19                            Armchair Expert with Dax ShepardSanjay Gupta o...   \n",
       "\n",
       "                                                    secondsPlayed  minsPlayed  \\\n",
       "trackName                                                                       \n",
       "Adam Mosseri                                             7333.421  122.223683   \n",
       "#9 - WE WENT CAMPING                                     6101.546  101.692433   \n",
       "LIVE: Martina McBride                                    5994.019   99.900317   \n",
       "Rob Lowe                                                 5773.354   96.222567   \n",
       "Emilia Clarke                                            5070.801   84.513350   \n",
       "104: My Old Lady with Sarah Chalke                       4926.028   82.100467   \n",
       "Episode 102: The Welcome Back Parade                     4823.759   80.395983   \n",
       "Kumail Nanjiani                                          4731.521   78.858683   \n",
       "Julia Louis-Dreyfus                                      4659.266   77.654433   \n",
       "#10 - WE TOOK LSD                                        4274.716   71.245267   \n",
       "Malcolm Gladwell                                         4158.016   69.300267   \n",
       "Episode 110: Joshua Proved The Muslim God Is Th...       4095.253   68.254217   \n",
       "\"Your Mums Old\" Ep2 featuring David Ajao - Seco...       3858.380   64.306333   \n",
       "The Pilot/My First Day                                   3822.468   63.707800   \n",
       "#12 - SMii7Y DOESN'T do drugs!                           3759.156   62.652600   \n",
       "#11 - What do we look for in a woman?                    3545.159   59.085983   \n",
       "Episode 107: Imagine Thanos With Post - Nut Cla...       3510.997   58.516617   \n",
       "Episode 99.75: We Are Clearly Not Ready For Epi...       3390.336   56.505600   \n",
       "#13 - His dad found out...                               3360.618   56.010300   \n",
       "Sanjay Gupta on COVID-19                                 3108.526   51.808767   \n",
       "\n",
       "                                                    hoursPlayed  \n",
       "trackName                                                        \n",
       "Adam Mosseri                                           2.037061  \n",
       "#9 - WE WENT CAMPING                                   1.694874  \n",
       "LIVE: Martina McBride                                  1.665005  \n",
       "Rob Lowe                                               1.603709  \n",
       "Emilia Clarke                                          1.408556  \n",
       "104: My Old Lady with Sarah Chalke                     1.368341  \n",
       "Episode 102: The Welcome Back Parade                   1.339933  \n",
       "Kumail Nanjiani                                        1.314311  \n",
       "Julia Louis-Dreyfus                                    1.294241  \n",
       "#10 - WE TOOK LSD                                      1.187421  \n",
       "Malcolm Gladwell                                       1.155004  \n",
       "Episode 110: Joshua Proved The Muslim God Is Th...     1.137570  \n",
       "\"Your Mums Old\" Ep2 featuring David Ajao - Seco...     1.071772  \n",
       "The Pilot/My First Day                                 1.061797  \n",
       "#12 - SMii7Y DOESN'T do drugs!                         1.044210  \n",
       "#11 - What do we look for in a woman?                  0.984766  \n",
       "Episode 107: Imagine Thanos With Post - Nut Cla...     0.975277  \n",
       "Episode 99.75: We Are Clearly Not Ready For Epi...     0.941760  \n",
       "#13 - His dad found out...                             0.933505  \n",
       "Sanjay Gupta on COVID-19                               0.863479  "
      ]
     },
     "execution_count": 26,
     "metadata": {},
     "output_type": "execute_result"
    }
   ],
   "source": [
    "df.groupby('trackName').min().sort_values('msPlayed',ascending=False).head(20)"
   ]
  },
  {
   "cell_type": "markdown",
   "metadata": {},
   "source": [
    "- **Looks like spotify includes all my listening history in the data, including podcasts.**"
   ]
  },
  {
   "cell_type": "markdown",
   "metadata": {},
   "source": [
    "### On average how long do I listen to a track for ?"
   ]
  },
  {
   "cell_type": "code",
   "execution_count": 27,
   "metadata": {},
   "outputs": [
    {
     "data": {
      "text/plain": [
       "9.379346130846304"
      ]
     },
     "execution_count": 27,
     "metadata": {},
     "output_type": "execute_result"
    }
   ],
   "source": [
    "df.groupby(['trackName','artistName']).sum()['minsPlayed'].mean()"
   ]
  },
  {
   "cell_type": "markdown",
   "metadata": {},
   "source": [
    "- **On average it looks like I listen to a track for about 9 minutes. This is probably skewed due to podcasts being included. So let's find the median instead since its more robust against outliers.**"
   ]
  },
  {
   "cell_type": "markdown",
   "metadata": {},
   "source": [
    "### What's the median listening time for a track"
   ]
  },
  {
   "cell_type": "code",
   "execution_count": 28,
   "metadata": {},
   "outputs": [
    {
     "data": {
      "text/plain": [
       "3.0618833333333333"
      ]
     },
     "execution_count": 28,
     "metadata": {},
     "output_type": "execute_result"
    }
   ],
   "source": [
    "df.groupby(['trackName','artistName']).sum()['minsPlayed'].median()"
   ]
  },
  {
   "cell_type": "markdown",
   "metadata": {},
   "source": [
    "- **Great, this looks more realistic.**"
   ]
  },
  {
   "cell_type": "markdown",
   "metadata": {},
   "source": [
    "### Let's plot a histogram of our listening time"
   ]
  },
  {
   "cell_type": "code",
   "execution_count": 29,
   "metadata": {
    "scrolled": false
   },
   "outputs": [
    {
     "data": {
      "text/plain": [
       "<matplotlib.axes._subplots.AxesSubplot at 0x117b45c50>"
      ]
     },
     "execution_count": 29,
     "metadata": {},
     "output_type": "execute_result"
    },
    {
     "data": {
      "image/png": "[encoded data removed]",
      "text/plain": [
       "<Figure size 1008x432 with 1 Axes>"
      ]
     },
     "metadata": {
      "needs_background": "light"
     },
     "output_type": "display_data"
    }
   ],
   "source": [
    "listeningTime = df.groupby(['trackName','artistName']).sum()\n",
    "plt.figure(figsize=(14,6))\n",
    "sns.distplot(listeningTime['minsPlayed'], bins=30)"
   ]
  },
  {
   "cell_type": "markdown",
   "metadata": {},
   "source": [
    "- **It looks like I have a few favourites which I listen to for long durations and many songs which I listen to for not very long.**"
   ]
  },
  {
   "cell_type": "markdown",
   "metadata": {},
   "source": [
    "### Let's zoom into this histogram by limiting our data to only include tracks less than 100 minutes"
   ]
  },
  {
   "cell_type": "code",
   "execution_count": 30,
   "metadata": {
    "scrolled": false
   },
   "outputs": [
    {
     "data": {
      "image/png": "[encoded data removed]",
      "text/plain": [
       "<Figure size 1008x432 with 1 Axes>"
      ]
     },
     "metadata": {
      "needs_background": "light"
     },
     "output_type": "display_data"
    }
   ],
   "source": [
    "listeningTime = listeningTime[listeningTime['minsPlayed']<100]\n",
    "plt.figure(figsize=(14,6))\n",
    "ax = sns.distplot(listeningTime['minsPlayed'], bins=20)\n",
    "mids = [rect.get_x() + rect.get_width() for rect in ax.patches]\n",
    "ax.set_xticks(mids)\n",
    "ax.tick_params(axis='x', rotation=90, labelsize=8)\n",
    "plt.title('Histogram of Minutes Played')\n",
    "\n",
    "plt.show()"
   ]
  },
  {
   "cell_type": "markdown",
   "metadata": {},
   "source": [
    "- **Brilliant, we can now see more clearly that the majority of songs will only be listened to between 0 and 5 mins.** \n",
    "\n",
    "- **I can use this information to form a defintion of what my favourite songs are e.g. if I listened to song for more than 10 minutes, than I probably liked it**\n"
   ]
  },
  {
   "cell_type": "markdown",
   "metadata": {},
   "source": [
    "# Part 2. Access Spotify API"
   ]
  },
  {
   "cell_type": "markdown",
   "metadata": {},
   "source": [
    "**So we've learned about my listening habbits through data exploration, which was fun and revealing. Now lets start getting into the main part of this project, which is to use unsupervised learning (K-means clustering) in order to organize my favourite songs into clusters of simialr songs and use these clusters to build playlists, which I (and you) can listen to later**\n",
    "\n",
    "**Before we can do that however, we need to get some features to work with. The streaming data we've used thus far doesn't include addtitional attributes information about the tracks e.g. tempo, loudness etc. This is because spotify expects us to request these features. Thus, to get this information we are going to need to access the spotify API.**"
   ]
  },
  {
   "cell_type": "markdown",
   "metadata": {},
   "source": [
    "## NOTE:\n",
    "**To access the spotify API there are some pre-requiste steps you'll need complete e.g. sign up as a Spotify Developer and Register an App. Since requesting data for thousands of songs can take some time I don't reccommend you running the code below - which is why I've commented it out. Instead, I've already run the commented out code below, and saved the result in as a cvs called metadata, which you can load below.**\n",
    "\n",
    "**If however, you do want to learn how to make your own requests, here's a great article I used to help me get set up: https://towardsdatascience.com/get-your-spotify-streaming-history-with-python-d5a208bbcbd3**"
   ]
  },
  {
   "cell_type": "markdown",
   "metadata": {},
   "source": [
    "### First, lets install the libraries we'll need"
   ]
  },
  {
   "cell_type": "code",
   "execution_count": 31,
   "metadata": {
    "scrolled": true
   },
   "outputs": [],
   "source": [
    "# # Install a pip package in the current Jupyter kernel\n",
    "# import sys\n",
    "# !{sys.executable} -m pip install spotipy requests"
   ]
  },
  {
   "cell_type": "markdown",
   "metadata": {},
   "source": [
    "### Next let's import the relevant libraries and set up our credentials"
   ]
  },
  {
   "cell_type": "code",
   "execution_count": 243,
   "metadata": {},
   "outputs": [],
   "source": [
    "# import spotipy.util as util\n",
    "# import spotipy\n",
    "# from credential import creds #I stored my credential in a secret file\n",
    "\n",
    "# username = creds['username']\n",
    "# client_id = creds['client_id']\n",
    "# client_secret = creds['client_secret']\n",
    "# redirect_uri = 'http://localhost:7777/callback'\n",
    "# scope = 'user-read-recently-played'\n",
    "\n",
    "\n",
    "# token = util.prompt_for_user_token(username=username, \n",
    "#                                    scope=scope, \n",
    "#                                    client_id=client_id,   \n",
    "#                                    client_secret=client_secret,     \n",
    "#                                    redirect_uri=redirect_uri)"
   ]
  },
  {
   "cell_type": "markdown",
   "metadata": {},
   "source": [
    "### Let's create a function to get the track IDs \n",
    "- **Remember we want to get more features for each of our songs. To do this, first we need to get each tracks ID**"
   ]
  },
  {
   "cell_type": "code",
   "execution_count": 33,
   "metadata": {},
   "outputs": [],
   "source": [
    "# import requests\n",
    "# def get_id(track_name: str, token: str, artist: str) -> str:\n",
    "#     headers = {\n",
    "#         'Accept': 'application/json',\n",
    "#         'Content-Type': 'application/json',\n",
    "#         'Authorization': f'Bearer ' + token}\n",
    "#     params = [\n",
    "#         ('q', track_name),\n",
    "#         ('type', 'track'),\n",
    "#         ('type', 'artist')\n",
    "#     ]\n",
    "#     try:\n",
    "#         response = requests.get('https://api.spotify.com/v1/search', \n",
    "#                     headers = headers, params = params, timeout = 5)\n",
    "#         json = response.json()\n",
    "#         for i in range(len(json['tracks']['items'])):\n",
    "#             if json['tracks']['items'][i]['artists'][0]['name'] == artist:\n",
    "#                 result = json['tracks']['items'][i]\n",
    "#                 track_id = result['id']\n",
    "#                 return track_id\n",
    "#     except:\n",
    "#         return None\n",
    "    \n"
   ]
  },
  {
   "cell_type": "markdown",
   "metadata": {},
   "source": [
    "### Let's test to see if our function works"
   ]
  },
  {
   "cell_type": "code",
   "execution_count": 34,
   "metadata": {},
   "outputs": [],
   "source": [
    "# track_id = get_id('Get Lucky', token, \"Daft Punk\")\n",
    "# print(track_id)"
   ]
  },
  {
   "cell_type": "markdown",
   "metadata": {},
   "source": [
    "- **Great it does!**"
   ]
  },
  {
   "cell_type": "markdown",
   "metadata": {},
   "source": [
    "### Now we have our track ID, we can now get some metadata for each of our tracks."
   ]
  },
  {
   "cell_type": "code",
   "execution_count": 35,
   "metadata": {},
   "outputs": [],
   "source": [
    "# def get_features(track_id: str, token: str) -> dict:\n",
    "#     sp = spotipy.Spotify(auth=token)\n",
    "#     try:\n",
    "#         features = sp.audio_features([track_id])\n",
    "#         return features[0]\n",
    "#     except:\n",
    "#         return None"
   ]
  },
  {
   "cell_type": "markdown",
   "metadata": {},
   "source": [
    "### Let's test this out for the track we just generated"
   ]
  },
  {
   "cell_type": "code",
   "execution_count": 36,
   "metadata": {
    "scrolled": false
   },
   "outputs": [],
   "source": [
    "# track_features = get_features(track_id, token)\n",
    "# print(track_features)"
   ]
  },
  {
   "cell_type": "markdown",
   "metadata": {},
   "source": [
    "- **Excellent, it also works!**"
   ]
  },
  {
   "cell_type": "markdown",
   "metadata": {},
   "source": [
    "### Putting it all together\n",
    "- **Now let's get the trackIDs and metadata for each unique track**"
   ]
  },
  {
   "cell_type": "markdown",
   "metadata": {},
   "source": [
    "### First, lets create a dictionary we can continously update"
   ]
  },
  {
   "cell_type": "code",
   "execution_count": 37,
   "metadata": {},
   "outputs": [],
   "source": [
    "# metadata = {\n",
    "#     'id': [],\n",
    "#     'danceability': [],\n",
    "#     'energy': [],\n",
    "#     'key': [],\n",
    "#     'loudness': [],\n",
    "#     'speechiness': [],\n",
    "#     'acousticness': [],\n",
    "#     'instrumentalness': [],\n",
    "#     'liveness': [],\n",
    "#     'valence': [],\n",
    "#     'tempo': [],\n",
    "#     'type': [],\n",
    "#     'duration_ms': []\n",
    "# }"
   ]
  },
  {
   "cell_type": "markdown",
   "metadata": {},
   "source": [
    "### Get track IDs"
   ]
  },
  {
   "cell_type": "code",
   "execution_count": 38,
   "metadata": {
    "scrolled": false
   },
   "outputs": [],
   "source": [
    "# from tqdm import tqdm # this library provides a loading bar which will help us get a sense on how long this'll take\n",
    "\n",
    "# for artist, track in tqdm(zip(uniqueTracksDf['artistName'],uniqueTracksDf['trackName']), total=len(uniqueTracksDf['artistName'])):\n",
    "#     try:\n",
    "#         metadata['id'].append(get_id(track, token, artist))\n",
    "#     except:\n",
    "#         metadata['id'].append(None)\n",
    "# #         metadata['id'].append('Missing')\n"
   ]
  },
  {
   "cell_type": "markdown",
   "metadata": {},
   "source": [
    "### Check to see if the number of track IDs we have matches the number of unique tracks"
   ]
  },
  {
   "cell_type": "code",
   "execution_count": 39,
   "metadata": {},
   "outputs": [],
   "source": [
    "# len(metadata['id']) == len(uniqueTracksDf)"
   ]
  },
  {
   "cell_type": "markdown",
   "metadata": {},
   "source": [
    "### Get song metadata"
   ]
  },
  {
   "cell_type": "code",
   "execution_count": 40,
   "metadata": {
    "scrolled": true
   },
   "outputs": [],
   "source": [
    "# for track_id in tqdm(metadata['id']):\n",
    "#     try:\n",
    "#         track_features = get_features(track_id, token)\n",
    "#         metadata['danceability'].append(track_features['danceability'])\n",
    "#         metadata['energy'].append(track_features['energy'])\n",
    "#         metadata['key'].append(track_features['key'])\n",
    "#         metadata['loudness'].append(track_features['loudness'])\n",
    "#         metadata['speechiness'].append(track_features['speechiness'])\n",
    "#         metadata['acousticness'].append(track_features['acousticness'])\n",
    "#         metadata['instrumentalness'].append(track_features['instrumentalness'])\n",
    "#         metadata['liveness'].append(track_features['liveness'])\n",
    "#         metadata['valence'].append(track_features['valence'])\n",
    "#         metadata['tempo'].append(track_features['tempo'])\n",
    "#         metadata['type'].append(track_features['type'])\n",
    "#         metadata['duration_ms'].append(track_features['duration_ms'])\n",
    "#     except:\n",
    "#         metadata['danceability'].append(None)\n",
    "#         metadata['energy'].append(None)\n",
    "#         metadata['key'].append(None)\n",
    "#         metadata['loudness'].append(None)\n",
    "#         metadata['speechiness'].append(None)\n",
    "#         metadata['acousticness'].append(None)\n",
    "#         metadata['instrumentalness'].append(None)\n",
    "#         metadata['liveness'].append(None)\n",
    "#         metadata['valence'].append(None)\n",
    "#         metadata['tempo'].append(None)\n",
    "#         metadata['type'].append(None)\n",
    "#         metadata['duration_ms'].append(None)"
   ]
  },
  {
   "cell_type": "markdown",
   "metadata": {},
   "source": [
    "### Check that lenghts of each attribute are the same"
   ]
  },
  {
   "cell_type": "code",
   "execution_count": 41,
   "metadata": {},
   "outputs": [],
   "source": [
    "# for i in metadata.keys():\n",
    "#     print(len(metadata[i]))\n",
    "    "
   ]
  },
  {
   "cell_type": "markdown",
   "metadata": {},
   "source": [
    "### Convert our metadata dictionary into a dataframe"
   ]
  },
  {
   "cell_type": "code",
   "execution_count": 42,
   "metadata": {},
   "outputs": [],
   "source": [
    "# metadata_df = pd.DataFrame(metadata)\n",
    "# metadata_df.head()"
   ]
  },
  {
   "cell_type": "markdown",
   "metadata": {},
   "source": [
    "### Save our metadata as a csv so we don't lose it"
   ]
  },
  {
   "cell_type": "code",
   "execution_count": 43,
   "metadata": {},
   "outputs": [],
   "source": [
    "# metadata_df.to_csv('metadata.csv')"
   ]
  },
  {
   "cell_type": "markdown",
   "metadata": {},
   "source": [
    "### Load metadata"
   ]
  },
  {
   "cell_type": "code",
   "execution_count": 44,
   "metadata": {},
   "outputs": [],
   "source": [
    "metadata_df = pd.read_csv('metadata.csv')"
   ]
  },
  {
   "cell_type": "markdown",
   "metadata": {},
   "source": [
    "### Concatenate our two datasets together"
   ]
  },
  {
   "cell_type": "code",
   "execution_count": 45,
   "metadata": {},
   "outputs": [],
   "source": [
    "metadata_df.reset_index(inplace=True, drop=True)\n",
    "uniqueTracksDf.reset_index(inplace=True, drop=True)"
   ]
  },
  {
   "cell_type": "code",
   "execution_count": 46,
   "metadata": {},
   "outputs": [],
   "source": [
    "final = pd.concat([uniqueTracksDf,metadata_df],axis=1)"
   ]
  },
  {
   "cell_type": "code",
   "execution_count": 47,
   "metadata": {},
   "outputs": [
    {
     "data": {
      "text/html": [
       "<div>\n",
       "<style scoped>\n",
       "    .dataframe tbody tr th:only-of-type {\n",
       "        vertical-align: middle;\n",
       "    }\n",
       "\n",
       "    .dataframe tbody tr th {\n",
       "        vertical-align: top;\n",
       "    }\n",
       "\n",
       "    .dataframe thead th {\n",
       "        text-align: right;\n",
       "    }\n",
       "</style>\n",
       "<table border=\"1\" class=\"dataframe\">\n",
       "  <thead>\n",
       "    <tr style=\"text-align: right;\">\n",
       "      <th></th>\n",
       "      <th>artistName</th>\n",
       "      <th>endTime</th>\n",
       "      <th>msPlayed</th>\n",
       "      <th>trackName</th>\n",
       "      <th>artistPlusTrack</th>\n",
       "      <th>Unnamed: 0</th>\n",
       "      <th>id</th>\n",
       "      <th>danceability</th>\n",
       "      <th>energy</th>\n",
       "      <th>key</th>\n",
       "      <th>...</th>\n",
       "      <th>mode</th>\n",
       "      <th>speechiness</th>\n",
       "      <th>acousticness</th>\n",
       "      <th>instrumentalness</th>\n",
       "      <th>liveness</th>\n",
       "      <th>valence</th>\n",
       "      <th>tempo</th>\n",
       "      <th>type</th>\n",
       "      <th>duration_ms</th>\n",
       "      <th>time_signature</th>\n",
       "    </tr>\n",
       "  </thead>\n",
       "  <tbody>\n",
       "    <tr>\n",
       "      <th>0</th>\n",
       "      <td>The Revivalists</td>\n",
       "      <td>2019-06-21 17:37:00</td>\n",
       "      <td>24008</td>\n",
       "      <td>Wish I Knew You</td>\n",
       "      <td>The RevivalistsWish I Knew You</td>\n",
       "      <td>0</td>\n",
       "      <td>2EWpa5XnAuSn0sIkSSIhYk</td>\n",
       "      <td>0.649</td>\n",
       "      <td>0.718</td>\n",
       "      <td>0.0</td>\n",
       "      <td>...</td>\n",
       "      <td>0.0</td>\n",
       "      <td>0.0261</td>\n",
       "      <td>0.14200</td>\n",
       "      <td>0.071300</td>\n",
       "      <td>0.1240</td>\n",
       "      <td>0.718</td>\n",
       "      <td>101.034</td>\n",
       "      <td>audio_features</td>\n",
       "      <td>274093.0</td>\n",
       "      <td>4.0</td>\n",
       "    </tr>\n",
       "    <tr>\n",
       "      <th>1</th>\n",
       "      <td>The Game</td>\n",
       "      <td>2019-06-30 23:54:00</td>\n",
       "      <td>277025</td>\n",
       "      <td>Dreams</td>\n",
       "      <td>The GameDreams</td>\n",
       "      <td>1</td>\n",
       "      <td>5F7caGhe84C6ONva5S8yXF</td>\n",
       "      <td>0.630</td>\n",
       "      <td>0.780</td>\n",
       "      <td>6.0</td>\n",
       "      <td>...</td>\n",
       "      <td>1.0</td>\n",
       "      <td>0.2210</td>\n",
       "      <td>0.00499</td>\n",
       "      <td>0.000000</td>\n",
       "      <td>0.2060</td>\n",
       "      <td>0.281</td>\n",
       "      <td>155.779</td>\n",
       "      <td>audio_features</td>\n",
       "      <td>286453.0</td>\n",
       "      <td>4.0</td>\n",
       "    </tr>\n",
       "    <tr>\n",
       "      <th>2</th>\n",
       "      <td>The Hundred In The Hands</td>\n",
       "      <td>2019-07-01 18:29:00</td>\n",
       "      <td>211586</td>\n",
       "      <td>Dressed In Dresden</td>\n",
       "      <td>The Hundred In The HandsDressed In Dresden</td>\n",
       "      <td>2</td>\n",
       "      <td>3axp4dcei5PDShQZTCRdn1</td>\n",
       "      <td>0.673</td>\n",
       "      <td>0.693</td>\n",
       "      <td>9.0</td>\n",
       "      <td>...</td>\n",
       "      <td>0.0</td>\n",
       "      <td>0.0993</td>\n",
       "      <td>0.00100</td>\n",
       "      <td>0.744000</td>\n",
       "      <td>0.1650</td>\n",
       "      <td>0.795</td>\n",
       "      <td>153.982</td>\n",
       "      <td>audio_features</td>\n",
       "      <td>211587.0</td>\n",
       "      <td>4.0</td>\n",
       "    </tr>\n",
       "    <tr>\n",
       "      <th>3</th>\n",
       "      <td>Tennis</td>\n",
       "      <td>2019-07-01 18:30:00</td>\n",
       "      <td>1770</td>\n",
       "      <td>Marathon</td>\n",
       "      <td>TennisMarathon</td>\n",
       "      <td>3</td>\n",
       "      <td>2Zi216Zlq47fisSvk3eEN7</td>\n",
       "      <td>0.548</td>\n",
       "      <td>0.397</td>\n",
       "      <td>9.0</td>\n",
       "      <td>...</td>\n",
       "      <td>0.0</td>\n",
       "      <td>0.0274</td>\n",
       "      <td>0.95600</td>\n",
       "      <td>0.000074</td>\n",
       "      <td>0.1090</td>\n",
       "      <td>0.780</td>\n",
       "      <td>160.882</td>\n",
       "      <td>audio_features</td>\n",
       "      <td>165467.0</td>\n",
       "      <td>4.0</td>\n",
       "    </tr>\n",
       "    <tr>\n",
       "      <th>4</th>\n",
       "      <td>Mase</td>\n",
       "      <td>2019-07-01 18:30:00</td>\n",
       "      <td>95945</td>\n",
       "      <td>Feel so Good</td>\n",
       "      <td>MaseFeel so Good</td>\n",
       "      <td>4</td>\n",
       "      <td>7hfRrdFJgFKK3cJ4rmkecE</td>\n",
       "      <td>0.821</td>\n",
       "      <td>0.703</td>\n",
       "      <td>11.0</td>\n",
       "      <td>...</td>\n",
       "      <td>0.0</td>\n",
       "      <td>0.2400</td>\n",
       "      <td>0.19200</td>\n",
       "      <td>0.000000</td>\n",
       "      <td>0.0816</td>\n",
       "      <td>0.536</td>\n",
       "      <td>105.154</td>\n",
       "      <td>audio_features</td>\n",
       "      <td>203627.0</td>\n",
       "      <td>4.0</td>\n",
       "    </tr>\n",
       "  </tbody>\n",
       "</table>\n",
       "<p>5 rows × 21 columns</p>\n",
       "</div>"
      ],
      "text/plain": [
       "                 artistName             endTime  msPlayed           trackName  \\\n",
       "0           The Revivalists 2019-06-21 17:37:00     24008     Wish I Knew You   \n",
       "1                  The Game 2019-06-30 23:54:00    277025              Dreams   \n",
       "2  The Hundred In The Hands 2019-07-01 18:29:00    211586  Dressed In Dresden   \n",
       "3                    Tennis 2019-07-01 18:30:00      1770            Marathon   \n",
       "4                      Mase 2019-07-01 18:30:00     95945        Feel so Good   \n",
       "\n",
       "                              artistPlusTrack  Unnamed: 0  \\\n",
       "0              The RevivalistsWish I Knew You           0   \n",
       "1                              The GameDreams           1   \n",
       "2  The Hundred In The HandsDressed In Dresden           2   \n",
       "3                              TennisMarathon           3   \n",
       "4                            MaseFeel so Good           4   \n",
       "\n",
       "                       id  danceability  energy   key       ...        mode  \\\n",
       "0  2EWpa5XnAuSn0sIkSSIhYk         0.649   0.718   0.0       ...         0.0   \n",
       "1  5F7caGhe84C6ONva5S8yXF         0.630   0.780   6.0       ...         1.0   \n",
       "2  3axp4dcei5PDShQZTCRdn1         0.673   0.693   9.0       ...         0.0   \n",
       "3  2Zi216Zlq47fisSvk3eEN7         0.548   0.397   9.0       ...         0.0   \n",
       "4  7hfRrdFJgFKK3cJ4rmkecE         0.821   0.703  11.0       ...         0.0   \n",
       "\n",
       "   speechiness  acousticness  instrumentalness  liveness  valence    tempo  \\\n",
       "0       0.0261       0.14200          0.071300    0.1240    0.718  101.034   \n",
       "1       0.2210       0.00499          0.000000    0.2060    0.281  155.779   \n",
       "2       0.0993       0.00100          0.744000    0.1650    0.795  153.982   \n",
       "3       0.0274       0.95600          0.000074    0.1090    0.780  160.882   \n",
       "4       0.2400       0.19200          0.000000    0.0816    0.536  105.154   \n",
       "\n",
       "             type duration_ms  time_signature  \n",
       "0  audio_features    274093.0             4.0  \n",
       "1  audio_features    286453.0             4.0  \n",
       "2  audio_features    211587.0             4.0  \n",
       "3  audio_features    165467.0             4.0  \n",
       "4  audio_features    203627.0             4.0  \n",
       "\n",
       "[5 rows x 21 columns]"
      ]
     },
     "execution_count": 47,
     "metadata": {},
     "output_type": "execute_result"
    }
   ],
   "source": [
    "final.head()"
   ]
  },
  {
   "cell_type": "markdown",
   "metadata": {},
   "source": [
    "- **Not sure what the unnamed column is about. We don't need it in any case so let's drop it**"
   ]
  },
  {
   "cell_type": "code",
   "execution_count": 48,
   "metadata": {},
   "outputs": [],
   "source": [
    "final.drop('Unnamed: 0', axis=1, inplace=True)"
   ]
  },
  {
   "cell_type": "code",
   "execution_count": 49,
   "metadata": {
    "scrolled": true
   },
   "outputs": [
    {
     "data": {
      "text/html": [
       "<div>\n",
       "<style scoped>\n",
       "    .dataframe tbody tr th:only-of-type {\n",
       "        vertical-align: middle;\n",
       "    }\n",
       "\n",
       "    .dataframe tbody tr th {\n",
       "        vertical-align: top;\n",
       "    }\n",
       "\n",
       "    .dataframe thead th {\n",
       "        text-align: right;\n",
       "    }\n",
       "</style>\n",
       "<table border=\"1\" class=\"dataframe\">\n",
       "  <thead>\n",
       "    <tr style=\"text-align: right;\">\n",
       "      <th></th>\n",
       "      <th>artistName</th>\n",
       "      <th>endTime</th>\n",
       "      <th>msPlayed</th>\n",
       "      <th>trackName</th>\n",
       "      <th>artistPlusTrack</th>\n",
       "      <th>id</th>\n",
       "      <th>danceability</th>\n",
       "      <th>energy</th>\n",
       "      <th>key</th>\n",
       "      <th>loudness</th>\n",
       "      <th>mode</th>\n",
       "      <th>speechiness</th>\n",
       "      <th>acousticness</th>\n",
       "      <th>instrumentalness</th>\n",
       "      <th>liveness</th>\n",
       "      <th>valence</th>\n",
       "      <th>tempo</th>\n",
       "      <th>type</th>\n",
       "      <th>duration_ms</th>\n",
       "      <th>time_signature</th>\n",
       "    </tr>\n",
       "  </thead>\n",
       "  <tbody>\n",
       "    <tr>\n",
       "      <th>0</th>\n",
       "      <td>The Revivalists</td>\n",
       "      <td>2019-06-21 17:37:00</td>\n",
       "      <td>24008</td>\n",
       "      <td>Wish I Knew You</td>\n",
       "      <td>The RevivalistsWish I Knew You</td>\n",
       "      <td>2EWpa5XnAuSn0sIkSSIhYk</td>\n",
       "      <td>0.649</td>\n",
       "      <td>0.718</td>\n",
       "      <td>0.0</td>\n",
       "      <td>-6.593</td>\n",
       "      <td>0.0</td>\n",
       "      <td>0.0261</td>\n",
       "      <td>0.14200</td>\n",
       "      <td>0.071300</td>\n",
       "      <td>0.1240</td>\n",
       "      <td>0.718</td>\n",
       "      <td>101.034</td>\n",
       "      <td>audio_features</td>\n",
       "      <td>274093.0</td>\n",
       "      <td>4.0</td>\n",
       "    </tr>\n",
       "    <tr>\n",
       "      <th>1</th>\n",
       "      <td>The Game</td>\n",
       "      <td>2019-06-30 23:54:00</td>\n",
       "      <td>277025</td>\n",
       "      <td>Dreams</td>\n",
       "      <td>The GameDreams</td>\n",
       "      <td>5F7caGhe84C6ONva5S8yXF</td>\n",
       "      <td>0.630</td>\n",
       "      <td>0.780</td>\n",
       "      <td>6.0</td>\n",
       "      <td>-5.353</td>\n",
       "      <td>1.0</td>\n",
       "      <td>0.2210</td>\n",
       "      <td>0.00499</td>\n",
       "      <td>0.000000</td>\n",
       "      <td>0.2060</td>\n",
       "      <td>0.281</td>\n",
       "      <td>155.779</td>\n",
       "      <td>audio_features</td>\n",
       "      <td>286453.0</td>\n",
       "      <td>4.0</td>\n",
       "    </tr>\n",
       "    <tr>\n",
       "      <th>2</th>\n",
       "      <td>The Hundred In The Hands</td>\n",
       "      <td>2019-07-01 18:29:00</td>\n",
       "      <td>211586</td>\n",
       "      <td>Dressed In Dresden</td>\n",
       "      <td>The Hundred In The HandsDressed In Dresden</td>\n",
       "      <td>3axp4dcei5PDShQZTCRdn1</td>\n",
       "      <td>0.673</td>\n",
       "      <td>0.693</td>\n",
       "      <td>9.0</td>\n",
       "      <td>-5.668</td>\n",
       "      <td>0.0</td>\n",
       "      <td>0.0993</td>\n",
       "      <td>0.00100</td>\n",
       "      <td>0.744000</td>\n",
       "      <td>0.1650</td>\n",
       "      <td>0.795</td>\n",
       "      <td>153.982</td>\n",
       "      <td>audio_features</td>\n",
       "      <td>211587.0</td>\n",
       "      <td>4.0</td>\n",
       "    </tr>\n",
       "    <tr>\n",
       "      <th>3</th>\n",
       "      <td>Tennis</td>\n",
       "      <td>2019-07-01 18:30:00</td>\n",
       "      <td>1770</td>\n",
       "      <td>Marathon</td>\n",
       "      <td>TennisMarathon</td>\n",
       "      <td>2Zi216Zlq47fisSvk3eEN7</td>\n",
       "      <td>0.548</td>\n",
       "      <td>0.397</td>\n",
       "      <td>9.0</td>\n",
       "      <td>-8.117</td>\n",
       "      <td>0.0</td>\n",
       "      <td>0.0274</td>\n",
       "      <td>0.95600</td>\n",
       "      <td>0.000074</td>\n",
       "      <td>0.1090</td>\n",
       "      <td>0.780</td>\n",
       "      <td>160.882</td>\n",
       "      <td>audio_features</td>\n",
       "      <td>165467.0</td>\n",
       "      <td>4.0</td>\n",
       "    </tr>\n",
       "    <tr>\n",
       "      <th>4</th>\n",
       "      <td>Mase</td>\n",
       "      <td>2019-07-01 18:30:00</td>\n",
       "      <td>95945</td>\n",
       "      <td>Feel so Good</td>\n",
       "      <td>MaseFeel so Good</td>\n",
       "      <td>7hfRrdFJgFKK3cJ4rmkecE</td>\n",
       "      <td>0.821</td>\n",
       "      <td>0.703</td>\n",
       "      <td>11.0</td>\n",
       "      <td>-8.464</td>\n",
       "      <td>0.0</td>\n",
       "      <td>0.2400</td>\n",
       "      <td>0.19200</td>\n",
       "      <td>0.000000</td>\n",
       "      <td>0.0816</td>\n",
       "      <td>0.536</td>\n",
       "      <td>105.154</td>\n",
       "      <td>audio_features</td>\n",
       "      <td>203627.0</td>\n",
       "      <td>4.0</td>\n",
       "    </tr>\n",
       "  </tbody>\n",
       "</table>\n",
       "</div>"
      ],
      "text/plain": [
       "                 artistName             endTime  msPlayed           trackName  \\\n",
       "0           The Revivalists 2019-06-21 17:37:00     24008     Wish I Knew You   \n",
       "1                  The Game 2019-06-30 23:54:00    277025              Dreams   \n",
       "2  The Hundred In The Hands 2019-07-01 18:29:00    211586  Dressed In Dresden   \n",
       "3                    Tennis 2019-07-01 18:30:00      1770            Marathon   \n",
       "4                      Mase 2019-07-01 18:30:00     95945        Feel so Good   \n",
       "\n",
       "                              artistPlusTrack                      id  \\\n",
       "0              The RevivalistsWish I Knew You  2EWpa5XnAuSn0sIkSSIhYk   \n",
       "1                              The GameDreams  5F7caGhe84C6ONva5S8yXF   \n",
       "2  The Hundred In The HandsDressed In Dresden  3axp4dcei5PDShQZTCRdn1   \n",
       "3                              TennisMarathon  2Zi216Zlq47fisSvk3eEN7   \n",
       "4                            MaseFeel so Good  7hfRrdFJgFKK3cJ4rmkecE   \n",
       "\n",
       "   danceability  energy   key  loudness  mode  speechiness  acousticness  \\\n",
       "0         0.649   0.718   0.0    -6.593   0.0       0.0261       0.14200   \n",
       "1         0.630   0.780   6.0    -5.353   1.0       0.2210       0.00499   \n",
       "2         0.673   0.693   9.0    -5.668   0.0       0.0993       0.00100   \n",
       "3         0.548   0.397   9.0    -8.117   0.0       0.0274       0.95600   \n",
       "4         0.821   0.703  11.0    -8.464   0.0       0.2400       0.19200   \n",
       "\n",
       "   instrumentalness  liveness  valence    tempo            type  duration_ms  \\\n",
       "0          0.071300    0.1240    0.718  101.034  audio_features     274093.0   \n",
       "1          0.000000    0.2060    0.281  155.779  audio_features     286453.0   \n",
       "2          0.744000    0.1650    0.795  153.982  audio_features     211587.0   \n",
       "3          0.000074    0.1090    0.780  160.882  audio_features     165467.0   \n",
       "4          0.000000    0.0816    0.536  105.154  audio_features     203627.0   \n",
       "\n",
       "   time_signature  \n",
       "0             4.0  \n",
       "1             4.0  \n",
       "2             4.0  \n",
       "3             4.0  \n",
       "4             4.0  "
      ]
     },
     "execution_count": 49,
     "metadata": {},
     "output_type": "execute_result"
    }
   ],
   "source": [
    "final.head()"
   ]
  },
  {
   "cell_type": "markdown",
   "metadata": {},
   "source": [
    "### Check for NAs - I found some tracks were returning None for ID so we can expect some missing values"
   ]
  },
  {
   "cell_type": "code",
   "execution_count": 50,
   "metadata": {
    "scrolled": false
   },
   "outputs": [
    {
     "data": {
      "text/plain": [
       "artistName            0\n",
       "endTime               0\n",
       "msPlayed              0\n",
       "trackName             0\n",
       "artistPlusTrack       0\n",
       "id                  830\n",
       "danceability        830\n",
       "energy              830\n",
       "key                 830\n",
       "loudness            830\n",
       "mode                830\n",
       "speechiness         830\n",
       "acousticness        830\n",
       "instrumentalness    830\n",
       "liveness            830\n",
       "valence             830\n",
       "tempo               830\n",
       "type                830\n",
       "duration_ms         830\n",
       "time_signature      830\n",
       "dtype: int64"
      ]
     },
     "execution_count": 50,
     "metadata": {},
     "output_type": "execute_result"
    }
   ],
   "source": [
    "final.isna().sum()\n",
    "#830 null values"
   ]
  },
  {
   "cell_type": "markdown",
   "metadata": {},
   "source": [
    "- **830 missing values out of 8000 isn't too bad, so we can afford to drop them**"
   ]
  },
  {
   "cell_type": "markdown",
   "metadata": {},
   "source": [
    "### Drop missing values"
   ]
  },
  {
   "cell_type": "code",
   "execution_count": 51,
   "metadata": {},
   "outputs": [],
   "source": [
    "final = final.dropna()"
   ]
  },
  {
   "cell_type": "code",
   "execution_count": 52,
   "metadata": {
    "scrolled": false
   },
   "outputs": [
    {
     "data": {
      "text/plain": [
       "artistName          0\n",
       "endTime             0\n",
       "msPlayed            0\n",
       "trackName           0\n",
       "artistPlusTrack     0\n",
       "id                  0\n",
       "danceability        0\n",
       "energy              0\n",
       "key                 0\n",
       "loudness            0\n",
       "mode                0\n",
       "speechiness         0\n",
       "acousticness        0\n",
       "instrumentalness    0\n",
       "liveness            0\n",
       "valence             0\n",
       "tempo               0\n",
       "type                0\n",
       "duration_ms         0\n",
       "time_signature      0\n",
       "dtype: int64"
      ]
     },
     "execution_count": 52,
     "metadata": {},
     "output_type": "execute_result"
    }
   ],
   "source": [
    "final.isna().sum()"
   ]
  },
  {
   "cell_type": "markdown",
   "metadata": {},
   "source": [
    "- **No more missing values. Great!**"
   ]
  },
  {
   "cell_type": "code",
   "execution_count": 53,
   "metadata": {},
   "outputs": [
    {
     "data": {
      "text/plain": [
       "(7587, 20)"
      ]
     },
     "execution_count": 53,
     "metadata": {},
     "output_type": "execute_result"
    }
   ],
   "source": [
    "final.shape"
   ]
  },
  {
   "cell_type": "markdown",
   "metadata": {},
   "source": [
    "- **We have 7587 tracks in our final dataset.**"
   ]
  },
  {
   "cell_type": "markdown",
   "metadata": {},
   "source": [
    "# Part 3. Unsupervised Learning"
   ]
  },
  {
   "cell_type": "markdown",
   "metadata": {},
   "source": [
    "**The aim of this project is to use an unsupervised learning algorithm to organise my favourite songs and cluster them into playlists of simialr songs. In order to do this however, we first need to decide how to define 'favoruite'**"
   ]
  },
  {
   "cell_type": "code",
   "execution_count": 54,
   "metadata": {
    "scrolled": false
   },
   "outputs": [
    {
     "data": {
      "image/png": "[encoded data removed]",
      "text/plain": [
       "<Figure size 1008x432 with 1 Axes>"
      ]
     },
     "metadata": {
      "needs_background": "light"
     },
     "output_type": "display_data"
    }
   ],
   "source": [
    "listeningTime = listeningTime[listeningTime['minsPlayed']<100]\n",
    "plt.figure(figsize=(14,6))\n",
    "ax = sns.distplot(listeningTime['minsPlayed'], bins=20)\n",
    "mids = [rect.get_x() + rect.get_width() for rect in ax.patches]\n",
    "ax.set_xticks(mids)\n",
    "ax.tick_params(axis='x', rotation=90, labelsize=8)\n",
    "plt.title('Histogram of Minutes Played')\n",
    "\n",
    "plt.show()"
   ]
  },
  {
   "cell_type": "markdown",
   "metadata": {},
   "source": [
    "- **Earlier, we saw that I listen to most songs for about 0-5 minutes total. This tells me that I didn't like these songs very much since I haven't spent much time listening to them. The more I listen to a song, the more I like it. The histogram above shows a massive drop with songs listened to for more than 5 minutes. So, let's use this as our definition of whether i enjoyed a song.**\n",
    "\n",
    "\n",
    "- **P.s. you may be thinking what about songs that are longer than 5 minnutes that you didn't like. Won't they be encompassed in your defintion of favourite songs. To that I'd say \"yes, good point, however, I'm the kind of person who know pretty soon if I like a song or not. Thus I wouldn't ride out a bad song for 5 mins and 1 second just to skip it. I'd skip it much sooner- which is probably not a good thing lol but hey i'm being honest**"
   ]
  },
  {
   "cell_type": "markdown",
   "metadata": {},
   "source": [
    "### Limit dataframe to only include songs I've listened to for more than 5 minutes"
   ]
  },
  {
   "cell_type": "code",
   "execution_count": 55,
   "metadata": {},
   "outputs": [],
   "source": [
    "final['minutesPlayed'] = final['msPlayed']/60000"
   ]
  },
  {
   "cell_type": "code",
   "execution_count": 56,
   "metadata": {
    "scrolled": false
   },
   "outputs": [
    {
     "data": {
      "text/html": [
       "<div>\n",
       "<style scoped>\n",
       "    .dataframe tbody tr th:only-of-type {\n",
       "        vertical-align: middle;\n",
       "    }\n",
       "\n",
       "    .dataframe tbody tr th {\n",
       "        vertical-align: top;\n",
       "    }\n",
       "\n",
       "    .dataframe thead th {\n",
       "        text-align: right;\n",
       "    }\n",
       "</style>\n",
       "<table border=\"1\" class=\"dataframe\">\n",
       "  <thead>\n",
       "    <tr style=\"text-align: right;\">\n",
       "      <th></th>\n",
       "      <th>artistName</th>\n",
       "      <th>endTime</th>\n",
       "      <th>msPlayed</th>\n",
       "      <th>trackName</th>\n",
       "      <th>artistPlusTrack</th>\n",
       "      <th>id</th>\n",
       "      <th>danceability</th>\n",
       "      <th>energy</th>\n",
       "      <th>key</th>\n",
       "      <th>loudness</th>\n",
       "      <th>...</th>\n",
       "      <th>speechiness</th>\n",
       "      <th>acousticness</th>\n",
       "      <th>instrumentalness</th>\n",
       "      <th>liveness</th>\n",
       "      <th>valence</th>\n",
       "      <th>tempo</th>\n",
       "      <th>type</th>\n",
       "      <th>duration_ms</th>\n",
       "      <th>time_signature</th>\n",
       "      <th>minutesPlayed</th>\n",
       "    </tr>\n",
       "  </thead>\n",
       "  <tbody>\n",
       "    <tr>\n",
       "      <th>0</th>\n",
       "      <td>The Revivalists</td>\n",
       "      <td>2019-06-21 17:37:00</td>\n",
       "      <td>24008</td>\n",
       "      <td>Wish I Knew You</td>\n",
       "      <td>The RevivalistsWish I Knew You</td>\n",
       "      <td>2EWpa5XnAuSn0sIkSSIhYk</td>\n",
       "      <td>0.649</td>\n",
       "      <td>0.718</td>\n",
       "      <td>0.0</td>\n",
       "      <td>-6.593</td>\n",
       "      <td>...</td>\n",
       "      <td>0.0261</td>\n",
       "      <td>0.14200</td>\n",
       "      <td>0.071300</td>\n",
       "      <td>0.1240</td>\n",
       "      <td>0.718</td>\n",
       "      <td>101.034</td>\n",
       "      <td>audio_features</td>\n",
       "      <td>274093.0</td>\n",
       "      <td>4.0</td>\n",
       "      <td>0.400133</td>\n",
       "    </tr>\n",
       "    <tr>\n",
       "      <th>1</th>\n",
       "      <td>The Game</td>\n",
       "      <td>2019-06-30 23:54:00</td>\n",
       "      <td>277025</td>\n",
       "      <td>Dreams</td>\n",
       "      <td>The GameDreams</td>\n",
       "      <td>5F7caGhe84C6ONva5S8yXF</td>\n",
       "      <td>0.630</td>\n",
       "      <td>0.780</td>\n",
       "      <td>6.0</td>\n",
       "      <td>-5.353</td>\n",
       "      <td>...</td>\n",
       "      <td>0.2210</td>\n",
       "      <td>0.00499</td>\n",
       "      <td>0.000000</td>\n",
       "      <td>0.2060</td>\n",
       "      <td>0.281</td>\n",
       "      <td>155.779</td>\n",
       "      <td>audio_features</td>\n",
       "      <td>286453.0</td>\n",
       "      <td>4.0</td>\n",
       "      <td>4.617083</td>\n",
       "    </tr>\n",
       "    <tr>\n",
       "      <th>2</th>\n",
       "      <td>The Hundred In The Hands</td>\n",
       "      <td>2019-07-01 18:29:00</td>\n",
       "      <td>211586</td>\n",
       "      <td>Dressed In Dresden</td>\n",
       "      <td>The Hundred In The HandsDressed In Dresden</td>\n",
       "      <td>3axp4dcei5PDShQZTCRdn1</td>\n",
       "      <td>0.673</td>\n",
       "      <td>0.693</td>\n",
       "      <td>9.0</td>\n",
       "      <td>-5.668</td>\n",
       "      <td>...</td>\n",
       "      <td>0.0993</td>\n",
       "      <td>0.00100</td>\n",
       "      <td>0.744000</td>\n",
       "      <td>0.1650</td>\n",
       "      <td>0.795</td>\n",
       "      <td>153.982</td>\n",
       "      <td>audio_features</td>\n",
       "      <td>211587.0</td>\n",
       "      <td>4.0</td>\n",
       "      <td>3.526433</td>\n",
       "    </tr>\n",
       "    <tr>\n",
       "      <th>3</th>\n",
       "      <td>Tennis</td>\n",
       "      <td>2019-07-01 18:30:00</td>\n",
       "      <td>1770</td>\n",
       "      <td>Marathon</td>\n",
       "      <td>TennisMarathon</td>\n",
       "      <td>2Zi216Zlq47fisSvk3eEN7</td>\n",
       "      <td>0.548</td>\n",
       "      <td>0.397</td>\n",
       "      <td>9.0</td>\n",
       "      <td>-8.117</td>\n",
       "      <td>...</td>\n",
       "      <td>0.0274</td>\n",
       "      <td>0.95600</td>\n",
       "      <td>0.000074</td>\n",
       "      <td>0.1090</td>\n",
       "      <td>0.780</td>\n",
       "      <td>160.882</td>\n",
       "      <td>audio_features</td>\n",
       "      <td>165467.0</td>\n",
       "      <td>4.0</td>\n",
       "      <td>0.029500</td>\n",
       "    </tr>\n",
       "    <tr>\n",
       "      <th>4</th>\n",
       "      <td>Mase</td>\n",
       "      <td>2019-07-01 18:30:00</td>\n",
       "      <td>95945</td>\n",
       "      <td>Feel so Good</td>\n",
       "      <td>MaseFeel so Good</td>\n",
       "      <td>7hfRrdFJgFKK3cJ4rmkecE</td>\n",
       "      <td>0.821</td>\n",
       "      <td>0.703</td>\n",
       "      <td>11.0</td>\n",
       "      <td>-8.464</td>\n",
       "      <td>...</td>\n",
       "      <td>0.2400</td>\n",
       "      <td>0.19200</td>\n",
       "      <td>0.000000</td>\n",
       "      <td>0.0816</td>\n",
       "      <td>0.536</td>\n",
       "      <td>105.154</td>\n",
       "      <td>audio_features</td>\n",
       "      <td>203627.0</td>\n",
       "      <td>4.0</td>\n",
       "      <td>1.599083</td>\n",
       "    </tr>\n",
       "  </tbody>\n",
       "</table>\n",
       "<p>5 rows × 21 columns</p>\n",
       "</div>"
      ],
      "text/plain": [
       "                 artistName             endTime  msPlayed           trackName  \\\n",
       "0           The Revivalists 2019-06-21 17:37:00     24008     Wish I Knew You   \n",
       "1                  The Game 2019-06-30 23:54:00    277025              Dreams   \n",
       "2  The Hundred In The Hands 2019-07-01 18:29:00    211586  Dressed In Dresden   \n",
       "3                    Tennis 2019-07-01 18:30:00      1770            Marathon   \n",
       "4                      Mase 2019-07-01 18:30:00     95945        Feel so Good   \n",
       "\n",
       "                              artistPlusTrack                      id  \\\n",
       "0              The RevivalistsWish I Knew You  2EWpa5XnAuSn0sIkSSIhYk   \n",
       "1                              The GameDreams  5F7caGhe84C6ONva5S8yXF   \n",
       "2  The Hundred In The HandsDressed In Dresden  3axp4dcei5PDShQZTCRdn1   \n",
       "3                              TennisMarathon  2Zi216Zlq47fisSvk3eEN7   \n",
       "4                            MaseFeel so Good  7hfRrdFJgFKK3cJ4rmkecE   \n",
       "\n",
       "   danceability  energy   key  loudness      ...        speechiness  \\\n",
       "0         0.649   0.718   0.0    -6.593      ...             0.0261   \n",
       "1         0.630   0.780   6.0    -5.353      ...             0.2210   \n",
       "2         0.673   0.693   9.0    -5.668      ...             0.0993   \n",
       "3         0.548   0.397   9.0    -8.117      ...             0.0274   \n",
       "4         0.821   0.703  11.0    -8.464      ...             0.2400   \n",
       "\n",
       "   acousticness  instrumentalness  liveness  valence    tempo            type  \\\n",
       "0       0.14200          0.071300    0.1240    0.718  101.034  audio_features   \n",
       "1       0.00499          0.000000    0.2060    0.281  155.779  audio_features   \n",
       "2       0.00100          0.744000    0.1650    0.795  153.982  audio_features   \n",
       "3       0.95600          0.000074    0.1090    0.780  160.882  audio_features   \n",
       "4       0.19200          0.000000    0.0816    0.536  105.154  audio_features   \n",
       "\n",
       "  duration_ms  time_signature  minutesPlayed  \n",
       "0    274093.0             4.0       0.400133  \n",
       "1    286453.0             4.0       4.617083  \n",
       "2    211587.0             4.0       3.526433  \n",
       "3    165467.0             4.0       0.029500  \n",
       "4    203627.0             4.0       1.599083  \n",
       "\n",
       "[5 rows x 21 columns]"
      ]
     },
     "execution_count": 56,
     "metadata": {},
     "output_type": "execute_result"
    }
   ],
   "source": [
    "final.head()"
   ]
  },
  {
   "cell_type": "code",
   "execution_count": 57,
   "metadata": {},
   "outputs": [],
   "source": [
    "final = final[final['minutesPlayed']>5]"
   ]
  },
  {
   "cell_type": "code",
   "execution_count": 58,
   "metadata": {},
   "outputs": [
    {
     "data": {
      "text/plain": [
       "(448, 21)"
      ]
     },
     "execution_count": 58,
     "metadata": {},
     "output_type": "execute_result"
    }
   ],
   "source": [
    "final.shape"
   ]
  },
  {
   "cell_type": "markdown",
   "metadata": {},
   "source": [
    "### Check to see if that worked ?"
   ]
  },
  {
   "cell_type": "code",
   "execution_count": 59,
   "metadata": {},
   "outputs": [
    {
     "data": {
      "text/plain": [
       "<matplotlib.axes._subplots.AxesSubplot at 0x117c2a750>"
      ]
     },
     "execution_count": 59,
     "metadata": {},
     "output_type": "execute_result"
    },
    {
     "data": {
      "image/png": "[encoded data removed]",
      "text/plain": [
       "<Figure size 432x288 with 1 Axes>"
      ]
     },
     "metadata": {
      "needs_background": "light"
     },
     "output_type": "display_data"
    }
   ],
   "source": [
    "sns.distplot(final['minutesPlayed'])"
   ]
  },
  {
   "cell_type": "markdown",
   "metadata": {},
   "source": [
    "- **Great, it worked**"
   ]
  },
  {
   "cell_type": "markdown",
   "metadata": {},
   "source": [
    "### Feature selection\n",
    "\n",
    "**We requested a lot of features, however, we don't neccesarily need all of them. So let's subset our features to just the main ones**"
   ]
  },
  {
   "cell_type": "code",
   "execution_count": 60,
   "metadata": {},
   "outputs": [
    {
     "data": {
      "text/plain": [
       "Index(['artistName', 'endTime', 'msPlayed', 'trackName', 'artistPlusTrack',\n",
       "       'id', 'danceability', 'energy', 'key', 'loudness', 'mode',\n",
       "       'speechiness', 'acousticness', 'instrumentalness', 'liveness',\n",
       "       'valence', 'tempo', 'type', 'duration_ms', 'time_signature',\n",
       "       'minutesPlayed'],\n",
       "      dtype='object')"
      ]
     },
     "execution_count": 60,
     "metadata": {},
     "output_type": "execute_result"
    }
   ],
   "source": [
    "final.columns"
   ]
  },
  {
   "cell_type": "code",
   "execution_count": 61,
   "metadata": {},
   "outputs": [],
   "source": [
    "X = final[['danceability', 'energy', 'key', 'loudness','speechiness', 'acousticness', 'instrumentalness', 'liveness',\n",
    "         'valence', 'tempo']]\n"
   ]
  },
  {
   "cell_type": "code",
   "execution_count": 62,
   "metadata": {},
   "outputs": [
    {
     "data": {
      "text/html": [
       "<div>\n",
       "<style scoped>\n",
       "    .dataframe tbody tr th:only-of-type {\n",
       "        vertical-align: middle;\n",
       "    }\n",
       "\n",
       "    .dataframe tbody tr th {\n",
       "        vertical-align: top;\n",
       "    }\n",
       "\n",
       "    .dataframe thead th {\n",
       "        text-align: right;\n",
       "    }\n",
       "</style>\n",
       "<table border=\"1\" class=\"dataframe\">\n",
       "  <thead>\n",
       "    <tr style=\"text-align: right;\">\n",
       "      <th></th>\n",
       "      <th>danceability</th>\n",
       "      <th>energy</th>\n",
       "      <th>key</th>\n",
       "      <th>loudness</th>\n",
       "      <th>speechiness</th>\n",
       "      <th>acousticness</th>\n",
       "      <th>instrumentalness</th>\n",
       "      <th>liveness</th>\n",
       "      <th>valence</th>\n",
       "      <th>tempo</th>\n",
       "    </tr>\n",
       "  </thead>\n",
       "  <tbody>\n",
       "    <tr>\n",
       "      <th>9</th>\n",
       "      <td>0.522</td>\n",
       "      <td>0.800</td>\n",
       "      <td>7.0</td>\n",
       "      <td>-6.289</td>\n",
       "      <td>0.0307</td>\n",
       "      <td>0.000817</td>\n",
       "      <td>0.00143</td>\n",
       "      <td>0.2060</td>\n",
       "      <td>0.0460</td>\n",
       "      <td>130.953</td>\n",
       "    </tr>\n",
       "    <tr>\n",
       "      <th>13</th>\n",
       "      <td>0.713</td>\n",
       "      <td>0.877</td>\n",
       "      <td>1.0</td>\n",
       "      <td>-6.650</td>\n",
       "      <td>0.0399</td>\n",
       "      <td>0.010100</td>\n",
       "      <td>0.00000</td>\n",
       "      <td>0.0957</td>\n",
       "      <td>0.8180</td>\n",
       "      <td>159.997</td>\n",
       "    </tr>\n",
       "    <tr>\n",
       "      <th>90</th>\n",
       "      <td>0.722</td>\n",
       "      <td>0.687</td>\n",
       "      <td>0.0</td>\n",
       "      <td>-5.189</td>\n",
       "      <td>0.0556</td>\n",
       "      <td>0.009490</td>\n",
       "      <td>0.00413</td>\n",
       "      <td>0.0462</td>\n",
       "      <td>0.6190</td>\n",
       "      <td>128.013</td>\n",
       "    </tr>\n",
       "    <tr>\n",
       "      <th>113</th>\n",
       "      <td>0.667</td>\n",
       "      <td>0.747</td>\n",
       "      <td>1.0</td>\n",
       "      <td>-7.059</td>\n",
       "      <td>0.1890</td>\n",
       "      <td>0.337000</td>\n",
       "      <td>0.00000</td>\n",
       "      <td>0.1150</td>\n",
       "      <td>0.9180</td>\n",
       "      <td>86.917</td>\n",
       "    </tr>\n",
       "    <tr>\n",
       "      <th>131</th>\n",
       "      <td>0.232</td>\n",
       "      <td>0.349</td>\n",
       "      <td>4.0</td>\n",
       "      <td>-10.480</td>\n",
       "      <td>0.0328</td>\n",
       "      <td>0.553000</td>\n",
       "      <td>0.90300</td>\n",
       "      <td>0.0707</td>\n",
       "      <td>0.0371</td>\n",
       "      <td>85.940</td>\n",
       "    </tr>\n",
       "  </tbody>\n",
       "</table>\n",
       "</div>"
      ],
      "text/plain": [
       "     danceability  energy  key  loudness  speechiness  acousticness  \\\n",
       "9           0.522   0.800  7.0    -6.289       0.0307      0.000817   \n",
       "13          0.713   0.877  1.0    -6.650       0.0399      0.010100   \n",
       "90          0.722   0.687  0.0    -5.189       0.0556      0.009490   \n",
       "113         0.667   0.747  1.0    -7.059       0.1890      0.337000   \n",
       "131         0.232   0.349  4.0   -10.480       0.0328      0.553000   \n",
       "\n",
       "     instrumentalness  liveness  valence    tempo  \n",
       "9             0.00143    0.2060   0.0460  130.953  \n",
       "13            0.00000    0.0957   0.8180  159.997  \n",
       "90            0.00413    0.0462   0.6190  128.013  \n",
       "113           0.00000    0.1150   0.9180   86.917  \n",
       "131           0.90300    0.0707   0.0371   85.940  "
      ]
     },
     "execution_count": 62,
     "metadata": {},
     "output_type": "execute_result"
    }
   ],
   "source": [
    "X.head()"
   ]
  },
  {
   "cell_type": "markdown",
   "metadata": {},
   "source": [
    "- **We'll use these features to perform some clustering**"
   ]
  },
  {
   "cell_type": "markdown",
   "metadata": {},
   "source": [
    "### Scale certain features\n",
    "- **Key, loudness and tempo are the only features that are not between 0 and 1. Let's scale them using minmax scaler before we proceed**"
   ]
  },
  {
   "cell_type": "code",
   "execution_count": 63,
   "metadata": {},
   "outputs": [],
   "source": [
    "from sklearn import preprocessing \n",
    "scaler=preprocessing.MinMaxScaler()"
   ]
  },
  {
   "cell_type": "code",
   "execution_count": 64,
   "metadata": {},
   "outputs": [],
   "source": [
    "unscaled_feaures = X[[\"key\",\"loudness\",\"tempo\"]].values"
   ]
  },
  {
   "cell_type": "code",
   "execution_count": 65,
   "metadata": {},
   "outputs": [],
   "source": [
    "scaled=scaler.fit_transform(unscaled_feaures)"
   ]
  },
  {
   "cell_type": "code",
   "execution_count": 66,
   "metadata": {},
   "outputs": [],
   "source": [
    "scaled_df = pd.DataFrame(scaled,columns=[[\"key\",\"loudness\",\"tempo\"]] )"
   ]
  },
  {
   "cell_type": "code",
   "execution_count": 67,
   "metadata": {
    "scrolled": true
   },
   "outputs": [
    {
     "data": {
      "text/html": [
       "<div>\n",
       "<style scoped>\n",
       "    .dataframe tbody tr th:only-of-type {\n",
       "        vertical-align: middle;\n",
       "    }\n",
       "\n",
       "    .dataframe tbody tr th {\n",
       "        vertical-align: top;\n",
       "    }\n",
       "\n",
       "    .dataframe thead tr th {\n",
       "        text-align: left;\n",
       "    }\n",
       "</style>\n",
       "<table border=\"1\" class=\"dataframe\">\n",
       "  <thead>\n",
       "    <tr>\n",
       "      <th></th>\n",
       "      <th>key</th>\n",
       "      <th>loudness</th>\n",
       "      <th>tempo</th>\n",
       "    </tr>\n",
       "  </thead>\n",
       "  <tbody>\n",
       "    <tr>\n",
       "      <th>0</th>\n",
       "      <td>0.636364</td>\n",
       "      <td>0.851877</td>\n",
       "      <td>0.487618</td>\n",
       "    </tr>\n",
       "    <tr>\n",
       "      <th>1</th>\n",
       "      <td>0.090909</td>\n",
       "      <td>0.840414</td>\n",
       "      <td>0.688577</td>\n",
       "    </tr>\n",
       "    <tr>\n",
       "      <th>2</th>\n",
       "      <td>0.000000</td>\n",
       "      <td>0.886804</td>\n",
       "      <td>0.467276</td>\n",
       "    </tr>\n",
       "    <tr>\n",
       "      <th>3</th>\n",
       "      <td>0.090909</td>\n",
       "      <td>0.827427</td>\n",
       "      <td>0.182928</td>\n",
       "    </tr>\n",
       "    <tr>\n",
       "      <th>4</th>\n",
       "      <td>0.363636</td>\n",
       "      <td>0.718804</td>\n",
       "      <td>0.176168</td>\n",
       "    </tr>\n",
       "  </tbody>\n",
       "</table>\n",
       "</div>"
      ],
      "text/plain": [
       "        key  loudness     tempo\n",
       "0  0.636364  0.851877  0.487618\n",
       "1  0.090909  0.840414  0.688577\n",
       "2  0.000000  0.886804  0.467276\n",
       "3  0.090909  0.827427  0.182928\n",
       "4  0.363636  0.718804  0.176168"
      ]
     },
     "execution_count": 67,
     "metadata": {},
     "output_type": "execute_result"
    }
   ],
   "source": [
    "scaled_df.head()"
   ]
  },
  {
   "cell_type": "code",
   "execution_count": 68,
   "metadata": {
    "scrolled": true
   },
   "outputs": [
    {
     "name": "stderr",
     "output_type": "stream",
     "text": [
      "/usr/local/lib/python3.7/site-packages/ipykernel_launcher.py:1: SettingWithCopyWarning: \n",
      "A value is trying to be set on a copy of a slice from a DataFrame.\n",
      "Try using .loc[row_indexer,col_indexer] = value instead\n",
      "\n",
      "See the caveats in the documentation: http://pandas.pydata.org/pandas-docs/stable/indexing.html#indexing-view-versus-copy\n",
      "  \"\"\"Entry point for launching an IPython kernel.\n",
      "/usr/local/lib/python3.7/site-packages/ipykernel_launcher.py:2: SettingWithCopyWarning: \n",
      "A value is trying to be set on a copy of a slice from a DataFrame.\n",
      "Try using .loc[row_indexer,col_indexer] = value instead\n",
      "\n",
      "See the caveats in the documentation: http://pandas.pydata.org/pandas-docs/stable/indexing.html#indexing-view-versus-copy\n",
      "  \n",
      "/usr/local/lib/python3.7/site-packages/ipykernel_launcher.py:3: SettingWithCopyWarning: \n",
      "A value is trying to be set on a copy of a slice from a DataFrame.\n",
      "Try using .loc[row_indexer,col_indexer] = value instead\n",
      "\n",
      "See the caveats in the documentation: http://pandas.pydata.org/pandas-docs/stable/indexing.html#indexing-view-versus-copy\n",
      "  This is separate from the ipykernel package so we can avoid doing imports until\n"
     ]
    }
   ],
   "source": [
    "X['key'] = scaled_df['key'].values\n",
    "X['loudness'] = scaled_df['loudness'].values\n",
    "X['tempo'] = scaled_df['tempo'].values"
   ]
  },
  {
   "cell_type": "code",
   "execution_count": 69,
   "metadata": {
    "scrolled": false
   },
   "outputs": [
    {
     "data": {
      "text/html": [
       "<div>\n",
       "<style scoped>\n",
       "    .dataframe tbody tr th:only-of-type {\n",
       "        vertical-align: middle;\n",
       "    }\n",
       "\n",
       "    .dataframe tbody tr th {\n",
       "        vertical-align: top;\n",
       "    }\n",
       "\n",
       "    .dataframe thead th {\n",
       "        text-align: right;\n",
       "    }\n",
       "</style>\n",
       "<table border=\"1\" class=\"dataframe\">\n",
       "  <thead>\n",
       "    <tr style=\"text-align: right;\">\n",
       "      <th></th>\n",
       "      <th>danceability</th>\n",
       "      <th>energy</th>\n",
       "      <th>key</th>\n",
       "      <th>loudness</th>\n",
       "      <th>speechiness</th>\n",
       "      <th>acousticness</th>\n",
       "      <th>instrumentalness</th>\n",
       "      <th>liveness</th>\n",
       "      <th>valence</th>\n",
       "      <th>tempo</th>\n",
       "    </tr>\n",
       "  </thead>\n",
       "  <tbody>\n",
       "    <tr>\n",
       "      <th>9</th>\n",
       "      <td>0.522</td>\n",
       "      <td>0.800</td>\n",
       "      <td>0.636364</td>\n",
       "      <td>0.851877</td>\n",
       "      <td>0.0307</td>\n",
       "      <td>0.000817</td>\n",
       "      <td>0.00143</td>\n",
       "      <td>0.2060</td>\n",
       "      <td>0.0460</td>\n",
       "      <td>0.487618</td>\n",
       "    </tr>\n",
       "    <tr>\n",
       "      <th>13</th>\n",
       "      <td>0.713</td>\n",
       "      <td>0.877</td>\n",
       "      <td>0.090909</td>\n",
       "      <td>0.840414</td>\n",
       "      <td>0.0399</td>\n",
       "      <td>0.010100</td>\n",
       "      <td>0.00000</td>\n",
       "      <td>0.0957</td>\n",
       "      <td>0.8180</td>\n",
       "      <td>0.688577</td>\n",
       "    </tr>\n",
       "    <tr>\n",
       "      <th>90</th>\n",
       "      <td>0.722</td>\n",
       "      <td>0.687</td>\n",
       "      <td>0.000000</td>\n",
       "      <td>0.886804</td>\n",
       "      <td>0.0556</td>\n",
       "      <td>0.009490</td>\n",
       "      <td>0.00413</td>\n",
       "      <td>0.0462</td>\n",
       "      <td>0.6190</td>\n",
       "      <td>0.467276</td>\n",
       "    </tr>\n",
       "    <tr>\n",
       "      <th>113</th>\n",
       "      <td>0.667</td>\n",
       "      <td>0.747</td>\n",
       "      <td>0.090909</td>\n",
       "      <td>0.827427</td>\n",
       "      <td>0.1890</td>\n",
       "      <td>0.337000</td>\n",
       "      <td>0.00000</td>\n",
       "      <td>0.1150</td>\n",
       "      <td>0.9180</td>\n",
       "      <td>0.182928</td>\n",
       "    </tr>\n",
       "    <tr>\n",
       "      <th>131</th>\n",
       "      <td>0.232</td>\n",
       "      <td>0.349</td>\n",
       "      <td>0.363636</td>\n",
       "      <td>0.718804</td>\n",
       "      <td>0.0328</td>\n",
       "      <td>0.553000</td>\n",
       "      <td>0.90300</td>\n",
       "      <td>0.0707</td>\n",
       "      <td>0.0371</td>\n",
       "      <td>0.176168</td>\n",
       "    </tr>\n",
       "  </tbody>\n",
       "</table>\n",
       "</div>"
      ],
      "text/plain": [
       "     danceability  energy       key  loudness  speechiness  acousticness  \\\n",
       "9           0.522   0.800  0.636364  0.851877       0.0307      0.000817   \n",
       "13          0.713   0.877  0.090909  0.840414       0.0399      0.010100   \n",
       "90          0.722   0.687  0.000000  0.886804       0.0556      0.009490   \n",
       "113         0.667   0.747  0.090909  0.827427       0.1890      0.337000   \n",
       "131         0.232   0.349  0.363636  0.718804       0.0328      0.553000   \n",
       "\n",
       "     instrumentalness  liveness  valence     tempo  \n",
       "9             0.00143    0.2060   0.0460  0.487618  \n",
       "13            0.00000    0.0957   0.8180  0.688577  \n",
       "90            0.00413    0.0462   0.6190  0.467276  \n",
       "113           0.00000    0.1150   0.9180  0.182928  \n",
       "131           0.90300    0.0707   0.0371  0.176168  "
      ]
     },
     "execution_count": 69,
     "metadata": {},
     "output_type": "execute_result"
    }
   ],
   "source": [
    "X.head()"
   ]
  },
  {
   "cell_type": "markdown",
   "metadata": {},
   "source": [
    "### Convert X into a Numpy object\n",
    "**Most ML algorithms only accept data if its in a numpy array format. Therefore we need to convert out X dataframe into a numpy object in order to use the K-means clustering algorithm**"
   ]
  },
  {
   "cell_type": "code",
   "execution_count": 70,
   "metadata": {},
   "outputs": [],
   "source": [
    "features=X.values"
   ]
  },
  {
   "cell_type": "code",
   "execution_count": 71,
   "metadata": {},
   "outputs": [
    {
     "data": {
      "text/plain": [
       "(448, 10)"
      ]
     },
     "execution_count": 71,
     "metadata": {},
     "output_type": "execute_result"
    }
   ],
   "source": [
    "features.shape"
   ]
  },
  {
   "cell_type": "markdown",
   "metadata": {},
   "source": [
    "# Clustering\n",
    "\n",
    "**k-means clustering is an unsupervised learning technique that aims to partition observations into k clusters in which each observation belongs to the cluster with the nearest mean (cluster centers or cluster centroid).**\n",
    "\n",
    "https://en.wikipedia.org/wiki/K-means_clusteringv"
   ]
  },
  {
   "cell_type": "markdown",
   "metadata": {},
   "source": [
    "### Choosing the right number for K\n",
    "**A central question when using clustering algorithms is \"what is the right number of clusters?\". This is usually where domain expertise comes into play, however, there are methods we can use to help us make that decsion e.g. the elbow method:**\n",
    "\n",
    "- https://www.scikit-yb.org/en/latest/api/cluster/elbow.html#:~:text=K%2Dmeans%20is%20a%20simple,number%20(k)%20of%20clusters.&text=The%20elbow%20method%20runs%20k,average%20score%20for%20all%20clusters."
   ]
  },
  {
   "cell_type": "code",
   "execution_count": 72,
   "metadata": {},
   "outputs": [
    {
     "name": "stdout",
     "output_type": "stream",
     "text": [
      "Completed:1\n",
      "Completed:2\n",
      "Completed:3\n",
      "Completed:4\n",
      "Completed:5\n",
      "Completed:6\n",
      "Completed:7\n",
      "Completed:8\n",
      "Completed:9\n",
      "Completed:10\n",
      "Completed:11\n",
      "Completed:12\n",
      "Completed:13\n",
      "Completed:14\n",
      "Completed:15\n",
      "Completed:16\n",
      "Completed:17\n",
      "Completed:18\n",
      "Completed:19\n",
      "Completed:20\n"
     ]
    }
   ],
   "source": [
    "from sklearn.cluster import KMeans\n",
    "Sum_of_squared_distances = []\n",
    "K = range(1,21)\n",
    "for k in K:\n",
    "    model = KMeans(n_clusters=k)\n",
    "    model = model.fit(features)\n",
    "    Sum_of_squared_distances.append(model.inertia_)\n",
    "    print(f'Completed:{k}')"
   ]
  },
  {
   "cell_type": "code",
   "execution_count": 73,
   "metadata": {},
   "outputs": [
    {
     "data": {
      "image/png": "[encoded data removed]",
      "text/plain": [
       "<Figure size 720x432 with 1 Axes>"
      ]
     },
     "metadata": {
      "needs_background": "light"
     },
     "output_type": "display_data"
    }
   ],
   "source": [
    "import matplotlib.pyplot as plt #Elbow method\n",
    "plt.figure(figsize=(10,6))\n",
    "plt.plot(list(range(1,21)),Sum_of_squared_distances,'bx-')\n",
    "plt.ylabel('Sum_of_squared_distances')\n",
    "plt.xlabel('# clusters')\n",
    "plt.show()"
   ]
  },
  {
   "cell_type": "markdown",
   "metadata": {},
   "source": [
    "**The eIbow method tells us that:**\n",
    "- *\"If the line chart resembles an arm, then the “elbow” (the point of inflection on the curve) is a good indication that the underlying model fits best at that point.\"* \n",
    "\n",
    "\n",
    "**So anywhere beteeen 2 and 5 would be apprpriate. Let's go for 4.**"
   ]
  },
  {
   "cell_type": "code",
   "execution_count": 74,
   "metadata": {},
   "outputs": [],
   "source": [
    "from sklearn.cluster import KMeans\n",
    "model = KMeans(n_clusters=4)\n",
    "model = model.fit(features)"
   ]
  },
  {
   "cell_type": "markdown",
   "metadata": {},
   "source": [
    "### Get predictions"
   ]
  },
  {
   "cell_type": "code",
   "execution_count": 75,
   "metadata": {},
   "outputs": [],
   "source": [
    "predictions=model.predict(features)"
   ]
  },
  {
   "cell_type": "code",
   "execution_count": 76,
   "metadata": {
    "scrolled": false
   },
   "outputs": [
    {
     "data": {
      "text/plain": [
       "array([1, 0, 0, 0, 3, 1, 1, 1, 1, 1, 2, 2, 3, 3, 1, 1, 1, 0, 1, 1, 0, 0,\n",
       "       0, 1, 0, 0, 1, 0, 1, 1, 1, 1, 1, 1, 0, 0, 0, 0, 0, 1, 0, 0, 1, 1,\n",
       "       0, 1, 0, 1, 0, 0, 1, 0, 1, 1, 1, 1, 0, 0, 3, 1, 0, 0, 0, 2, 3, 2,\n",
       "       1, 1, 1, 1, 1, 1, 1, 1, 2, 2, 2, 0, 1, 0, 3, 0, 1, 2, 0, 0, 1, 1,\n",
       "       1, 1, 1, 3, 3, 1, 1, 0, 1, 2, 1, 0, 1, 0, 3, 0, 2, 0, 3, 3, 3, 1,\n",
       "       1, 1, 1, 0, 1, 2, 0, 1, 0, 1, 1, 0, 3, 1, 1, 1, 1, 3, 1, 2, 3, 0,\n",
       "       3, 3, 1, 3, 2, 0, 3, 1, 3, 1, 0, 0, 0, 0, 1, 2, 1, 0, 1, 0, 3, 3,\n",
       "       2, 2, 2, 1, 0, 0, 0, 3, 1, 3, 3, 1, 2, 1, 1, 1, 1, 1, 1, 1, 0, 2,\n",
       "       2, 1, 1, 0, 0, 1, 1, 1, 0, 1, 0, 0, 0, 3, 3, 1, 0, 0, 0, 3, 1, 1,\n",
       "       0, 1, 0, 3, 3, 3, 2, 0, 0, 3, 2, 3, 0, 2, 1, 3, 3, 1, 3, 3, 3, 3,\n",
       "       3, 3, 2, 3, 3, 1, 3, 0, 2, 0, 1, 1, 1, 0, 1, 0, 1, 1, 1, 0, 1, 0,\n",
       "       1, 1, 1, 1, 0, 1, 3, 1, 1, 3, 1, 0, 1, 3, 2, 1, 0, 0, 1, 1, 1, 0,\n",
       "       1, 0, 3, 1, 1, 1, 3, 1, 1, 3, 3, 3, 3, 1, 0, 3, 3, 0, 0, 0, 1, 3,\n",
       "       3, 2, 3, 2, 2, 2, 0, 1, 2, 1, 1, 3, 1, 1, 3, 2, 1, 1, 1, 2, 1, 1,\n",
       "       0, 1, 3, 3, 3, 1, 0, 1, 1, 0, 1, 1, 3, 2, 2, 2, 0, 0, 1, 3, 3, 0,\n",
       "       3, 2, 3, 3, 1, 3, 0, 0, 0, 0, 0, 1, 0, 3, 1, 1, 0, 0, 1, 3, 3, 3,\n",
       "       1, 0, 0, 1, 1, 1, 0, 0, 1, 1, 2, 2, 2, 2, 2, 2, 1, 0, 1, 1, 3, 0,\n",
       "       2, 3, 3, 1, 3, 3, 1, 1, 3, 1, 1, 0, 0, 0, 1, 1, 1, 0, 0, 1, 1, 1,\n",
       "       1, 0, 1, 3, 1, 1, 3, 3, 3, 3, 3, 2, 3, 0, 0, 3, 1, 0, 3, 3, 0, 2,\n",
       "       2, 2, 2, 2, 2, 3, 1, 2, 2, 3, 2, 0, 1, 1, 3, 0, 0, 1, 0, 0, 1, 0,\n",
       "       0, 1, 1, 0, 0, 1, 0, 0], dtype=int32)"
      ]
     },
     "execution_count": 76,
     "metadata": {},
     "output_type": "execute_result"
    }
   ],
   "source": [
    "predictions"
   ]
  },
  {
   "cell_type": "markdown",
   "metadata": {},
   "source": [
    "- **This array represents the clusters in which our K-means algorithm has allocated for each of our songs.**\n",
    "\n",
    "- **Let's add it to our final dataframe, so we can compare songs and clusters side-by-side**"
   ]
  },
  {
   "cell_type": "code",
   "execution_count": 81,
   "metadata": {
    "scrolled": true
   },
   "outputs": [
    {
     "data": {
      "text/html": [
       "<div>\n",
       "<style scoped>\n",
       "    .dataframe tbody tr th:only-of-type {\n",
       "        vertical-align: middle;\n",
       "    }\n",
       "\n",
       "    .dataframe tbody tr th {\n",
       "        vertical-align: top;\n",
       "    }\n",
       "\n",
       "    .dataframe thead th {\n",
       "        text-align: right;\n",
       "    }\n",
       "</style>\n",
       "<table border=\"1\" class=\"dataframe\">\n",
       "  <thead>\n",
       "    <tr style=\"text-align: right;\">\n",
       "      <th></th>\n",
       "      <th>artistName</th>\n",
       "      <th>trackName</th>\n",
       "      <th>cluster</th>\n",
       "    </tr>\n",
       "  </thead>\n",
       "  <tbody>\n",
       "    <tr>\n",
       "      <th>9</th>\n",
       "      <td>Snow Patrol</td>\n",
       "      <td>Open Your Eyes</td>\n",
       "      <td>1</td>\n",
       "    </tr>\n",
       "    <tr>\n",
       "      <th>13</th>\n",
       "      <td>Birdman</td>\n",
       "      <td>Stuntin' Like My Daddy</td>\n",
       "      <td>0</td>\n",
       "    </tr>\n",
       "    <tr>\n",
       "      <th>90</th>\n",
       "      <td>Kid Cudi</td>\n",
       "      <td>Pursuit Of Happiness - Extended Steve Aoki Rem...</td>\n",
       "      <td>0</td>\n",
       "    </tr>\n",
       "    <tr>\n",
       "      <th>113</th>\n",
       "      <td>Kanye West</td>\n",
       "      <td>Homecoming</td>\n",
       "      <td>0</td>\n",
       "    </tr>\n",
       "    <tr>\n",
       "      <th>131</th>\n",
       "      <td>David Wingo</td>\n",
       "      <td>At the Beach</td>\n",
       "      <td>3</td>\n",
       "    </tr>\n",
       "    <tr>\n",
       "      <th>155</th>\n",
       "      <td>Lil Uzi Vert</td>\n",
       "      <td>Sanguine Paradise</td>\n",
       "      <td>1</td>\n",
       "    </tr>\n",
       "    <tr>\n",
       "      <th>174</th>\n",
       "      <td>Mr. Probz</td>\n",
       "      <td>Waves - Robin Schulz Radio Edit</td>\n",
       "      <td>1</td>\n",
       "    </tr>\n",
       "    <tr>\n",
       "      <th>176</th>\n",
       "      <td>Kygo</td>\n",
       "      <td>Stay (feat. Maty Noyes)</td>\n",
       "      <td>1</td>\n",
       "    </tr>\n",
       "    <tr>\n",
       "      <th>241</th>\n",
       "      <td>Flo Rida</td>\n",
       "      <td>Right Round</td>\n",
       "      <td>1</td>\n",
       "    </tr>\n",
       "    <tr>\n",
       "      <th>268</th>\n",
       "      <td>Rick Astley</td>\n",
       "      <td>Never Gonna Give You Up</td>\n",
       "      <td>1</td>\n",
       "    </tr>\n",
       "  </tbody>\n",
       "</table>\n",
       "</div>"
      ],
      "text/plain": [
       "       artistName                                          trackName  cluster\n",
       "9     Snow Patrol                                     Open Your Eyes        1\n",
       "13        Birdman                             Stuntin' Like My Daddy        0\n",
       "90       Kid Cudi  Pursuit Of Happiness - Extended Steve Aoki Rem...        0\n",
       "113    Kanye West                                         Homecoming        0\n",
       "131   David Wingo                                       At the Beach        3\n",
       "155  Lil Uzi Vert                                  Sanguine Paradise        1\n",
       "174     Mr. Probz                    Waves - Robin Schulz Radio Edit        1\n",
       "176          Kygo                            Stay (feat. Maty Noyes)        1\n",
       "241      Flo Rida                                        Right Round        1\n",
       "268   Rick Astley                            Never Gonna Give You Up        1"
      ]
     },
     "execution_count": 81,
     "metadata": {},
     "output_type": "execute_result"
    }
   ],
   "source": [
    "final['cluster'] = predictions\n",
    "final[['artistName','trackName','cluster']].head(10)"
   ]
  },
  {
   "cell_type": "markdown",
   "metadata": {},
   "source": [
    "### Let's explore our clusters in more detail"
   ]
  },
  {
   "cell_type": "code",
   "execution_count": 82,
   "metadata": {},
   "outputs": [
    {
     "data": {
      "text/plain": [
       "cluster\n",
       "0    125\n",
       "1    176\n",
       "2     54\n",
       "3     93\n",
       "dtype: int64"
      ]
     },
     "execution_count": 82,
     "metadata": {},
     "output_type": "execute_result"
    }
   ],
   "source": [
    "final.groupby('cluster').size()"
   ]
  },
  {
   "cell_type": "markdown",
   "metadata": {},
   "source": [
    "- **Looks like the majority of songs are placed in clusters 0 and 1. Whilst clusters 2 and 3 have the fewest allocations.**"
   ]
  },
  {
   "cell_type": "markdown",
   "metadata": {},
   "source": [
    "### Let's look at the feature means for each cluster "
   ]
  },
  {
   "cell_type": "code",
   "execution_count": 83,
   "metadata": {
    "scrolled": true
   },
   "outputs": [
    {
     "data": {
      "text/html": [
       "<div>\n",
       "<style scoped>\n",
       "    .dataframe tbody tr th:only-of-type {\n",
       "        vertical-align: middle;\n",
       "    }\n",
       "\n",
       "    .dataframe tbody tr th {\n",
       "        vertical-align: top;\n",
       "    }\n",
       "\n",
       "    .dataframe thead th {\n",
       "        text-align: right;\n",
       "    }\n",
       "</style>\n",
       "<table border=\"1\" class=\"dataframe\">\n",
       "  <thead>\n",
       "    <tr style=\"text-align: right;\">\n",
       "      <th></th>\n",
       "      <th>msPlayed</th>\n",
       "      <th>danceability</th>\n",
       "      <th>energy</th>\n",
       "      <th>key</th>\n",
       "      <th>loudness</th>\n",
       "      <th>mode</th>\n",
       "      <th>speechiness</th>\n",
       "      <th>acousticness</th>\n",
       "      <th>instrumentalness</th>\n",
       "      <th>liveness</th>\n",
       "      <th>valence</th>\n",
       "      <th>tempo</th>\n",
       "      <th>duration_ms</th>\n",
       "      <th>time_signature</th>\n",
       "      <th>minutesPlayed</th>\n",
       "    </tr>\n",
       "    <tr>\n",
       "      <th>cluster</th>\n",
       "      <th></th>\n",
       "      <th></th>\n",
       "      <th></th>\n",
       "      <th></th>\n",
       "      <th></th>\n",
       "      <th></th>\n",
       "      <th></th>\n",
       "      <th></th>\n",
       "      <th></th>\n",
       "      <th></th>\n",
       "      <th></th>\n",
       "      <th></th>\n",
       "      <th></th>\n",
       "      <th></th>\n",
       "      <th></th>\n",
       "    </tr>\n",
       "  </thead>\n",
       "  <tbody>\n",
       "    <tr>\n",
       "      <th>0</th>\n",
       "      <td>513827.576000</td>\n",
       "      <td>0.644096</td>\n",
       "      <td>0.675968</td>\n",
       "      <td>1.464000</td>\n",
       "      <td>-7.031672</td>\n",
       "      <td>0.744000</td>\n",
       "      <td>0.152018</td>\n",
       "      <td>0.159904</td>\n",
       "      <td>0.024433</td>\n",
       "      <td>0.205754</td>\n",
       "      <td>0.486621</td>\n",
       "      <td>120.470416</td>\n",
       "      <td>286553.624000</td>\n",
       "      <td>3.952000</td>\n",
       "      <td>8.563793</td>\n",
       "    </tr>\n",
       "    <tr>\n",
       "      <th>1</th>\n",
       "      <td>473371.590909</td>\n",
       "      <td>0.657273</td>\n",
       "      <td>0.625733</td>\n",
       "      <td>7.806818</td>\n",
       "      <td>-7.740489</td>\n",
       "      <td>0.613636</td>\n",
       "      <td>0.140510</td>\n",
       "      <td>0.224524</td>\n",
       "      <td>0.020590</td>\n",
       "      <td>0.192999</td>\n",
       "      <td>0.547308</td>\n",
       "      <td>118.143011</td>\n",
       "      <td>271578.681818</td>\n",
       "      <td>3.965909</td>\n",
       "      <td>7.889527</td>\n",
       "    </tr>\n",
       "    <tr>\n",
       "      <th>2</th>\n",
       "      <td>412545.851852</td>\n",
       "      <td>0.679167</td>\n",
       "      <td>0.717778</td>\n",
       "      <td>5.962963</td>\n",
       "      <td>-9.042037</td>\n",
       "      <td>0.407407</td>\n",
       "      <td>0.060756</td>\n",
       "      <td>0.123787</td>\n",
       "      <td>0.760426</td>\n",
       "      <td>0.161396</td>\n",
       "      <td>0.434604</td>\n",
       "      <td>121.416981</td>\n",
       "      <td>373267.444444</td>\n",
       "      <td>4.000000</td>\n",
       "      <td>6.875764</td>\n",
       "    </tr>\n",
       "    <tr>\n",
       "      <th>3</th>\n",
       "      <td>447738.387097</td>\n",
       "      <td>0.446335</td>\n",
       "      <td>0.298104</td>\n",
       "      <td>4.774194</td>\n",
       "      <td>-15.029581</td>\n",
       "      <td>0.634409</td>\n",
       "      <td>0.049263</td>\n",
       "      <td>0.839387</td>\n",
       "      <td>0.476978</td>\n",
       "      <td>0.156739</td>\n",
       "      <td>0.203001</td>\n",
       "      <td>119.041656</td>\n",
       "      <td>327595.161290</td>\n",
       "      <td>3.827957</td>\n",
       "      <td>7.462306</td>\n",
       "    </tr>\n",
       "  </tbody>\n",
       "</table>\n",
       "</div>"
      ],
      "text/plain": [
       "              msPlayed  danceability    energy       key   loudness      mode  \\\n",
       "cluster                                                                         \n",
       "0        513827.576000      0.644096  0.675968  1.464000  -7.031672  0.744000   \n",
       "1        473371.590909      0.657273  0.625733  7.806818  -7.740489  0.613636   \n",
       "2        412545.851852      0.679167  0.717778  5.962963  -9.042037  0.407407   \n",
       "3        447738.387097      0.446335  0.298104  4.774194 -15.029581  0.634409   \n",
       "\n",
       "         speechiness  acousticness  instrumentalness  liveness   valence  \\\n",
       "cluster                                                                    \n",
       "0           0.152018      0.159904          0.024433  0.205754  0.486621   \n",
       "1           0.140510      0.224524          0.020590  0.192999  0.547308   \n",
       "2           0.060756      0.123787          0.760426  0.161396  0.434604   \n",
       "3           0.049263      0.839387          0.476978  0.156739  0.203001   \n",
       "\n",
       "              tempo    duration_ms  time_signature  minutesPlayed  \n",
       "cluster                                                            \n",
       "0        120.470416  286553.624000        3.952000       8.563793  \n",
       "1        118.143011  271578.681818        3.965909       7.889527  \n",
       "2        121.416981  373267.444444        4.000000       6.875764  \n",
       "3        119.041656  327595.161290        3.827957       7.462306  "
      ]
     },
     "execution_count": 83,
     "metadata": {},
     "output_type": "execute_result"
    }
   ],
   "source": [
    "final.groupby('cluster').mean()"
   ]
  },
  {
   "cell_type": "markdown",
   "metadata": {},
   "source": [
    "- **Clusters 0 looks to be defined by its high energy and low key, (which is typically associated with sadder, more mellow vibes) and it also has the highest liveliness of all the clustes, so maybe some live songs in there too. For this cluster I expect to see some chill hip hop, rnb and indie tracks and perhaps some live songs too**\n",
    "\n",
    "\n",
    "- **Cluster 1 looks to be very similar to cluster 0, however, the big difference is in key, with cluster 1 having a higher key, which tells me its proabably more happier, sing-alongy songs.**\n",
    "\n",
    "\n",
    "- **Cluster 2 has the highest dancebility, energy and tempo and low speechiness. I'd expect to see some of my favorutie gym songs in that cluster as well as some electronic music/house/techno because of the low speechiness**\n",
    "\n",
    "\n",
    "- **Cluster 3 is easily the most distinguishable cluster, characterized by low dancebility, energy,and speechiness. These songs are likely songs I would study to** "
   ]
  },
  {
   "cell_type": "markdown",
   "metadata": {},
   "source": [
    "# Results"
   ]
  },
  {
   "cell_type": "markdown",
   "metadata": {},
   "source": [
    "**Here we'll inspect some of the samples coming from each cluster**"
   ]
  },
  {
   "cell_type": "code",
   "execution_count": 158,
   "metadata": {},
   "outputs": [],
   "source": [
    "from IPython.display import HTML # used to embed youtube videos within the notebook"
   ]
  },
  {
   "cell_type": "markdown",
   "metadata": {},
   "source": [
    "### Cluster 0 samples:"
   ]
  },
  {
   "cell_type": "markdown",
   "metadata": {},
   "source": [
    "**Sample 1:**"
   ]
  },
  {
   "cell_type": "code",
   "execution_count": 159,
   "metadata": {},
   "outputs": [
    {
     "name": "stderr",
     "output_type": "stream",
     "text": [
      "/usr/local/lib/python3.7/site-packages/IPython/core/display.py:689: UserWarning: Consider using IPython.display.IFrame instead\n",
      "  warnings.warn(\"Consider using IPython.display.IFrame instead\")\n"
     ]
    },
    {
     "data": {
      "text/html": [
       "<iframe width=\"560\" height=\"315\" src=\"https://www.youtube.com/embed/KTGxPiEg7iM?rel=0&amp;controls=0&amp;showinfo=0\" frameborder=\"0\" allowfullscreen></iframe>"
      ],
      "text/plain": [
       "<IPython.core.display.HTML object>"
      ]
     },
     "execution_count": 159,
     "metadata": {},
     "output_type": "execute_result"
    }
   ],
   "source": [
    "HTML('<iframe width=\"560\" height=\"315\" src=\"https://www.youtube.com/embed/KTGxPiEg7iM?rel=0&amp;controls=0&amp;showinfo=0\" frameborder=\"0\" allowfullscreen></iframe>')"
   ]
  },
  {
   "cell_type": "markdown",
   "metadata": {},
   "source": [
    "**Sample 2:**"
   ]
  },
  {
   "cell_type": "code",
   "execution_count": 160,
   "metadata": {
    "scrolled": true
   },
   "outputs": [
    {
     "data": {
      "text/html": [
       "<iframe width=\"560\" height=\"315\" src=\"https://www.youtube.com/embed/_EOwEHN0rr8?rel=0&amp;controls=0&amp;showinfo=0\" frameborder=\"0\" allowfullscreen></iframe>"
      ],
      "text/plain": [
       "<IPython.core.display.HTML object>"
      ]
     },
     "execution_count": 160,
     "metadata": {},
     "output_type": "execute_result"
    }
   ],
   "source": [
    "HTML('<iframe width=\"560\" height=\"315\" src=\"https://www.youtube.com/embed/_EOwEHN0rr8?rel=0&amp;controls=0&amp;showinfo=0\" frameborder=\"0\" allowfullscreen></iframe>')"
   ]
  },
  {
   "cell_type": "markdown",
   "metadata": {},
   "source": [
    "**Sample 3:**"
   ]
  },
  {
   "cell_type": "code",
   "execution_count": 161,
   "metadata": {},
   "outputs": [
    {
     "data": {
      "text/html": [
       "<iframe width=\"560\" height=\"315\" src=\"https://www.youtube.com/embed/JLunhgLoAE4?rel=0&amp;controls=0&amp;showinfo=0\" frameborder=\"0\" allowfullscreen></iframe>"
      ],
      "text/plain": [
       "<IPython.core.display.HTML object>"
      ]
     },
     "execution_count": 161,
     "metadata": {},
     "output_type": "execute_result"
    }
   ],
   "source": [
    "HTML('<iframe width=\"560\" height=\"315\" src=\"https://www.youtube.com/embed/JLunhgLoAE4?rel=0&amp;controls=0&amp;showinfo=0\" frameborder=\"0\" allowfullscreen></iframe>')"
   ]
  },
  {
   "cell_type": "markdown",
   "metadata": {},
   "source": [
    "**Sample 4:**"
   ]
  },
  {
   "cell_type": "code",
   "execution_count": 162,
   "metadata": {
    "scrolled": true
   },
   "outputs": [
    {
     "data": {
      "text/html": [
       "<iframe width=\"560\" height=\"315\" src=\"https://www.youtube.com/embed/t5XNWFw5HVw?rel=0&amp;controls=0&amp;showinfo=0\" frameborder=\"0\" allowfullscreen></iframe>"
      ],
      "text/plain": [
       "<IPython.core.display.HTML object>"
      ]
     },
     "execution_count": 162,
     "metadata": {},
     "output_type": "execute_result"
    }
   ],
   "source": [
    "HTML('<iframe width=\"560\" height=\"315\" src=\"https://www.youtube.com/embed/t5XNWFw5HVw?rel=0&amp;controls=0&amp;showinfo=0\" frameborder=\"0\" allowfullscreen></iframe>')"
   ]
  },
  {
   "cell_type": "markdown",
   "metadata": {},
   "source": [
    "**Sample 5:**"
   ]
  },
  {
   "cell_type": "code",
   "execution_count": 163,
   "metadata": {},
   "outputs": [
    {
     "data": {
      "text/html": [
       "<iframe width=\"560\" height=\"315\" src=\"https://www.youtube.com/embed/XogujO9Cuko?rel=0&amp;controls=0&amp;showinfo=0\" frameborder=\"0\" allowfullscreen></iframe>"
      ],
      "text/plain": [
       "<IPython.core.display.HTML object>"
      ]
     },
     "execution_count": 163,
     "metadata": {},
     "output_type": "execute_result"
    }
   ],
   "source": [
    "HTML('<iframe width=\"560\" height=\"315\" src=\"https://www.youtube.com/embed/XogujO9Cuko?rel=0&amp;controls=0&amp;showinfo=0\" frameborder=\"0\" allowfullscreen></iframe>')"
   ]
  },
  {
   "cell_type": "markdown",
   "metadata": {},
   "source": [
    "- **Nice, we denfitnely see some more mellow/chill hip hop, rnb and afrobeats tracks in this cluster, which is what we predicted earlier just looking at the averages. For a full list of all the tracks in cluster 0 run the code below.**"
   ]
  },
  {
   "cell_type": "code",
   "execution_count": 164,
   "metadata": {
    "scrolled": true
   },
   "outputs": [],
   "source": [
    "# final[final['cluster']==0].sort_values('minutesPlayed', ascending=False)"
   ]
  },
  {
   "cell_type": "markdown",
   "metadata": {},
   "source": [
    "### Cluster 1 samples:"
   ]
  },
  {
   "cell_type": "markdown",
   "metadata": {},
   "source": [
    "**Sample 1:**"
   ]
  },
  {
   "cell_type": "code",
   "execution_count": 165,
   "metadata": {},
   "outputs": [
    {
     "data": {
      "text/html": [
       "<iframe width=\"560\" height=\"315\" src=\"https://www.youtube.com/embed/W_M-p7gd80A?rel=0&amp;controls=0&amp;showinfo=0\" frameborder=\"0\" allowfullscreen></iframe>"
      ],
      "text/plain": [
       "<IPython.core.display.HTML object>"
      ]
     },
     "execution_count": 165,
     "metadata": {},
     "output_type": "execute_result"
    }
   ],
   "source": [
    "HTML('<iframe width=\"560\" height=\"315\" src=\"https://www.youtube.com/embed/W_M-p7gd80A?rel=0&amp;controls=0&amp;showinfo=0\" frameborder=\"0\" allowfullscreen></iframe>')"
   ]
  },
  {
   "cell_type": "markdown",
   "metadata": {},
   "source": [
    "**Sample 2:**"
   ]
  },
  {
   "cell_type": "code",
   "execution_count": 166,
   "metadata": {},
   "outputs": [
    {
     "data": {
      "text/html": [
       "<iframe width=\"560\" height=\"315\" src=\"https://www.youtube.com/embed/XLNbskqZml0?rel=0&amp;controls=0&amp;showinfo=0\" frameborder=\"0\" allowfullscreen></iframe>"
      ],
      "text/plain": [
       "<IPython.core.display.HTML object>"
      ]
     },
     "execution_count": 166,
     "metadata": {},
     "output_type": "execute_result"
    }
   ],
   "source": [
    "HTML('<iframe width=\"560\" height=\"315\" src=\"https://www.youtube.com/embed/XLNbskqZml0?rel=0&amp;controls=0&amp;showinfo=0\" frameborder=\"0\" allowfullscreen></iframe>')"
   ]
  },
  {
   "cell_type": "markdown",
   "metadata": {},
   "source": [
    "**Sample 3:**"
   ]
  },
  {
   "cell_type": "code",
   "execution_count": 167,
   "metadata": {},
   "outputs": [
    {
     "data": {
      "text/html": [
       "<iframe width=\"560\" height=\"315\" src=\"https://www.youtube.com/embed/ybjpIt9oPuo?rel=0&amp;controls=0&amp;showinfo=0\" frameborder=\"0\" allowfullscreen></iframe>"
      ],
      "text/plain": [
       "<IPython.core.display.HTML object>"
      ]
     },
     "execution_count": 167,
     "metadata": {},
     "output_type": "execute_result"
    }
   ],
   "source": [
    "HTML('<iframe width=\"560\" height=\"315\" src=\"https://www.youtube.com/embed/ybjpIt9oPuo?rel=0&amp;controls=0&amp;showinfo=0\" frameborder=\"0\" allowfullscreen></iframe>')"
   ]
  },
  {
   "cell_type": "markdown",
   "metadata": {},
   "source": [
    "**Sample 4:**"
   ]
  },
  {
   "cell_type": "code",
   "execution_count": 168,
   "metadata": {
    "scrolled": true
   },
   "outputs": [
    {
     "data": {
      "text/html": [
       "<iframe width=\"560\" height=\"315\" src=\"https://www.youtube.com/embed/Scp-KXYvjM0?rel=0&amp;controls=0&amp;showinfo=0\" frameborder=\"0\" allowfullscreen></iframe>"
      ],
      "text/plain": [
       "<IPython.core.display.HTML object>"
      ]
     },
     "execution_count": 168,
     "metadata": {},
     "output_type": "execute_result"
    }
   ],
   "source": [
    "HTML('<iframe width=\"560\" height=\"315\" src=\"https://www.youtube.com/embed/Scp-KXYvjM0?rel=0&amp;controls=0&amp;showinfo=0\" frameborder=\"0\" allowfullscreen></iframe>')"
   ]
  },
  {
   "cell_type": "markdown",
   "metadata": {},
   "source": [
    "**Sample 5:**"
   ]
  },
  {
   "cell_type": "code",
   "execution_count": 169,
   "metadata": {
    "scrolled": true
   },
   "outputs": [
    {
     "data": {
      "text/html": [
       "<iframe width=\"560\" height=\"315\" src=\"https://www.youtube.com/embed/0BlZVFqUoJ4?rel=0&amp;controls=0&amp;showinfo=0\" frameborder=\"0\" allowfullscreen></iframe>"
      ],
      "text/plain": [
       "<IPython.core.display.HTML object>"
      ]
     },
     "execution_count": 169,
     "metadata": {},
     "output_type": "execute_result"
    }
   ],
   "source": [
    "HTML('<iframe width=\"560\" height=\"315\" src=\"https://www.youtube.com/embed/0BlZVFqUoJ4?rel=0&amp;controls=0&amp;showinfo=0\" frameborder=\"0\" allowfullscreen></iframe>')"
   ]
  },
  {
   "cell_type": "markdown",
   "metadata": {},
   "source": [
    "- **Cluster 2 definitely has more upbeat/dancey vibes**"
   ]
  },
  {
   "cell_type": "markdown",
   "metadata": {},
   "source": [
    "### Cluster 2 samples:"
   ]
  },
  {
   "cell_type": "markdown",
   "metadata": {},
   "source": [
    "**Sample 1:**"
   ]
  },
  {
   "cell_type": "code",
   "execution_count": 170,
   "metadata": {},
   "outputs": [
    {
     "data": {
      "text/html": [
       "<iframe width=\"560\" height=\"315\" src=\"https://www.youtube.com/embed/VT78T4jcMsI?rel=0&amp;controls=0&amp;showinfo=0\" frameborder=\"0\" allowfullscreen></iframe>"
      ],
      "text/plain": [
       "<IPython.core.display.HTML object>"
      ]
     },
     "execution_count": 170,
     "metadata": {},
     "output_type": "execute_result"
    }
   ],
   "source": [
    "HTML('<iframe width=\"560\" height=\"315\" src=\"https://www.youtube.com/embed/VT78T4jcMsI?rel=0&amp;controls=0&amp;showinfo=0\" frameborder=\"0\" allowfullscreen></iframe>')"
   ]
  },
  {
   "cell_type": "markdown",
   "metadata": {},
   "source": [
    "**Sample 2:**"
   ]
  },
  {
   "cell_type": "code",
   "execution_count": 171,
   "metadata": {},
   "outputs": [
    {
     "data": {
      "text/html": [
       "<iframe width=\"560\" height=\"315\" src=\"https://www.youtube.com/embed/PtvlmOsNV4E?rel=0&amp;controls=0&amp;showinfo=0\" frameborder=\"0\" allowfullscreen></iframe>"
      ],
      "text/plain": [
       "<IPython.core.display.HTML object>"
      ]
     },
     "execution_count": 171,
     "metadata": {},
     "output_type": "execute_result"
    }
   ],
   "source": [
    "HTML('<iframe width=\"560\" height=\"315\" src=\"https://www.youtube.com/embed/PtvlmOsNV4E?rel=0&amp;controls=0&amp;showinfo=0\" frameborder=\"0\" allowfullscreen></iframe>')"
   ]
  },
  {
   "cell_type": "markdown",
   "metadata": {},
   "source": [
    "**Sample 3:**"
   ]
  },
  {
   "cell_type": "code",
   "execution_count": 172,
   "metadata": {},
   "outputs": [
    {
     "data": {
      "text/html": [
       "<iframe width=\"560\" height=\"315\" src=\"https://www.youtube.com/embed/eSkt_mDw0Ws?rel=0&amp;controls=0&amp;showinfo=0\" frameborder=\"0\" allowfullscreen></iframe>"
      ],
      "text/plain": [
       "<IPython.core.display.HTML object>"
      ]
     },
     "execution_count": 172,
     "metadata": {},
     "output_type": "execute_result"
    }
   ],
   "source": [
    "HTML('<iframe width=\"560\" height=\"315\" src=\"https://www.youtube.com/embed/eSkt_mDw0Ws?rel=0&amp;controls=0&amp;showinfo=0\" frameborder=\"0\" allowfullscreen></iframe>')"
   ]
  },
  {
   "cell_type": "markdown",
   "metadata": {},
   "source": [
    "**Sample 4:**"
   ]
  },
  {
   "cell_type": "code",
   "execution_count": 173,
   "metadata": {},
   "outputs": [
    {
     "data": {
      "text/html": [
       "<iframe width=\"560\" height=\"315\" src=\"https://www.youtube.com/embed/cNvjKkXFBvU?rel=0&amp;controls=0&amp;showinfo=0\" frameborder=\"0\" allowfullscreen></iframe>"
      ],
      "text/plain": [
       "<IPython.core.display.HTML object>"
      ]
     },
     "execution_count": 173,
     "metadata": {},
     "output_type": "execute_result"
    }
   ],
   "source": [
    "HTML('<iframe width=\"560\" height=\"315\" src=\"https://www.youtube.com/embed/cNvjKkXFBvU?rel=0&amp;controls=0&amp;showinfo=0\" frameborder=\"0\" allowfullscreen></iframe>')"
   ]
  },
  {
   "cell_type": "markdown",
   "metadata": {},
   "source": [
    "**Sample 5:**"
   ]
  },
  {
   "cell_type": "code",
   "execution_count": 174,
   "metadata": {
    "scrolled": true
   },
   "outputs": [
    {
     "data": {
      "text/html": [
       "<iframe width=\"560\" height=\"315\" src=\"https://www.youtube.com/embed/DPm9RVpwOLQ?rel=0&amp;controls=0&amp;showinfo=0\" frameborder=\"0\" allowfullscreen></iframe>"
      ],
      "text/plain": [
       "<IPython.core.display.HTML object>"
      ]
     },
     "execution_count": 174,
     "metadata": {},
     "output_type": "execute_result"
    }
   ],
   "source": [
    "HTML('<iframe width=\"560\" height=\"315\" src=\"https://www.youtube.com/embed/DPm9RVpwOLQ?rel=0&amp;controls=0&amp;showinfo=0\" frameborder=\"0\" allowfullscreen></iframe>')"
   ]
  },
  {
   "cell_type": "markdown",
   "metadata": {},
   "source": [
    "- **Cluster 2 is definetely characterized as being very high energy electronic/house/techno tunes**"
   ]
  },
  {
   "cell_type": "markdown",
   "metadata": {},
   "source": [
    "### Cluster 3 Samples:"
   ]
  },
  {
   "cell_type": "markdown",
   "metadata": {},
   "source": [
    "**Sample 1:**"
   ]
  },
  {
   "cell_type": "code",
   "execution_count": 175,
   "metadata": {},
   "outputs": [
    {
     "data": {
      "text/html": [
       "<iframe width=\"560\" height=\"315\" src=\"https://www.youtube.com/embed/PK0M_LXJHWU?rel=0&amp;controls=0&amp;showinfo=0\" frameborder=\"0\" allowfullscreen></iframe>"
      ],
      "text/plain": [
       "<IPython.core.display.HTML object>"
      ]
     },
     "execution_count": 175,
     "metadata": {},
     "output_type": "execute_result"
    }
   ],
   "source": [
    "HTML('<iframe width=\"560\" height=\"315\" src=\"https://www.youtube.com/embed/PK0M_LXJHWU?rel=0&amp;controls=0&amp;showinfo=0\" frameborder=\"0\" allowfullscreen></iframe>')"
   ]
  },
  {
   "cell_type": "markdown",
   "metadata": {},
   "source": [
    "**Sample 2:**"
   ]
  },
  {
   "cell_type": "code",
   "execution_count": 176,
   "metadata": {},
   "outputs": [
    {
     "data": {
      "text/html": [
       "<iframe width=\"560\" height=\"315\" src=\"https://www.youtube.com/embed/uK9TTiXWVrA?rel=0&amp;controls=0&amp;showinfo=0\" frameborder=\"0\" allowfullscreen></iframe>"
      ],
      "text/plain": [
       "<IPython.core.display.HTML object>"
      ]
     },
     "execution_count": 176,
     "metadata": {},
     "output_type": "execute_result"
    }
   ],
   "source": [
    "HTML('<iframe width=\"560\" height=\"315\" src=\"https://www.youtube.com/embed/uK9TTiXWVrA?rel=0&amp;controls=0&amp;showinfo=0\" frameborder=\"0\" allowfullscreen></iframe>')"
   ]
  },
  {
   "cell_type": "markdown",
   "metadata": {},
   "source": [
    "**Sample 3:**"
   ]
  },
  {
   "cell_type": "code",
   "execution_count": 177,
   "metadata": {},
   "outputs": [
    {
     "data": {
      "text/html": [
       "<iframe width=\"560\" height=\"315\" src=\"https://www.youtube.com/embed/WgHrNSqnSIo?rel=0&amp;controls=0&amp;showinfo=0\" frameborder=\"0\" allowfullscreen></iframe>"
      ],
      "text/plain": [
       "<IPython.core.display.HTML object>"
      ]
     },
     "execution_count": 177,
     "metadata": {},
     "output_type": "execute_result"
    }
   ],
   "source": [
    "HTML('<iframe width=\"560\" height=\"315\" src=\"https://www.youtube.com/embed/WgHrNSqnSIo?rel=0&amp;controls=0&amp;showinfo=0\" frameborder=\"0\" allowfullscreen></iframe>')"
   ]
  },
  {
   "cell_type": "markdown",
   "metadata": {},
   "source": [
    "**Sample 4:**"
   ]
  },
  {
   "cell_type": "code",
   "execution_count": 179,
   "metadata": {},
   "outputs": [
    {
     "data": {
      "text/html": [
       "<iframe width=\"560\" height=\"315\" src=\"https://www.youtube.com/embed/-FkiS1RN5zE?rel=0&amp;controls=0&amp;showinfo=0\" frameborder=\"0\" allowfullscreen></iframe>"
      ],
      "text/plain": [
       "<IPython.core.display.HTML object>"
      ]
     },
     "execution_count": 179,
     "metadata": {},
     "output_type": "execute_result"
    }
   ],
   "source": [
    "HTML('<iframe width=\"560\" height=\"315\" src=\"https://www.youtube.com/embed/-FkiS1RN5zE?rel=0&amp;controls=0&amp;showinfo=0\" frameborder=\"0\" allowfullscreen></iframe>')"
   ]
  },
  {
   "cell_type": "markdown",
   "metadata": {},
   "source": [
    "**Sample 5:**"
   ]
  },
  {
   "cell_type": "code",
   "execution_count": 180,
   "metadata": {},
   "outputs": [
    {
     "data": {
      "text/html": [
       "<iframe width=\"560\" height=\"315\" src=\"https://www.youtube.com/embed/9olcTJmDphA?rel=0&amp;controls=0&amp;showinfo=0\" frameborder=\"0\" allowfullscreen></iframe>"
      ],
      "text/plain": [
       "<IPython.core.display.HTML object>"
      ]
     },
     "execution_count": 180,
     "metadata": {},
     "output_type": "execute_result"
    }
   ],
   "source": [
    "HTML('<iframe width=\"560\" height=\"315\" src=\"https://www.youtube.com/embed/9olcTJmDphA?rel=0&amp;controls=0&amp;showinfo=0\" frameborder=\"0\" allowfullscreen></iframe>')"
   ]
  },
  {
   "cell_type": "markdown",
   "metadata": {},
   "source": [
    "- **This final cluster is defintely characterized by a more melancholoy sound, with a lot of pianos, string orchestras and some songs with lyrics (but ones with a somber tone).**"
   ]
  },
  {
   "cell_type": "markdown",
   "metadata": {},
   "source": [
    "# Principle component analysis (PCA)\n",
    "\n"
   ]
  },
  {
   "cell_type": "markdown",
   "metadata": {},
   "source": [
    "**Let's use PCA to reduces the dimension of our data from a high dimensional space, to a lower 2d space, where we can visualise relationships between clusters. Read more about PCA here:**\n",
    "\n",
    "- https://en.wikipedia.org/wiki/Principal_component_analysis#:~:text=Principal%20component%20analysis%20(PCA)%20is,components%20and%20ignoring%20the%20rest."
   ]
  },
  {
   "cell_type": "markdown",
   "metadata": {},
   "source": [
    "### Import PCA"
   ]
  },
  {
   "cell_type": "code",
   "execution_count": 181,
   "metadata": {},
   "outputs": [],
   "source": [
    "from sklearn import decomposition"
   ]
  },
  {
   "cell_type": "markdown",
   "metadata": {},
   "source": [
    "### Let's reduce the dimensions to a 2d space for visualisation purposes"
   ]
  },
  {
   "cell_type": "code",
   "execution_count": 182,
   "metadata": {},
   "outputs": [],
   "source": [
    "pca=decomposition.PCA(n_components=2)\n",
    "pca_result = pca.fit_transform(features)"
   ]
  },
  {
   "cell_type": "markdown",
   "metadata": {},
   "source": [
    "### Put results in a dataframe"
   ]
  },
  {
   "cell_type": "code",
   "execution_count": 183,
   "metadata": {},
   "outputs": [],
   "source": [
    "pca_df=pd.DataFrame(pca_result, columns=['x','y'])"
   ]
  },
  {
   "cell_type": "code",
   "execution_count": 184,
   "metadata": {
    "scrolled": true
   },
   "outputs": [
    {
     "data": {
      "text/html": [
       "<div>\n",
       "<style scoped>\n",
       "    .dataframe tbody tr th:only-of-type {\n",
       "        vertical-align: middle;\n",
       "    }\n",
       "\n",
       "    .dataframe tbody tr th {\n",
       "        vertical-align: top;\n",
       "    }\n",
       "\n",
       "    .dataframe thead th {\n",
       "        text-align: right;\n",
       "    }\n",
       "</style>\n",
       "<table border=\"1\" class=\"dataframe\">\n",
       "  <thead>\n",
       "    <tr style=\"text-align: right;\">\n",
       "      <th></th>\n",
       "      <th>x</th>\n",
       "      <th>y</th>\n",
       "      <th>cluster</th>\n",
       "    </tr>\n",
       "  </thead>\n",
       "  <tbody>\n",
       "    <tr>\n",
       "      <th>0</th>\n",
       "      <td>-0.236803</td>\n",
       "      <td>0.115712</td>\n",
       "      <td>1</td>\n",
       "    </tr>\n",
       "    <tr>\n",
       "      <th>1</th>\n",
       "      <td>-0.560897</td>\n",
       "      <td>-0.287728</td>\n",
       "      <td>0</td>\n",
       "    </tr>\n",
       "    <tr>\n",
       "      <th>2</th>\n",
       "      <td>-0.435915</td>\n",
       "      <td>-0.403281</td>\n",
       "      <td>0</td>\n",
       "    </tr>\n",
       "    <tr>\n",
       "      <th>3</th>\n",
       "      <td>-0.351084</td>\n",
       "      <td>-0.349906</td>\n",
       "      <td>0</td>\n",
       "    </tr>\n",
       "    <tr>\n",
       "      <th>4</th>\n",
       "      <td>0.828912</td>\n",
       "      <td>0.030960</td>\n",
       "      <td>3</td>\n",
       "    </tr>\n",
       "  </tbody>\n",
       "</table>\n",
       "</div>"
      ],
      "text/plain": [
       "          x         y  cluster\n",
       "0 -0.236803  0.115712        1\n",
       "1 -0.560897 -0.287728        0\n",
       "2 -0.435915 -0.403281        0\n",
       "3 -0.351084 -0.349906        0\n",
       "4  0.828912  0.030960        3"
      ]
     },
     "execution_count": 184,
     "metadata": {},
     "output_type": "execute_result"
    }
   ],
   "source": [
    "pca_df['cluster']=predictions\n",
    "pca_df.head()"
   ]
  },
  {
   "cell_type": "markdown",
   "metadata": {},
   "source": [
    "### Finally, lets visualize how our clusters interact with one another"
   ]
  },
  {
   "cell_type": "code",
   "execution_count": 155,
   "metadata": {},
   "outputs": [
    {
     "data": {
      "text/plain": [
       "<matplotlib.axes._subplots.AxesSubplot at 0x118447850>"
      ]
     },
     "execution_count": 155,
     "metadata": {},
     "output_type": "execute_result"
    },
    {
     "data": {
      "image/png": "[encoded data removed]",
      "text/plain": [
       "<Figure size 720x432 with 1 Axes>"
      ]
     },
     "metadata": {
      "needs_background": "light"
     },
     "output_type": "display_data"
    }
   ],
   "source": [
    "plt.figure(figsize=(10,6))\n",
    "sns.scatterplot(pca_df['x'],pca_df['y'], hue=pca_df['cluster'])"
   ]
  },
  {
   "cell_type": "markdown",
   "metadata": {},
   "source": [
    "**There seems to be a bit of noise between a bit of overlap/noise between clusters 1 and 2. This makes a lot of sense since we characterized songs in cluster one as being upbeat/dancey songs, while cluster 2 as being very high energy electronic/techno/house tunes- which you can easily dance too as well**"
   ]
  },
  {
   "cell_type": "markdown",
   "metadata": {},
   "source": [
    "## Get the cluster centers"
   ]
  },
  {
   "cell_type": "markdown",
   "metadata": {},
   "source": [
    "- **K-means works by clustering the data around central points (often called centroids, means or cluster centers). We can extract the cluster centres from the kmeans object.**"
   ]
  },
  {
   "cell_type": "code",
   "execution_count": 210,
   "metadata": {},
   "outputs": [
    {
     "data": {
      "text/plain": [
       "array([[0.644096  , 0.675968  , 0.13309091, 0.82829517, 0.1520184 ,\n",
       "        0.15990368, 0.0244332 , 0.2057536 , 0.4866208 , 0.41508795],\n",
       "       [0.65727273, 0.62573295, 0.70971074, 0.80578876, 0.14050966,\n",
       "        0.22452358, 0.02058972, 0.19299943, 0.54730795, 0.39898435],\n",
       "       [0.67916667, 0.71777778, 0.54208754, 0.7644619 , 0.06075556,\n",
       "        0.12378681, 0.76042593, 0.1613963 , 0.4346037 , 0.42163735],\n",
       "       [0.44633548, 0.29810409, 0.4340176 , 0.57434493, 0.04926344,\n",
       "        0.8393871 , 0.47697841, 0.15673871, 0.20300108, 0.40520218]])"
      ]
     },
     "execution_count": 210,
     "metadata": {},
     "output_type": "execute_result"
    }
   ],
   "source": [
    "model.cluster_centers_"
   ]
  },
  {
   "cell_type": "markdown",
   "metadata": {},
   "source": [
    "### Plot cluster centers"
   ]
  },
  {
   "cell_type": "markdown",
   "metadata": {},
   "source": [
    "**It is tricky to plot these using seaborn but we can use a normal maplotlib scatter plot. Let us grab the groups.**"
   ]
  },
  {
   "cell_type": "code",
   "execution_count": 202,
   "metadata": {},
   "outputs": [],
   "source": [
    "# group1 = pca_df[pca_df['cluster'] == 0]\n",
    "# group2 = pca_df[pca_df['cluster'] == 1]\n",
    "# group3 = pca_df[pca_df['cluster'] == 2]\n",
    "# group4 = pca_df[pca_df['cluster'] == 3]"
   ]
  },
  {
   "cell_type": "code",
   "execution_count": 203,
   "metadata": {},
   "outputs": [],
   "source": [
    "# centres = model.cluster_centers_\n",
    "\n",
    "# data = {'x': [centres[0][0], centres[1][0], centres[2][0], centres[3][0]],\n",
    "#         'y': [centres[0][9], centres[1][9], centres[2][9], centres[3][9]]}\n",
    "\n",
    "# df = pd.DataFrame (data, columns = ['x', 'y'])"
   ]
  },
  {
   "cell_type": "code",
   "execution_count": null,
   "metadata": {},
   "outputs": [],
   "source": []
  },
  {
   "cell_type": "code",
   "execution_count": 208,
   "metadata": {
    "scrolled": false
   },
   "outputs": [
    {
     "data": {
      "text/plain": [
       "<matplotlib.collections.PathCollection at 0x11d11d510>"
      ]
     },
     "execution_count": 208,
     "metadata": {},
     "output_type": "execute_result"
    },
    {
     "data": {
      "image/png": "[encoded data removed]",
      "text/plain": [
       "<Figure size 432x288 with 1 Axes>"
      ]
     },
     "metadata": {
      "needs_background": "light"
     },
     "output_type": "display_data"
    }
   ],
   "source": [
    "# plt.scatter(pca_df['x'], pca_df['y'], c=pca_df['cluster'], s=50, cmap='viridis')\n",
    "\n",
    "# centers = model.cluster_centers_\n",
    "# plt.scatter(centers[:, 0], centers[:, 3], c='black', s=200, alpha=0.5)"
   ]
  },
  {
   "cell_type": "markdown",
   "metadata": {},
   "source": [
    "# Part 4 - Turn clusters into Spotify playlists"
   ]
  },
  {
   "cell_type": "markdown",
   "metadata": {},
   "source": [
    "### We're going to need our credentials again - this time we need to change the scope from 'user-read-recently-played' to 'playlist-modify-public'"
   ]
  },
  {
   "cell_type": "code",
   "execution_count": 247,
   "metadata": {},
   "outputs": [],
   "source": [
    "import spotipy.util as util\n",
    "import spotipy\n",
    "from credential import creds #I stored my credential in a secret file\n",
    "\n",
    "username = creds['username']\n",
    "client_id = creds['client_id']\n",
    "client_secret = creds['client_secret']\n",
    "redirect_uri = 'http://localhost:7777/callback'\n",
    "scope = 'playlist-modify-public'\n",
    "\n",
    "token = util.prompt_for_user_token(username=username, \n",
    "                                   scope=scope, \n",
    "                                   client_id=client_id,   \n",
    "                                   client_secret=client_secret,     \n",
    "                                   redirect_uri=redirect_uri)"
   ]
  },
  {
   "cell_type": "markdown",
   "metadata": {},
   "source": [
    "### Build a function that will create playlists on my spotify account"
   ]
  },
  {
   "cell_type": "code",
   "execution_count": 248,
   "metadata": {},
   "outputs": [],
   "source": [
    "import requests\n",
    "def create_playlist(user_id, playlist_name, token):\n",
    "    \n",
    "    headers = {\n",
    "        'Accept': 'application/json',\n",
    "        'Content-Type': 'application/json',\n",
    "        'Authorization': f'Bearer ' + token}\n",
    "    \n",
    "    \n",
    "    import json\n",
    "    user_id = \"omelettesforbreakfast\"\n",
    "    endpoint_url = f\"https://api.spotify.com/v1/users/{user_id}/playlists\"\n",
    "    request_body = json.dumps({\n",
    "              \"name\": playlist_name,\n",
    "              \"description\": \"This playlist was created by a machine learning algorithm. Pretty cool huh?\",\n",
    "              \"public\": True\n",
    "            })\n",
    "    response = requests.post(url = endpoint_url, data = request_body, headers=headers)\n",
    "    \n",
    "    return response\n",
    "\n"
   ]
  },
  {
   "cell_type": "markdown",
   "metadata": {},
   "source": [
    "### Let's create a bunch of playlist names"
   ]
  },
  {
   "cell_type": "code",
   "execution_count": 249,
   "metadata": {},
   "outputs": [],
   "source": [
    "playlist_names = ['cluster0-chillVibes',\n",
    "                  'cluster1-upbeatVibes', \n",
    "                  'cluster2-electro/house/techno/danceVibes',\n",
    "                  'cluster3-inspirational/melancholyVibes']"
   ]
  },
  {
   "cell_type": "markdown",
   "metadata": {},
   "source": [
    "### Now let's use the function we created earlier, looping through the playlist names to create 4 f=playlists"
   ]
  },
  {
   "cell_type": "code",
   "execution_count": 250,
   "metadata": {},
   "outputs": [
    {
     "name": "stdout",
     "output_type": "stream",
     "text": [
      "Playlist cluster0-chillVibes created\n",
      "Playlist cluster1-upbeatVibes created\n",
      "Playlist cluster2-electro/house/techno/danceVibes created\n",
      "Playlist cluster3-inspirational/melancholyVibes created\n"
     ]
    }
   ],
   "source": [
    "for i in playlist_names:\n",
    "    create_playlist('spotify:user:omelettesforbreakfast', i, token)\n",
    "    print(f'Playlist {i} created')"
   ]
  },
  {
   "cell_type": "markdown",
   "metadata": {},
   "source": [
    "- **I just checked my spotify and that seems to have worked**"
   ]
  },
  {
   "cell_type": "markdown",
   "metadata": {},
   "source": [
    "### Now let's add songs to each of our playlists"
   ]
  },
  {
   "cell_type": "code",
   "execution_count": 252,
   "metadata": {},
   "outputs": [
    {
     "data": {
      "image/jpeg": "[encoded data removed]",
      "text/html": [
       "\n",
       "        <iframe\n",
       "            width=\"800\"\n",
       "            height=\"500\"\n",
       "            src=\"https://www.youtube.com/embed/WSbgixdC9g8\"\n",
       "            frameborder=\"0\"\n",
       "            allowfullscreen\n",
       "        ></iframe>\n",
       "        "
      ],
      "text/plain": [
       "<IPython.lib.display.YouTubeVideo at 0x116ab5cd0>"
      ]
     },
     "execution_count": 252,
     "metadata": {},
     "output_type": "execute_result"
    }
   ],
   "source": [
    "from IPython.display import YouTubeVideo\n",
    "\n",
    "YouTubeVideo('WSbgixdC9g8', width=800, height=500)"
   ]
  },
  {
   "cell_type": "markdown",
   "metadata": {},
   "source": [
    "# THE END !"
   ]
  }
 ],
 "metadata": {
  "kernelspec": {
   "display_name": "Python 3",
   "language": "python",
   "name": "python3"
  },
  "language_info": {
   "codemirror_mode": {
    "name": "ipython",
    "version": 3
   },
   "file_extension": ".py",
   "mimetype": "text/x-python",
   "name": "python",
   "nbconvert_exporter": "python",
   "pygments_lexer": "ipython3",
   "version": "3.7.4"
  }
 },
 "nbformat": 4,
 "nbformat_minor": 2
}
